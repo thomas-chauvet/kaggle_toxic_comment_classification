{
 "cells": [
  {
   "cell_type": "markdown",
   "metadata": {},
   "source": [
    "# Library"
   ]
  },
  {
   "cell_type": "code",
   "execution_count": 1,
   "metadata": {
    "ExecuteTime": {
     "end_time": "2018-12-01T11:17:34.192741Z",
     "start_time": "2018-12-01T11:17:28.838038Z"
    },
    "collapsed": true
   },
   "outputs": [],
   "source": [
    "import pandas as pd\n",
    "import numpy as np\n",
    "\n",
    "from nltk.corpus import stopwords\n",
    "from nltk.stem import WordNetLemmatizer\n",
    "\n",
    "import unidecode\n",
    "import string\n",
    "\n",
    "import matplotlib\n",
    "import matplotlib.pyplot as plt\n",
    "import seaborn as sns\n",
    "\n",
    "from sklearn.pipeline import Pipeline\n",
    "from sklearn.model_selection import GridSearchCV\n",
    "from sklearn.feature_extraction.text import TfidfVectorizer\n",
    "from sklearn.linear_model import LogisticRegression\n",
    "from sklearn.naive_bayes import MultinomialNB\n",
    "from sklearn.metrics import log_loss\n",
    "\n",
    "from sklearn.model_selection import train_test_split\n",
    "\n",
    "from scipy import sparse"
   ]
  },
  {
   "cell_type": "markdown",
   "metadata": {},
   "source": [
    "# Data"
   ]
  },
  {
   "cell_type": "markdown",
   "metadata": {},
   "source": [
    "## train"
   ]
  },
  {
   "cell_type": "code",
   "execution_count": 2,
   "metadata": {
    "ExecuteTime": {
     "end_time": "2018-12-01T11:17:39.648732Z",
     "start_time": "2018-12-01T11:17:34.197014Z"
    }
   },
   "outputs": [
    {
     "data": {
      "text/html": [
       "<div>\n",
       "<style scoped>\n",
       "    .dataframe tbody tr th:only-of-type {\n",
       "        vertical-align: middle;\n",
       "    }\n",
       "\n",
       "    .dataframe tbody tr th {\n",
       "        vertical-align: top;\n",
       "    }\n",
       "\n",
       "    .dataframe thead th {\n",
       "        text-align: right;\n",
       "    }\n",
       "</style>\n",
       "<table border=\"1\" class=\"dataframe\">\n",
       "  <thead>\n",
       "    <tr style=\"text-align: right;\">\n",
       "      <th></th>\n",
       "      <th>id</th>\n",
       "      <th>comment_text</th>\n",
       "      <th>toxic</th>\n",
       "      <th>severe_toxic</th>\n",
       "      <th>obscene</th>\n",
       "      <th>threat</th>\n",
       "      <th>insult</th>\n",
       "      <th>identity_hate</th>\n",
       "    </tr>\n",
       "  </thead>\n",
       "  <tbody>\n",
       "    <tr>\n",
       "      <th>0</th>\n",
       "      <td>0000997932d777bf</td>\n",
       "      <td>ExplanationWhy the edits made under my usernam...</td>\n",
       "      <td>0</td>\n",
       "      <td>0</td>\n",
       "      <td>0</td>\n",
       "      <td>0</td>\n",
       "      <td>0</td>\n",
       "      <td>0</td>\n",
       "    </tr>\n",
       "    <tr>\n",
       "      <th>1</th>\n",
       "      <td>000103f0d9cfb60f</td>\n",
       "      <td>D'aww! He matches this background colour I'm s...</td>\n",
       "      <td>0</td>\n",
       "      <td>0</td>\n",
       "      <td>0</td>\n",
       "      <td>0</td>\n",
       "      <td>0</td>\n",
       "      <td>0</td>\n",
       "    </tr>\n",
       "    <tr>\n",
       "      <th>2</th>\n",
       "      <td>000113f07ec002fd</td>\n",
       "      <td>Hey man, I'm really not trying to edit war. It...</td>\n",
       "      <td>0</td>\n",
       "      <td>0</td>\n",
       "      <td>0</td>\n",
       "      <td>0</td>\n",
       "      <td>0</td>\n",
       "      <td>0</td>\n",
       "    </tr>\n",
       "    <tr>\n",
       "      <th>3</th>\n",
       "      <td>0001b41b1c6bb37e</td>\n",
       "      <td>\"MoreI can't make any real suggestions on impr...</td>\n",
       "      <td>0</td>\n",
       "      <td>0</td>\n",
       "      <td>0</td>\n",
       "      <td>0</td>\n",
       "      <td>0</td>\n",
       "      <td>0</td>\n",
       "    </tr>\n",
       "    <tr>\n",
       "      <th>4</th>\n",
       "      <td>0001d958c54c6e35</td>\n",
       "      <td>You, sir, are my hero. Any chance you remember...</td>\n",
       "      <td>0</td>\n",
       "      <td>0</td>\n",
       "      <td>0</td>\n",
       "      <td>0</td>\n",
       "      <td>0</td>\n",
       "      <td>0</td>\n",
       "    </tr>\n",
       "  </tbody>\n",
       "</table>\n",
       "</div>"
      ],
      "text/plain": [
       "                 id                                       comment_text  toxic  \\\n",
       "0  0000997932d777bf  ExplanationWhy the edits made under my usernam...      0   \n",
       "1  000103f0d9cfb60f  D'aww! He matches this background colour I'm s...      0   \n",
       "2  000113f07ec002fd  Hey man, I'm really not trying to edit war. It...      0   \n",
       "3  0001b41b1c6bb37e  \"MoreI can't make any real suggestions on impr...      0   \n",
       "4  0001d958c54c6e35  You, sir, are my hero. Any chance you remember...      0   \n",
       "\n",
       "   severe_toxic  obscene  threat  insult  identity_hate  \n",
       "0             0        0       0       0              0  \n",
       "1             0        0       0       0              0  \n",
       "2             0        0       0       0              0  \n",
       "3             0        0       0       0              0  \n",
       "4             0        0       0       0              0  "
      ]
     },
     "execution_count": 2,
     "metadata": {},
     "output_type": "execute_result"
    }
   ],
   "source": [
    "df_train = pd.read_csv(\"../data/input/train.csv\")\n",
    "df_train.comment_text = df_train.comment_text.str.replace(\"\\n\", \"\")\n",
    "targets = [\n",
    "    'toxic', 'severe_toxic', 'obscene', 'threat', 'insult', 'identity_hate'\n",
    "]\n",
    "\n",
    "df_train.head()"
   ]
  },
  {
   "cell_type": "code",
   "execution_count": 3,
   "metadata": {
    "ExecuteTime": {
     "end_time": "2018-12-01T11:17:39.742553Z",
     "start_time": "2018-12-01T11:17:39.658843Z"
    }
   },
   "outputs": [
    {
     "data": {
      "text/plain": [
       "id               0\n",
       "comment_text     0\n",
       "toxic            0\n",
       "severe_toxic     0\n",
       "obscene          0\n",
       "threat           0\n",
       "insult           0\n",
       "identity_hate    0\n",
       "dtype: int64"
      ]
     },
     "execution_count": 3,
     "metadata": {},
     "output_type": "execute_result"
    }
   ],
   "source": [
    "# Check NaN\n",
    "df_train.isnull().sum()"
   ]
  },
  {
   "cell_type": "markdown",
   "metadata": {},
   "source": [
    "## Test"
   ]
  },
  {
   "cell_type": "code",
   "execution_count": 4,
   "metadata": {
    "ExecuteTime": {
     "end_time": "2018-12-01T11:17:40.894954Z",
     "start_time": "2018-12-01T11:17:39.749729Z"
    }
   },
   "outputs": [
    {
     "data": {
      "text/html": [
       "<div>\n",
       "<style scoped>\n",
       "    .dataframe tbody tr th:only-of-type {\n",
       "        vertical-align: middle;\n",
       "    }\n",
       "\n",
       "    .dataframe tbody tr th {\n",
       "        vertical-align: top;\n",
       "    }\n",
       "\n",
       "    .dataframe thead th {\n",
       "        text-align: right;\n",
       "    }\n",
       "</style>\n",
       "<table border=\"1\" class=\"dataframe\">\n",
       "  <thead>\n",
       "    <tr style=\"text-align: right;\">\n",
       "      <th></th>\n",
       "      <th>id</th>\n",
       "      <th>comment_text</th>\n",
       "    </tr>\n",
       "  </thead>\n",
       "  <tbody>\n",
       "    <tr>\n",
       "      <th>0</th>\n",
       "      <td>00001cee341fdb12</td>\n",
       "      <td>Yo bitch Ja Rule is more succesful then you'll...</td>\n",
       "    </tr>\n",
       "    <tr>\n",
       "      <th>1</th>\n",
       "      <td>0000247867823ef7</td>\n",
       "      <td>== From RfC == \\n\\n The title is fine as it is...</td>\n",
       "    </tr>\n",
       "    <tr>\n",
       "      <th>2</th>\n",
       "      <td>00013b17ad220c46</td>\n",
       "      <td>\" \\n\\n == Sources == \\n\\n * Zawe Ashton on Lap...</td>\n",
       "    </tr>\n",
       "    <tr>\n",
       "      <th>3</th>\n",
       "      <td>00017563c3f7919a</td>\n",
       "      <td>:If you have a look back at the source, the in...</td>\n",
       "    </tr>\n",
       "    <tr>\n",
       "      <th>4</th>\n",
       "      <td>00017695ad8997eb</td>\n",
       "      <td>I don't anonymously edit articles at all.</td>\n",
       "    </tr>\n",
       "  </tbody>\n",
       "</table>\n",
       "</div>"
      ],
      "text/plain": [
       "                 id                                       comment_text\n",
       "0  00001cee341fdb12  Yo bitch Ja Rule is more succesful then you'll...\n",
       "1  0000247867823ef7  == From RfC == \\n\\n The title is fine as it is...\n",
       "2  00013b17ad220c46  \" \\n\\n == Sources == \\n\\n * Zawe Ashton on Lap...\n",
       "3  00017563c3f7919a  :If you have a look back at the source, the in...\n",
       "4  00017695ad8997eb          I don't anonymously edit articles at all."
      ]
     },
     "execution_count": 4,
     "metadata": {},
     "output_type": "execute_result"
    }
   ],
   "source": [
    "df_test = pd.read_csv(\"../data/input/test.csv\")\n",
    "df_test.head()"
   ]
  },
  {
   "cell_type": "code",
   "execution_count": 5,
   "metadata": {
    "ExecuteTime": {
     "end_time": "2018-12-01T11:17:40.971929Z",
     "start_time": "2018-12-01T11:17:40.898948Z"
    }
   },
   "outputs": [
    {
     "data": {
      "text/plain": [
       "id              0\n",
       "comment_text    0\n",
       "dtype: int64"
      ]
     },
     "execution_count": 5,
     "metadata": {},
     "output_type": "execute_result"
    }
   ],
   "source": [
    "# Check NaN\n",
    "df_test.isnull().sum()"
   ]
  },
  {
   "cell_type": "code",
   "execution_count": 6,
   "metadata": {
    "ExecuteTime": {
     "end_time": "2018-12-01T11:17:41.465112Z",
     "start_time": "2018-12-01T11:17:40.979040Z"
    },
    "collapsed": true
   },
   "outputs": [],
   "source": [
    "df_test.loc[df_test.comment_text.isnull(), \"comment_text\"] = \"nan\"\n",
    "df_test.comment_text = df_test.comment_text.str.replace(\"\\n\", \"\")"
   ]
  },
  {
   "cell_type": "markdown",
   "metadata": {},
   "source": [
    "# Text cleaning"
   ]
  },
  {
   "cell_type": "code",
   "execution_count": 7,
   "metadata": {
    "ExecuteTime": {
     "end_time": "2018-12-01T11:17:41.482270Z",
     "start_time": "2018-12-01T11:17:41.467470Z"
    },
    "collapsed": true
   },
   "outputs": [],
   "source": [
    "def clean_text(x, lemmatize=False):\n",
    "    if type(x) == np.ndarray:\n",
    "        x = pd.Series(x)\n",
    "    # To lower\n",
    "    x = x.str.lower()\n",
    "    # Remove digits\n",
    "    x = x.str.replace('\\d+', '')\n",
    "    # Remove url\n",
    "    x = x.str.replace('http\\S+', \"\")\n",
    "    # Remove extra white spaces\n",
    "    x = x.str.replace('[^\\w\\s]', ' ')\n",
    "    x = x.str.replace(r\"what's\", \"what is \")\n",
    "    x = x.str.replace(r\"\\'s\", \" \")\n",
    "    x = x.str.replace(r\"\\'ve\", \" have \")\n",
    "    x = x.str.replace(r\"can't\", \"cannot \")\n",
    "    x = x.str.replace(r\"n't\", \" not \")\n",
    "    x = x.str.replace(r\"i'm\", \"i am \")\n",
    "    x = x.str.replace(r\"\\'re\", \" are \")\n",
    "    x = x.str.replace(r\"\\'d\", \" would \")\n",
    "    x = x.str.replace(r\"\\'ll\", \" will \")\n",
    "    x = x.str.replace(r\"\\'scuse\", \" excuse \")\n",
    "    # x = x.str.replace(r\"!\", \" _exclamationmark_ \", x)\n",
    "    # x = x.str.replace(r\"\\?\", \" _questionmark_ \", x)\n",
    "    # Remove white space begin end string\n",
    "    x = x.str.strip()\n",
    "    if lemmatize:\n",
    "        lemmatiser = WordNetLemmatizer()\n",
    "        x = x.map(lambda sentence : \" \".join([lemmatiser.lemmatize(word.strip()) for word in sentence.split(' ') if word not in [\"\", \" \", \"  \"]]))\n",
    "    # Remove punctuation\n",
    "    translator = str.maketrans('', '', string.punctuation)\n",
    "    x = x.map(lambda sentence: sentence.translate(translator))\n",
    "    # Remove stopwords\n",
    "    stop_words = stopwords.words('english') + [\"wikipedia\", \"wiki\"]\n",
    "    x = x.map(lambda sentence : \" \".join([word for word in sentence.split(\" \") if (word not in stop_words) and (len(word) > 1)]))\n",
    "    return x.values"
   ]
  },
  {
   "cell_type": "markdown",
   "metadata": {},
   "source": [
    "# Add features"
   ]
  },
  {
   "cell_type": "code",
   "execution_count": 8,
   "metadata": {
    "ExecuteTime": {
     "end_time": "2018-12-01T11:17:41.498660Z",
     "start_time": "2018-12-01T11:17:41.485713Z"
    },
    "collapsed": true
   },
   "outputs": [],
   "source": [
    "def add_features(x):\n",
    "    if type(x) == np.ndarray:\n",
    "        df = pd.Series(x).rename(\"comment_text\").to_frame()\n",
    "    if type(x) == pd.core.series.Series:\n",
    "        df = x.rename(\"comment_text\").to_frame()\n",
    "    df[\"n_interrogation\"] = df.comment_text.str.count(\"\\\\?\")\n",
    "    df[\"n_exclamation\"] = df.comment_text.str.count(\"\\\\!\")\n",
    "    df[\"n_dot\"] = df.comment_text.str.count(\"\\\\.\")\n",
    "    df[\"n_coma\"] = df.comment_text.str.count(\"\\\\,\")\n",
    "    df[\"n_upper\"] = df.comment_text.str.count(\"[A-Z]\")\n",
    "    df[\"length\"] = df.comment_text.map(len)\n",
    "    df[\"n_words\"] = df.comment_text.str.split().map(len)\n",
    "\n",
    "    df[\"ratio_interrogation_n_words\"] = df[\"n_interrogation\"] / df[\"n_words\"]\n",
    "    df[\"ratio_exclamation_n_words\"] = df[\"n_exclamation\"] / df[\"n_words\"]\n",
    "    df[\"ratio_dot_n_words\"] = df[\"n_dot\"] / df[\"n_words\"]\n",
    "    df[\"ratio_coma_n_words\"] = df[\"n_coma\"] / df[\"n_words\"]\n",
    "    df[\"ratio_upper_n_words\"] = df[\"n_upper\"] / df[\"n_words\"]\n",
    "\n",
    "    df[\"ratio_interrogation_length\"] = df[\"n_interrogation\"] / df[\"length\"]\n",
    "    df[\"ratio_exclamation_length\"] = df[\"n_exclamation\"] / df[\"length\"]\n",
    "    df[\"ratio_dot_length\"] = df[\"n_dot\"] / df[\"length\"]\n",
    "    df[\"ratio_coma_length\"] = df[\"n_coma\"] / df[\"length\"]\n",
    "    df[\"ratio_upper_length\"] = df[\"n_upper\"] / df[\"length\"]\n",
    "    return df"
   ]
  },
  {
   "cell_type": "markdown",
   "metadata": {},
   "source": [
    "# Train, Valid, Test"
   ]
  },
  {
   "cell_type": "code",
   "execution_count": 9,
   "metadata": {
    "ExecuteTime": {
     "end_time": "2018-12-01T11:17:41.995838Z",
     "start_time": "2018-12-01T11:17:41.500724Z"
    }
   },
   "outputs": [
    {
     "name": "stdout",
     "output_type": "stream",
     "text": [
      "Distribution of Total Positive Labels (important for validation)\n",
      "0    143346\n",
      "1      6360\n",
      "3      4209\n",
      "2      3480\n",
      "4      1760\n",
      "5       385\n",
      "6        31\n",
      "dtype: int64\n",
      "Training: (135635,)\n",
      "Testing: (23936,)\n"
     ]
    }
   ],
   "source": [
    "any_category_positive = np.sum(df_train[targets], 1)\n",
    "\n",
    "print('Distribution of Total Positive Labels (important for validation)')\n",
    "print(pd.value_counts(any_category_positive))\n",
    "\n",
    "X_train, X_test, y_train, y_test = train_test_split(\n",
    "    df_train.comment_text,\n",
    "    df_train[targets],\n",
    "    test_size=0.15,\n",
    "    stratify=any_category_positive,\n",
    "    random_state=777)\n",
    "print('Training:', X_train.shape)\n",
    "print('Testing:', X_test.shape)"
   ]
  },
  {
   "cell_type": "markdown",
   "metadata": {},
   "source": [
    "# Baseline Model : Logistic Regression"
   ]
  },
  {
   "cell_type": "code",
   "execution_count": 10,
   "metadata": {
    "ExecuteTime": {
     "end_time": "2018-12-01T11:17:42.006251Z",
     "start_time": "2018-12-01T11:17:41.998993Z"
    },
    "collapsed": true
   },
   "outputs": [],
   "source": [
    "def logistic_model(X_train,\n",
    "                   y_train,\n",
    "                   X_test,\n",
    "                   y_test,\n",
    "                   targets=targets,\n",
    "                   penalty=\"l2\"):\n",
    "    metric = []\n",
    "    for target in targets:\n",
    "        print(\"_____________\")\n",
    "        print(target)\n",
    "        model = LogisticRegression(penalty=penalty)\n",
    "        model.fit(X_train, y_train[target])\n",
    "        score = log_loss(\n",
    "            y_pred=model.predict_proba(X_test)[:, 1], y_true=y_test[target])\n",
    "        print(score)\n",
    "        metric.append(score)\n",
    "    return metric"
   ]
  },
  {
   "cell_type": "markdown",
   "metadata": {},
   "source": [
    "## Raw tfidf"
   ]
  },
  {
   "cell_type": "code",
   "execution_count": 11,
   "metadata": {
    "ExecuteTime": {
     "end_time": "2018-12-01T11:18:00.130154Z",
     "start_time": "2018-12-01T11:17:42.009060Z"
    },
    "collapsed": true
   },
   "outputs": [],
   "source": [
    "tfidf_vectorizer = TfidfVectorizer(\n",
    "    max_df=0.95,\n",
    "    min_df=5,\n",
    "    max_features=10000,\n",
    "    strip_accents=\"unicode\",\n",
    "    stop_words=None,\n",
    "    lowercase=False).fit(X_train)"
   ]
  },
  {
   "cell_type": "code",
   "execution_count": 12,
   "metadata": {
    "ExecuteTime": {
     "end_time": "2018-12-01T11:18:33.593219Z",
     "start_time": "2018-12-01T11:18:00.135699Z"
    }
   },
   "outputs": [
    {
     "name": "stdout",
     "output_type": "stream",
     "text": [
      "_____________\n",
      "toxic\n"
     ]
    },
    {
     "name": "stderr",
     "output_type": "stream",
     "text": [
      "/Users/Thomas/anaconda3/envs/kaggle_text_classification/lib/python3.6/site-packages/sklearn/linear_model/logistic.py:433: FutureWarning: Default solver will be changed to 'lbfgs' in 0.22. Specify a solver to silence this warning.\n",
      "  FutureWarning)\n"
     ]
    },
    {
     "name": "stdout",
     "output_type": "stream",
     "text": [
      "0.11982737293832783\n",
      "_____________\n",
      "severe_toxic\n"
     ]
    },
    {
     "name": "stderr",
     "output_type": "stream",
     "text": [
      "/Users/Thomas/anaconda3/envs/kaggle_text_classification/lib/python3.6/site-packages/sklearn/linear_model/logistic.py:433: FutureWarning: Default solver will be changed to 'lbfgs' in 0.22. Specify a solver to silence this warning.\n",
      "  FutureWarning)\n"
     ]
    },
    {
     "name": "stdout",
     "output_type": "stream",
     "text": [
      "0.027704352758409347\n",
      "_____________\n",
      "obscene\n"
     ]
    },
    {
     "name": "stderr",
     "output_type": "stream",
     "text": [
      "/Users/Thomas/anaconda3/envs/kaggle_text_classification/lib/python3.6/site-packages/sklearn/linear_model/logistic.py:433: FutureWarning: Default solver will be changed to 'lbfgs' in 0.22. Specify a solver to silence this warning.\n",
      "  FutureWarning)\n"
     ]
    },
    {
     "name": "stdout",
     "output_type": "stream",
     "text": [
      "0.07193729926363092\n",
      "_____________\n",
      "threat\n"
     ]
    },
    {
     "name": "stderr",
     "output_type": "stream",
     "text": [
      "/Users/Thomas/anaconda3/envs/kaggle_text_classification/lib/python3.6/site-packages/sklearn/linear_model/logistic.py:433: FutureWarning: Default solver will be changed to 'lbfgs' in 0.22. Specify a solver to silence this warning.\n",
      "  FutureWarning)\n"
     ]
    },
    {
     "name": "stdout",
     "output_type": "stream",
     "text": [
      "0.013538341902874056\n",
      "_____________\n",
      "insult\n"
     ]
    },
    {
     "name": "stderr",
     "output_type": "stream",
     "text": [
      "/Users/Thomas/anaconda3/envs/kaggle_text_classification/lib/python3.6/site-packages/sklearn/linear_model/logistic.py:433: FutureWarning: Default solver will be changed to 'lbfgs' in 0.22. Specify a solver to silence this warning.\n",
      "  FutureWarning)\n"
     ]
    },
    {
     "name": "stdout",
     "output_type": "stream",
     "text": [
      "0.08000075731235863\n",
      "_____________\n",
      "identity_hate\n"
     ]
    },
    {
     "name": "stderr",
     "output_type": "stream",
     "text": [
      "/Users/Thomas/anaconda3/envs/kaggle_text_classification/lib/python3.6/site-packages/sklearn/linear_model/logistic.py:433: FutureWarning: Default solver will be changed to 'lbfgs' in 0.22. Specify a solver to silence this warning.\n",
      "  FutureWarning)\n"
     ]
    },
    {
     "name": "stdout",
     "output_type": "stream",
     "text": [
      "0.027220962534420072\n"
     ]
    }
   ],
   "source": [
    "logloss_raw_tfidf = logistic_model(\n",
    "    tfidf_vectorizer.transform(X_train),\n",
    "    y_train,\n",
    "    tfidf_vectorizer.transform(X_test),\n",
    "    y_test,\n",
    "    targets=targets)"
   ]
  },
  {
   "cell_type": "markdown",
   "metadata": {},
   "source": [
    "## Clean text ?"
   ]
  },
  {
   "cell_type": "code",
   "execution_count": 13,
   "metadata": {
    "ExecuteTime": {
     "end_time": "2018-12-01T11:19:08.965927Z",
     "start_time": "2018-12-01T11:18:33.597582Z"
    },
    "collapsed": true
   },
   "outputs": [],
   "source": [
    "X_train_clean = clean_text(X_train, lemmatize=False)\n",
    "X_test_clean = clean_text(X_test, lemmatize=False)"
   ]
  },
  {
   "cell_type": "code",
   "execution_count": 14,
   "metadata": {
    "ExecuteTime": {
     "end_time": "2018-12-01T11:19:16.917203Z",
     "start_time": "2018-12-01T11:19:08.968172Z"
    },
    "collapsed": true
   },
   "outputs": [],
   "source": [
    "tfidf_vectorizer = TfidfVectorizer(\n",
    "    max_df=0.95,\n",
    "    min_df=5,\n",
    "    max_features=10000,\n",
    "    strip_accents=\"unicode\",\n",
    "    stop_words=None,\n",
    "    lowercase=False).fit(X_train_clean)"
   ]
  },
  {
   "cell_type": "code",
   "execution_count": 15,
   "metadata": {
    "ExecuteTime": {
     "end_time": "2018-12-01T11:19:31.006800Z",
     "start_time": "2018-12-01T11:19:16.919509Z"
    }
   },
   "outputs": [
    {
     "name": "stdout",
     "output_type": "stream",
     "text": [
      "_____________\n",
      "toxic\n"
     ]
    },
    {
     "name": "stderr",
     "output_type": "stream",
     "text": [
      "/Users/Thomas/anaconda3/envs/kaggle_text_classification/lib/python3.6/site-packages/sklearn/linear_model/logistic.py:433: FutureWarning: Default solver will be changed to 'lbfgs' in 0.22. Specify a solver to silence this warning.\n",
      "  FutureWarning)\n"
     ]
    },
    {
     "name": "stdout",
     "output_type": "stream",
     "text": [
      "0.11796055987478306\n",
      "_____________\n",
      "severe_toxic\n"
     ]
    },
    {
     "name": "stderr",
     "output_type": "stream",
     "text": [
      "/Users/Thomas/anaconda3/envs/kaggle_text_classification/lib/python3.6/site-packages/sklearn/linear_model/logistic.py:433: FutureWarning: Default solver will be changed to 'lbfgs' in 0.22. Specify a solver to silence this warning.\n",
      "  FutureWarning)\n"
     ]
    },
    {
     "name": "stdout",
     "output_type": "stream",
     "text": [
      "0.028237114936472393\n",
      "_____________\n",
      "obscene\n"
     ]
    },
    {
     "name": "stderr",
     "output_type": "stream",
     "text": [
      "/Users/Thomas/anaconda3/envs/kaggle_text_classification/lib/python3.6/site-packages/sklearn/linear_model/logistic.py:433: FutureWarning: Default solver will be changed to 'lbfgs' in 0.22. Specify a solver to silence this warning.\n",
      "  FutureWarning)\n"
     ]
    },
    {
     "name": "stdout",
     "output_type": "stream",
     "text": [
      "0.06647745866028017\n",
      "_____________\n",
      "threat\n"
     ]
    },
    {
     "name": "stderr",
     "output_type": "stream",
     "text": [
      "/Users/Thomas/anaconda3/envs/kaggle_text_classification/lib/python3.6/site-packages/sklearn/linear_model/logistic.py:433: FutureWarning: Default solver will be changed to 'lbfgs' in 0.22. Specify a solver to silence this warning.\n",
      "  FutureWarning)\n"
     ]
    },
    {
     "name": "stdout",
     "output_type": "stream",
     "text": [
      "0.013870892349002503\n",
      "_____________\n",
      "insult\n"
     ]
    },
    {
     "name": "stderr",
     "output_type": "stream",
     "text": [
      "/Users/Thomas/anaconda3/envs/kaggle_text_classification/lib/python3.6/site-packages/sklearn/linear_model/logistic.py:433: FutureWarning: Default solver will be changed to 'lbfgs' in 0.22. Specify a solver to silence this warning.\n",
      "  FutureWarning)\n"
     ]
    },
    {
     "name": "stdout",
     "output_type": "stream",
     "text": [
      "0.08112959721879329\n",
      "_____________\n",
      "identity_hate\n"
     ]
    },
    {
     "name": "stderr",
     "output_type": "stream",
     "text": [
      "/Users/Thomas/anaconda3/envs/kaggle_text_classification/lib/python3.6/site-packages/sklearn/linear_model/logistic.py:433: FutureWarning: Default solver will be changed to 'lbfgs' in 0.22. Specify a solver to silence this warning.\n",
      "  FutureWarning)\n"
     ]
    },
    {
     "name": "stdout",
     "output_type": "stream",
     "text": [
      "0.026008022618485747\n"
     ]
    }
   ],
   "source": [
    "logloss_clean_tfidf = logistic_model(\n",
    "    tfidf_vectorizer.transform(X_train_clean),\n",
    "    y_train,\n",
    "    tfidf_vectorizer.transform(X_test_clean),\n",
    "    y_test,\n",
    "    targets=targets)"
   ]
  },
  {
   "cell_type": "markdown",
   "metadata": {},
   "source": [
    "## Lemmatize ?"
   ]
  },
  {
   "cell_type": "code",
   "execution_count": 16,
   "metadata": {
    "ExecuteTime": {
     "end_time": "2018-12-01T11:21:11.099069Z",
     "start_time": "2018-12-01T11:19:31.010432Z"
    },
    "collapsed": true
   },
   "outputs": [],
   "source": [
    "X_train_lemmatize = clean_text(X_train, lemmatize=True)\n",
    "X_test_lemmatize = clean_text(X_test, lemmatize=True)"
   ]
  },
  {
   "cell_type": "code",
   "execution_count": 17,
   "metadata": {
    "ExecuteTime": {
     "end_time": "2018-12-01T11:21:17.725716Z",
     "start_time": "2018-12-01T11:21:11.107180Z"
    },
    "collapsed": true
   },
   "outputs": [],
   "source": [
    "tfidf_vectorizer = TfidfVectorizer(\n",
    "    max_df=0.95,\n",
    "    min_df=5,\n",
    "    max_features=10000,\n",
    "    strip_accents=\"unicode\",\n",
    "    stop_words=None,\n",
    "    lowercase=False).fit(X_train_lemmatize)"
   ]
  },
  {
   "cell_type": "code",
   "execution_count": 18,
   "metadata": {
    "ExecuteTime": {
     "end_time": "2018-12-01T11:21:39.112151Z",
     "start_time": "2018-12-01T11:21:17.728993Z"
    }
   },
   "outputs": [
    {
     "name": "stdout",
     "output_type": "stream",
     "text": [
      "_____________\n",
      "toxic\n"
     ]
    },
    {
     "name": "stderr",
     "output_type": "stream",
     "text": [
      "/Users/Thomas/anaconda3/envs/kaggle_text_classification/lib/python3.6/site-packages/sklearn/linear_model/logistic.py:433: FutureWarning: Default solver will be changed to 'lbfgs' in 0.22. Specify a solver to silence this warning.\n",
      "  FutureWarning)\n"
     ]
    },
    {
     "name": "stdout",
     "output_type": "stream",
     "text": [
      "0.1184151415319406\n",
      "_____________\n",
      "severe_toxic\n"
     ]
    },
    {
     "name": "stderr",
     "output_type": "stream",
     "text": [
      "/Users/Thomas/anaconda3/envs/kaggle_text_classification/lib/python3.6/site-packages/sklearn/linear_model/logistic.py:433: FutureWarning: Default solver will be changed to 'lbfgs' in 0.22. Specify a solver to silence this warning.\n",
      "  FutureWarning)\n"
     ]
    },
    {
     "name": "stdout",
     "output_type": "stream",
     "text": [
      "0.028060239956033996\n",
      "_____________\n",
      "obscene\n"
     ]
    },
    {
     "name": "stderr",
     "output_type": "stream",
     "text": [
      "/Users/Thomas/anaconda3/envs/kaggle_text_classification/lib/python3.6/site-packages/sklearn/linear_model/logistic.py:433: FutureWarning: Default solver will be changed to 'lbfgs' in 0.22. Specify a solver to silence this warning.\n",
      "  FutureWarning)\n"
     ]
    },
    {
     "name": "stdout",
     "output_type": "stream",
     "text": [
      "0.06883359869658855\n",
      "_____________\n",
      "threat\n"
     ]
    },
    {
     "name": "stderr",
     "output_type": "stream",
     "text": [
      "/Users/Thomas/anaconda3/envs/kaggle_text_classification/lib/python3.6/site-packages/sklearn/linear_model/logistic.py:433: FutureWarning: Default solver will be changed to 'lbfgs' in 0.22. Specify a solver to silence this warning.\n",
      "  FutureWarning)\n"
     ]
    },
    {
     "name": "stdout",
     "output_type": "stream",
     "text": [
      "0.013915213098383429\n",
      "_____________\n",
      "insult\n"
     ]
    },
    {
     "name": "stderr",
     "output_type": "stream",
     "text": [
      "/Users/Thomas/anaconda3/envs/kaggle_text_classification/lib/python3.6/site-packages/sklearn/linear_model/logistic.py:433: FutureWarning: Default solver will be changed to 'lbfgs' in 0.22. Specify a solver to silence this warning.\n",
      "  FutureWarning)\n"
     ]
    },
    {
     "name": "stdout",
     "output_type": "stream",
     "text": [
      "0.08195909851593118\n",
      "_____________\n",
      "identity_hate\n"
     ]
    },
    {
     "name": "stderr",
     "output_type": "stream",
     "text": [
      "/Users/Thomas/anaconda3/envs/kaggle_text_classification/lib/python3.6/site-packages/sklearn/linear_model/logistic.py:433: FutureWarning: Default solver will be changed to 'lbfgs' in 0.22. Specify a solver to silence this warning.\n",
      "  FutureWarning)\n"
     ]
    },
    {
     "name": "stdout",
     "output_type": "stream",
     "text": [
      "0.025198214712632096\n"
     ]
    }
   ],
   "source": [
    "logloss_lemmatize_tfidf = logistic_model(\n",
    "    tfidf_vectorizer.transform(X_train_lemmatize),\n",
    "    y_train,\n",
    "    tfidf_vectorizer.transform(X_test_lemmatize),\n",
    "    y_test,\n",
    "    targets=targets)"
   ]
  },
  {
   "cell_type": "markdown",
   "metadata": {},
   "source": [
    "## Add custom features ?"
   ]
  },
  {
   "cell_type": "code",
   "execution_count": 19,
   "metadata": {
    "ExecuteTime": {
     "end_time": "2018-12-01T11:21:39.123405Z",
     "start_time": "2018-12-01T11:21:39.114989Z"
    },
    "collapsed": true
   },
   "outputs": [],
   "source": [
    "def process_data(X_train, X_test):\n",
    "    features_train = add_features(X_train).drop(\"comment_text\", axis=1)\n",
    "    features_test = add_features(X_test).drop(\"comment_text\", axis=1)\n",
    "    X_train = clean_text(X_train)\n",
    "    X_test = clean_text(X_test)\n",
    "    tfidf = TfidfVectorizer(\n",
    "        max_df=0.95,\n",
    "        min_df=5,\n",
    "        max_features=10000,\n",
    "        strip_accents=\"unicode\",\n",
    "        stop_words=None,\n",
    "        lowercase=False)\n",
    "    tfidf = tfidf.fit(X_train)\n",
    "    tfidf_train = tfidf.transform(X_train)\n",
    "    tfidf_test = tfidf.transform(X_test)\n",
    "    X_train = sparse.hstack((features_train, tfidf_train), format='csr')\n",
    "    X_test = sparse.hstack((features_test, tfidf_test), format='csr')\n",
    "    return X_train, X_test"
   ]
  },
  {
   "cell_type": "code",
   "execution_count": 20,
   "metadata": {
    "ExecuteTime": {
     "end_time": "2018-12-01T11:22:46.730409Z",
     "start_time": "2018-12-01T11:21:39.129009Z"
    },
    "collapsed": true
   },
   "outputs": [],
   "source": [
    "X_train_features, X_test_features = process_data(X_train, X_test)"
   ]
  },
  {
   "cell_type": "code",
   "execution_count": 21,
   "metadata": {
    "ExecuteTime": {
     "end_time": "2018-12-01T11:24:01.522386Z",
     "start_time": "2018-12-01T11:22:46.738342Z"
    }
   },
   "outputs": [
    {
     "name": "stdout",
     "output_type": "stream",
     "text": [
      "_____________\n",
      "toxic\n"
     ]
    },
    {
     "name": "stderr",
     "output_type": "stream",
     "text": [
      "/Users/Thomas/anaconda3/envs/kaggle_text_classification/lib/python3.6/site-packages/sklearn/linear_model/logistic.py:433: FutureWarning: Default solver will be changed to 'lbfgs' in 0.22. Specify a solver to silence this warning.\n",
      "  FutureWarning)\n",
      "/Users/Thomas/anaconda3/envs/kaggle_text_classification/lib/python3.6/site-packages/sklearn/svm/base.py:922: ConvergenceWarning: Liblinear failed to converge, increase the number of iterations.\n",
      "  \"the number of iterations.\", ConvergenceWarning)\n",
      "/Users/Thomas/anaconda3/envs/kaggle_text_classification/lib/python3.6/site-packages/sklearn/linear_model/logistic.py:433: FutureWarning: Default solver will be changed to 'lbfgs' in 0.22. Specify a solver to silence this warning.\n",
      "  FutureWarning)\n"
     ]
    },
    {
     "name": "stdout",
     "output_type": "stream",
     "text": [
      "0.2362721258122322\n",
      "_____________\n",
      "severe_toxic\n"
     ]
    },
    {
     "name": "stderr",
     "output_type": "stream",
     "text": [
      "/Users/Thomas/anaconda3/envs/kaggle_text_classification/lib/python3.6/site-packages/sklearn/svm/base.py:922: ConvergenceWarning: Liblinear failed to converge, increase the number of iterations.\n",
      "  \"the number of iterations.\", ConvergenceWarning)\n",
      "/Users/Thomas/anaconda3/envs/kaggle_text_classification/lib/python3.6/site-packages/sklearn/linear_model/logistic.py:433: FutureWarning: Default solver will be changed to 'lbfgs' in 0.22. Specify a solver to silence this warning.\n",
      "  FutureWarning)\n"
     ]
    },
    {
     "name": "stdout",
     "output_type": "stream",
     "text": [
      "0.07040218702963633\n",
      "_____________\n",
      "obscene\n"
     ]
    },
    {
     "name": "stderr",
     "output_type": "stream",
     "text": [
      "/Users/Thomas/anaconda3/envs/kaggle_text_classification/lib/python3.6/site-packages/sklearn/svm/base.py:922: ConvergenceWarning: Liblinear failed to converge, increase the number of iterations.\n",
      "  \"the number of iterations.\", ConvergenceWarning)\n",
      "/Users/Thomas/anaconda3/envs/kaggle_text_classification/lib/python3.6/site-packages/sklearn/linear_model/logistic.py:433: FutureWarning: Default solver will be changed to 'lbfgs' in 0.22. Specify a solver to silence this warning.\n",
      "  FutureWarning)\n"
     ]
    },
    {
     "name": "stdout",
     "output_type": "stream",
     "text": [
      "0.27923121692350333\n",
      "_____________\n",
      "threat\n"
     ]
    },
    {
     "name": "stderr",
     "output_type": "stream",
     "text": [
      "/Users/Thomas/anaconda3/envs/kaggle_text_classification/lib/python3.6/site-packages/sklearn/svm/base.py:922: ConvergenceWarning: Liblinear failed to converge, increase the number of iterations.\n",
      "  \"the number of iterations.\", ConvergenceWarning)\n",
      "/Users/Thomas/anaconda3/envs/kaggle_text_classification/lib/python3.6/site-packages/sklearn/linear_model/logistic.py:433: FutureWarning: Default solver will be changed to 'lbfgs' in 0.22. Specify a solver to silence this warning.\n",
      "  FutureWarning)\n"
     ]
    },
    {
     "name": "stdout",
     "output_type": "stream",
     "text": [
      "0.03078888845786367\n",
      "_____________\n",
      "insult\n"
     ]
    },
    {
     "name": "stderr",
     "output_type": "stream",
     "text": [
      "/Users/Thomas/anaconda3/envs/kaggle_text_classification/lib/python3.6/site-packages/sklearn/svm/base.py:922: ConvergenceWarning: Liblinear failed to converge, increase the number of iterations.\n",
      "  \"the number of iterations.\", ConvergenceWarning)\n",
      "/Users/Thomas/anaconda3/envs/kaggle_text_classification/lib/python3.6/site-packages/sklearn/linear_model/logistic.py:433: FutureWarning: Default solver will be changed to 'lbfgs' in 0.22. Specify a solver to silence this warning.\n",
      "  FutureWarning)\n"
     ]
    },
    {
     "name": "stdout",
     "output_type": "stream",
     "text": [
      "0.18089172272493217\n",
      "_____________\n",
      "identity_hate\n",
      "0.054797256073251754\n"
     ]
    },
    {
     "name": "stderr",
     "output_type": "stream",
     "text": [
      "/Users/Thomas/anaconda3/envs/kaggle_text_classification/lib/python3.6/site-packages/sklearn/svm/base.py:922: ConvergenceWarning: Liblinear failed to converge, increase the number of iterations.\n",
      "  \"the number of iterations.\", ConvergenceWarning)\n"
     ]
    }
   ],
   "source": [
    "logloss_features_tfidf = logistic_model(\n",
    "    X_train_features, y_train, X_test_features, y_test, targets=targets)"
   ]
  },
  {
   "cell_type": "markdown",
   "metadata": {},
   "source": [
    "## Compare results"
   ]
  },
  {
   "cell_type": "code",
   "execution_count": 22,
   "metadata": {
    "ExecuteTime": {
     "end_time": "2018-12-01T11:24:01.536671Z",
     "start_time": "2018-12-01T11:24:01.526022Z"
    },
    "collapsed": true
   },
   "outputs": [],
   "source": [
    "df_scores = pd.DataFrame(\n",
    "    {\n",
    "        \"raw_tfidf\": logloss_raw_tfidf,\n",
    "        \"clean_tfidf\": logloss_clean_tfidf,\n",
    "        \"lemmatize_tfidf\": logloss_lemmatize_tfidf,\n",
    "        \"features_tfidf\": logloss_features_tfidf\n",
    "    },\n",
    "    index=targets)[[\n",
    "        \"raw_tfidf\", \"clean_tfidf\", \"lemmatize_tfidf\", \"features_tfidf\"\n",
    "    ]]"
   ]
  },
  {
   "cell_type": "code",
   "execution_count": 23,
   "metadata": {
    "ExecuteTime": {
     "end_time": "2018-12-01T11:24:01.566103Z",
     "start_time": "2018-12-01T11:24:01.541127Z"
    }
   },
   "outputs": [
    {
     "data": {
      "text/html": [
       "<div>\n",
       "<style scoped>\n",
       "    .dataframe tbody tr th:only-of-type {\n",
       "        vertical-align: middle;\n",
       "    }\n",
       "\n",
       "    .dataframe tbody tr th {\n",
       "        vertical-align: top;\n",
       "    }\n",
       "\n",
       "    .dataframe thead th {\n",
       "        text-align: right;\n",
       "    }\n",
       "</style>\n",
       "<table border=\"1\" class=\"dataframe\">\n",
       "  <thead>\n",
       "    <tr style=\"text-align: right;\">\n",
       "      <th></th>\n",
       "      <th>raw_tfidf</th>\n",
       "      <th>clean_tfidf</th>\n",
       "      <th>lemmatize_tfidf</th>\n",
       "      <th>features_tfidf</th>\n",
       "    </tr>\n",
       "  </thead>\n",
       "  <tbody>\n",
       "    <tr>\n",
       "      <th>toxic</th>\n",
       "      <td>0.119827</td>\n",
       "      <td>0.117961</td>\n",
       "      <td>0.118415</td>\n",
       "      <td>0.236272</td>\n",
       "    </tr>\n",
       "    <tr>\n",
       "      <th>severe_toxic</th>\n",
       "      <td>0.027704</td>\n",
       "      <td>0.028237</td>\n",
       "      <td>0.028060</td>\n",
       "      <td>0.070402</td>\n",
       "    </tr>\n",
       "    <tr>\n",
       "      <th>obscene</th>\n",
       "      <td>0.071937</td>\n",
       "      <td>0.066477</td>\n",
       "      <td>0.068834</td>\n",
       "      <td>0.279231</td>\n",
       "    </tr>\n",
       "    <tr>\n",
       "      <th>threat</th>\n",
       "      <td>0.013538</td>\n",
       "      <td>0.013871</td>\n",
       "      <td>0.013915</td>\n",
       "      <td>0.030789</td>\n",
       "    </tr>\n",
       "    <tr>\n",
       "      <th>insult</th>\n",
       "      <td>0.080001</td>\n",
       "      <td>0.081130</td>\n",
       "      <td>0.081959</td>\n",
       "      <td>0.180892</td>\n",
       "    </tr>\n",
       "    <tr>\n",
       "      <th>identity_hate</th>\n",
       "      <td>0.027221</td>\n",
       "      <td>0.026008</td>\n",
       "      <td>0.025198</td>\n",
       "      <td>0.054797</td>\n",
       "    </tr>\n",
       "  </tbody>\n",
       "</table>\n",
       "</div>"
      ],
      "text/plain": [
       "               raw_tfidf  clean_tfidf  lemmatize_tfidf  features_tfidf\n",
       "toxic           0.119827     0.117961         0.118415        0.236272\n",
       "severe_toxic    0.027704     0.028237         0.028060        0.070402\n",
       "obscene         0.071937     0.066477         0.068834        0.279231\n",
       "threat          0.013538     0.013871         0.013915        0.030789\n",
       "insult          0.080001     0.081130         0.081959        0.180892\n",
       "identity_hate   0.027221     0.026008         0.025198        0.054797"
      ]
     },
     "execution_count": 23,
     "metadata": {},
     "output_type": "execute_result"
    }
   ],
   "source": [
    "df_scores"
   ]
  },
  {
   "cell_type": "code",
   "execution_count": 24,
   "metadata": {
    "ExecuteTime": {
     "end_time": "2018-12-01T11:24:01.580780Z",
     "start_time": "2018-12-01T11:24:01.569249Z"
    }
   },
   "outputs": [
    {
     "data": {
      "text/plain": [
       "raw_tfidf          0.056705\n",
       "clean_tfidf        0.055614\n",
       "lemmatize_tfidf    0.056064\n",
       "features_tfidf     0.142064\n",
       "dtype: float64"
      ]
     },
     "execution_count": 24,
     "metadata": {},
     "output_type": "execute_result"
    }
   ],
   "source": [
    "df_scores.mean()"
   ]
  },
  {
   "cell_type": "code",
   "execution_count": 25,
   "metadata": {
    "ExecuteTime": {
     "end_time": "2018-12-01T11:24:01.801451Z",
     "start_time": "2018-12-01T11:24:01.584615Z"
    }
   },
   "outputs": [
    {
     "data": {
      "image/png": "[encoded data removed]",
      "text/plain": [
       "<Figure size 432x288 with 1 Axes>"
      ]
     },
     "metadata": {
      "needs_background": "light"
     },
     "output_type": "display_data"
    }
   ],
   "source": [
    "df_scores.mean().plot.bar(ylim = (0.05, 0.14))\n",
    "plt.show()"
   ]
  },
  {
   "cell_type": "markdown",
   "metadata": {},
   "source": [
    "# l1 vs. l2 penalization"
   ]
  },
  {
   "cell_type": "markdown",
   "metadata": {},
   "source": [
    "## Model with l1 penalization"
   ]
  },
  {
   "cell_type": "code",
   "execution_count": 26,
   "metadata": {
    "ExecuteTime": {
     "end_time": "2018-12-01T11:24:24.987684Z",
     "start_time": "2018-12-01T11:24:01.806333Z"
    }
   },
   "outputs": [
    {
     "name": "stdout",
     "output_type": "stream",
     "text": [
      "_____________\n",
      "toxic\n"
     ]
    },
    {
     "name": "stderr",
     "output_type": "stream",
     "text": [
      "/Users/Thomas/anaconda3/envs/kaggle_text_classification/lib/python3.6/site-packages/sklearn/linear_model/logistic.py:433: FutureWarning: Default solver will be changed to 'lbfgs' in 0.22. Specify a solver to silence this warning.\n",
      "  FutureWarning)\n"
     ]
    },
    {
     "name": "stdout",
     "output_type": "stream",
     "text": [
      "0.15298958218602882\n",
      "_____________\n",
      "severe_toxic\n"
     ]
    },
    {
     "name": "stderr",
     "output_type": "stream",
     "text": [
      "/Users/Thomas/anaconda3/envs/kaggle_text_classification/lib/python3.6/site-packages/sklearn/linear_model/logistic.py:433: FutureWarning: Default solver will be changed to 'lbfgs' in 0.22. Specify a solver to silence this warning.\n",
      "  FutureWarning)\n"
     ]
    },
    {
     "name": "stdout",
     "output_type": "stream",
     "text": [
      "0.036812284777016105\n",
      "_____________\n",
      "obscene\n"
     ]
    },
    {
     "name": "stderr",
     "output_type": "stream",
     "text": [
      "/Users/Thomas/anaconda3/envs/kaggle_text_classification/lib/python3.6/site-packages/sklearn/linear_model/logistic.py:433: FutureWarning: Default solver will be changed to 'lbfgs' in 0.22. Specify a solver to silence this warning.\n",
      "  FutureWarning)\n"
     ]
    },
    {
     "name": "stdout",
     "output_type": "stream",
     "text": [
      "0.09423036936126825\n",
      "_____________\n",
      "threat\n"
     ]
    },
    {
     "name": "stderr",
     "output_type": "stream",
     "text": [
      "/Users/Thomas/anaconda3/envs/kaggle_text_classification/lib/python3.6/site-packages/sklearn/linear_model/logistic.py:433: FutureWarning: Default solver will be changed to 'lbfgs' in 0.22. Specify a solver to silence this warning.\n",
      "  FutureWarning)\n"
     ]
    },
    {
     "name": "stdout",
     "output_type": "stream",
     "text": [
      "0.01712908164990029\n",
      "_____________\n",
      "insult\n"
     ]
    },
    {
     "name": "stderr",
     "output_type": "stream",
     "text": [
      "/Users/Thomas/anaconda3/envs/kaggle_text_classification/lib/python3.6/site-packages/sklearn/linear_model/logistic.py:433: FutureWarning: Default solver will be changed to 'lbfgs' in 0.22. Specify a solver to silence this warning.\n",
      "  FutureWarning)\n"
     ]
    },
    {
     "name": "stdout",
     "output_type": "stream",
     "text": [
      "0.10077749847592225\n",
      "_____________\n",
      "identity_hate\n"
     ]
    },
    {
     "name": "stderr",
     "output_type": "stream",
     "text": [
      "/Users/Thomas/anaconda3/envs/kaggle_text_classification/lib/python3.6/site-packages/sklearn/linear_model/logistic.py:433: FutureWarning: Default solver will be changed to 'lbfgs' in 0.22. Specify a solver to silence this warning.\n",
      "  FutureWarning)\n"
     ]
    },
    {
     "name": "stdout",
     "output_type": "stream",
     "text": [
      "0.03134383103169779\n"
     ]
    }
   ],
   "source": [
    "logloss_raw_tfidf_l1 = logistic_model(\n",
    "    tfidf_vectorizer.transform(X_train),\n",
    "    y_train,\n",
    "    tfidf_vectorizer.transform(X_test),\n",
    "    y_test,\n",
    "    targets=targets,\n",
    "    penalty=\"l1\")"
   ]
  },
  {
   "cell_type": "code",
   "execution_count": 27,
   "metadata": {
    "ExecuteTime": {
     "end_time": "2018-12-01T11:24:49.774113Z",
     "start_time": "2018-12-01T11:24:24.991156Z"
    }
   },
   "outputs": [
    {
     "name": "stdout",
     "output_type": "stream",
     "text": [
      "_____________\n",
      "toxic\n"
     ]
    },
    {
     "name": "stderr",
     "output_type": "stream",
     "text": [
      "/Users/Thomas/anaconda3/envs/kaggle_text_classification/lib/python3.6/site-packages/sklearn/linear_model/logistic.py:433: FutureWarning: Default solver will be changed to 'lbfgs' in 0.22. Specify a solver to silence this warning.\n",
      "  FutureWarning)\n"
     ]
    },
    {
     "name": "stdout",
     "output_type": "stream",
     "text": [
      "0.11700195375720668\n",
      "_____________\n",
      "severe_toxic\n"
     ]
    },
    {
     "name": "stderr",
     "output_type": "stream",
     "text": [
      "/Users/Thomas/anaconda3/envs/kaggle_text_classification/lib/python3.6/site-packages/sklearn/linear_model/logistic.py:433: FutureWarning: Default solver will be changed to 'lbfgs' in 0.22. Specify a solver to silence this warning.\n",
      "  FutureWarning)\n"
     ]
    },
    {
     "name": "stdout",
     "output_type": "stream",
     "text": [
      "0.028897172912196276\n",
      "_____________\n",
      "obscene\n"
     ]
    },
    {
     "name": "stderr",
     "output_type": "stream",
     "text": [
      "/Users/Thomas/anaconda3/envs/kaggle_text_classification/lib/python3.6/site-packages/sklearn/linear_model/logistic.py:433: FutureWarning: Default solver will be changed to 'lbfgs' in 0.22. Specify a solver to silence this warning.\n",
      "  FutureWarning)\n"
     ]
    },
    {
     "name": "stdout",
     "output_type": "stream",
     "text": [
      "0.06550267081289964\n",
      "_____________\n",
      "threat\n"
     ]
    },
    {
     "name": "stderr",
     "output_type": "stream",
     "text": [
      "/Users/Thomas/anaconda3/envs/kaggle_text_classification/lib/python3.6/site-packages/sklearn/linear_model/logistic.py:433: FutureWarning: Default solver will be changed to 'lbfgs' in 0.22. Specify a solver to silence this warning.\n",
      "  FutureWarning)\n"
     ]
    },
    {
     "name": "stdout",
     "output_type": "stream",
     "text": [
      "0.013477571897229155\n",
      "_____________\n",
      "insult\n"
     ]
    },
    {
     "name": "stderr",
     "output_type": "stream",
     "text": [
      "/Users/Thomas/anaconda3/envs/kaggle_text_classification/lib/python3.6/site-packages/sklearn/linear_model/logistic.py:433: FutureWarning: Default solver will be changed to 'lbfgs' in 0.22. Specify a solver to silence this warning.\n",
      "  FutureWarning)\n"
     ]
    },
    {
     "name": "stdout",
     "output_type": "stream",
     "text": [
      "0.08336183414965058\n",
      "_____________\n",
      "identity_hate\n"
     ]
    },
    {
     "name": "stderr",
     "output_type": "stream",
     "text": [
      "/Users/Thomas/anaconda3/envs/kaggle_text_classification/lib/python3.6/site-packages/sklearn/linear_model/logistic.py:433: FutureWarning: Default solver will be changed to 'lbfgs' in 0.22. Specify a solver to silence this warning.\n",
      "  FutureWarning)\n"
     ]
    },
    {
     "name": "stdout",
     "output_type": "stream",
     "text": [
      "0.0275510822959626\n"
     ]
    }
   ],
   "source": [
    "logloss_clean_tfidf_l1 = logistic_model(\n",
    "    tfidf_vectorizer.transform(X_train_clean),\n",
    "    y_train,\n",
    "    tfidf_vectorizer.transform(X_test_clean),\n",
    "    y_test,\n",
    "    targets=targets,\n",
    "    penalty=\"l1\")"
   ]
  },
  {
   "cell_type": "code",
   "execution_count": 28,
   "metadata": {
    "ExecuteTime": {
     "end_time": "2018-12-01T11:25:06.901535Z",
     "start_time": "2018-12-01T11:24:49.777522Z"
    }
   },
   "outputs": [
    {
     "name": "stdout",
     "output_type": "stream",
     "text": [
      "_____________\n",
      "toxic\n"
     ]
    },
    {
     "name": "stderr",
     "output_type": "stream",
     "text": [
      "/Users/Thomas/anaconda3/envs/kaggle_text_classification/lib/python3.6/site-packages/sklearn/linear_model/logistic.py:433: FutureWarning: Default solver will be changed to 'lbfgs' in 0.22. Specify a solver to silence this warning.\n",
      "  FutureWarning)\n"
     ]
    },
    {
     "name": "stdout",
     "output_type": "stream",
     "text": [
      "0.11352865740986211\n",
      "_____________\n",
      "severe_toxic\n"
     ]
    },
    {
     "name": "stderr",
     "output_type": "stream",
     "text": [
      "/Users/Thomas/anaconda3/envs/kaggle_text_classification/lib/python3.6/site-packages/sklearn/linear_model/logistic.py:433: FutureWarning: Default solver will be changed to 'lbfgs' in 0.22. Specify a solver to silence this warning.\n",
      "  FutureWarning)\n"
     ]
    },
    {
     "name": "stdout",
     "output_type": "stream",
     "text": [
      "0.02850831626202225\n",
      "_____________\n",
      "obscene\n"
     ]
    },
    {
     "name": "stderr",
     "output_type": "stream",
     "text": [
      "/Users/Thomas/anaconda3/envs/kaggle_text_classification/lib/python3.6/site-packages/sklearn/linear_model/logistic.py:433: FutureWarning: Default solver will be changed to 'lbfgs' in 0.22. Specify a solver to silence this warning.\n",
      "  FutureWarning)\n"
     ]
    },
    {
     "name": "stdout",
     "output_type": "stream",
     "text": [
      "0.06585197356623251\n",
      "_____________\n",
      "threat\n"
     ]
    },
    {
     "name": "stderr",
     "output_type": "stream",
     "text": [
      "/Users/Thomas/anaconda3/envs/kaggle_text_classification/lib/python3.6/site-packages/sklearn/linear_model/logistic.py:433: FutureWarning: Default solver will be changed to 'lbfgs' in 0.22. Specify a solver to silence this warning.\n",
      "  FutureWarning)\n"
     ]
    },
    {
     "name": "stdout",
     "output_type": "stream",
     "text": [
      "0.01335620458097217\n",
      "_____________\n",
      "insult\n"
     ]
    },
    {
     "name": "stderr",
     "output_type": "stream",
     "text": [
      "/Users/Thomas/anaconda3/envs/kaggle_text_classification/lib/python3.6/site-packages/sklearn/linear_model/logistic.py:433: FutureWarning: Default solver will be changed to 'lbfgs' in 0.22. Specify a solver to silence this warning.\n",
      "  FutureWarning)\n"
     ]
    },
    {
     "name": "stdout",
     "output_type": "stream",
     "text": [
      "0.08200171141858031\n",
      "_____________\n",
      "identity_hate\n"
     ]
    },
    {
     "name": "stderr",
     "output_type": "stream",
     "text": [
      "/Users/Thomas/anaconda3/envs/kaggle_text_classification/lib/python3.6/site-packages/sklearn/linear_model/logistic.py:433: FutureWarning: Default solver will be changed to 'lbfgs' in 0.22. Specify a solver to silence this warning.\n",
      "  FutureWarning)\n"
     ]
    },
    {
     "name": "stdout",
     "output_type": "stream",
     "text": [
      "0.025434175817938248\n"
     ]
    }
   ],
   "source": [
    "logloss_lemmatize_tfidf_l1 = logistic_model(\n",
    "    tfidf_vectorizer.transform(X_train_lemmatize),\n",
    "    y_train,\n",
    "    tfidf_vectorizer.transform(X_test_lemmatize),\n",
    "    y_test,\n",
    "    targets=targets,\n",
    "    penalty=\"l1\")"
   ]
  },
  {
   "cell_type": "code",
   "execution_count": 29,
   "metadata": {
    "ExecuteTime": {
     "end_time": "2018-12-01T11:25:45.490634Z",
     "start_time": "2018-12-01T11:25:06.904788Z"
    }
   },
   "outputs": [
    {
     "name": "stdout",
     "output_type": "stream",
     "text": [
      "_____________\n",
      "toxic\n"
     ]
    },
    {
     "name": "stderr",
     "output_type": "stream",
     "text": [
      "/Users/Thomas/anaconda3/envs/kaggle_text_classification/lib/python3.6/site-packages/sklearn/linear_model/logistic.py:433: FutureWarning: Default solver will be changed to 'lbfgs' in 0.22. Specify a solver to silence this warning.\n",
      "  FutureWarning)\n"
     ]
    },
    {
     "name": "stdout",
     "output_type": "stream",
     "text": [
      "0.10977851563020359\n",
      "_____________\n",
      "severe_toxic\n"
     ]
    },
    {
     "name": "stderr",
     "output_type": "stream",
     "text": [
      "/Users/Thomas/anaconda3/envs/kaggle_text_classification/lib/python3.6/site-packages/sklearn/linear_model/logistic.py:433: FutureWarning: Default solver will be changed to 'lbfgs' in 0.22. Specify a solver to silence this warning.\n",
      "  FutureWarning)\n"
     ]
    },
    {
     "name": "stdout",
     "output_type": "stream",
     "text": [
      "0.0275303111101529\n",
      "_____________\n",
      "obscene\n"
     ]
    },
    {
     "name": "stderr",
     "output_type": "stream",
     "text": [
      "/Users/Thomas/anaconda3/envs/kaggle_text_classification/lib/python3.6/site-packages/sklearn/linear_model/logistic.py:433: FutureWarning: Default solver will be changed to 'lbfgs' in 0.22. Specify a solver to silence this warning.\n",
      "  FutureWarning)\n"
     ]
    },
    {
     "name": "stdout",
     "output_type": "stream",
     "text": [
      "0.06310395205243474\n",
      "_____________\n",
      "threat\n"
     ]
    },
    {
     "name": "stderr",
     "output_type": "stream",
     "text": [
      "/Users/Thomas/anaconda3/envs/kaggle_text_classification/lib/python3.6/site-packages/sklearn/linear_model/logistic.py:433: FutureWarning: Default solver will be changed to 'lbfgs' in 0.22. Specify a solver to silence this warning.\n",
      "  FutureWarning)\n"
     ]
    },
    {
     "name": "stdout",
     "output_type": "stream",
     "text": [
      "0.012970640647165578\n",
      "_____________\n",
      "insult\n"
     ]
    },
    {
     "name": "stderr",
     "output_type": "stream",
     "text": [
      "/Users/Thomas/anaconda3/envs/kaggle_text_classification/lib/python3.6/site-packages/sklearn/linear_model/logistic.py:433: FutureWarning: Default solver will be changed to 'lbfgs' in 0.22. Specify a solver to silence this warning.\n",
      "  FutureWarning)\n"
     ]
    },
    {
     "name": "stdout",
     "output_type": "stream",
     "text": [
      "0.08106772442331558\n",
      "_____________\n",
      "identity_hate\n"
     ]
    },
    {
     "name": "stderr",
     "output_type": "stream",
     "text": [
      "/Users/Thomas/anaconda3/envs/kaggle_text_classification/lib/python3.6/site-packages/sklearn/linear_model/logistic.py:433: FutureWarning: Default solver will be changed to 'lbfgs' in 0.22. Specify a solver to silence this warning.\n",
      "  FutureWarning)\n"
     ]
    },
    {
     "name": "stdout",
     "output_type": "stream",
     "text": [
      "0.02658175007046561\n"
     ]
    }
   ],
   "source": [
    "logloss_features_tfidf_l1 = logistic_model(\n",
    "    X_train_features,\n",
    "    y_train,\n",
    "    X_test_features,\n",
    "    y_test,\n",
    "    targets=targets,\n",
    "    penalty=\"l1\")"
   ]
  },
  {
   "cell_type": "code",
   "execution_count": 30,
   "metadata": {
    "ExecuteTime": {
     "end_time": "2018-12-01T11:25:45.502161Z",
     "start_time": "2018-12-01T11:25:45.493836Z"
    },
    "collapsed": true
   },
   "outputs": [],
   "source": [
    "df_scores_l1 = pd.DataFrame({\n",
    "    \"raw_tfidf\": logloss_raw_tfidf_l1,\n",
    "    \"clean_tfidf\": logloss_clean_tfidf_l1,\n",
    "    \"lemmatize_tfidf\": logloss_lemmatize_tfidf_l1,\n",
    "    \"features_tfidf\":logloss_features_tfidf_l1\n",
    "}, index=targets)[[\"raw_tfidf\", \"clean_tfidf\", \"lemmatize_tfidf\",\"features_tfidf\"]]"
   ]
  },
  {
   "cell_type": "code",
   "execution_count": 31,
   "metadata": {
    "ExecuteTime": {
     "end_time": "2018-12-01T11:25:45.518560Z",
     "start_time": "2018-12-01T11:25:45.505521Z"
    }
   },
   "outputs": [
    {
     "data": {
      "text/html": [
       "<div>\n",
       "<style scoped>\n",
       "    .dataframe tbody tr th:only-of-type {\n",
       "        vertical-align: middle;\n",
       "    }\n",
       "\n",
       "    .dataframe tbody tr th {\n",
       "        vertical-align: top;\n",
       "    }\n",
       "\n",
       "    .dataframe thead th {\n",
       "        text-align: right;\n",
       "    }\n",
       "</style>\n",
       "<table border=\"1\" class=\"dataframe\">\n",
       "  <thead>\n",
       "    <tr style=\"text-align: right;\">\n",
       "      <th></th>\n",
       "      <th>raw_tfidf</th>\n",
       "      <th>clean_tfidf</th>\n",
       "      <th>lemmatize_tfidf</th>\n",
       "      <th>features_tfidf</th>\n",
       "    </tr>\n",
       "  </thead>\n",
       "  <tbody>\n",
       "    <tr>\n",
       "      <th>toxic</th>\n",
       "      <td>0.152990</td>\n",
       "      <td>0.117002</td>\n",
       "      <td>0.113529</td>\n",
       "      <td>0.109779</td>\n",
       "    </tr>\n",
       "    <tr>\n",
       "      <th>severe_toxic</th>\n",
       "      <td>0.036812</td>\n",
       "      <td>0.028897</td>\n",
       "      <td>0.028508</td>\n",
       "      <td>0.027530</td>\n",
       "    </tr>\n",
       "    <tr>\n",
       "      <th>obscene</th>\n",
       "      <td>0.094230</td>\n",
       "      <td>0.065503</td>\n",
       "      <td>0.065852</td>\n",
       "      <td>0.063104</td>\n",
       "    </tr>\n",
       "    <tr>\n",
       "      <th>threat</th>\n",
       "      <td>0.017129</td>\n",
       "      <td>0.013478</td>\n",
       "      <td>0.013356</td>\n",
       "      <td>0.012971</td>\n",
       "    </tr>\n",
       "    <tr>\n",
       "      <th>insult</th>\n",
       "      <td>0.100777</td>\n",
       "      <td>0.083362</td>\n",
       "      <td>0.082002</td>\n",
       "      <td>0.081068</td>\n",
       "    </tr>\n",
       "    <tr>\n",
       "      <th>identity_hate</th>\n",
       "      <td>0.031344</td>\n",
       "      <td>0.027551</td>\n",
       "      <td>0.025434</td>\n",
       "      <td>0.026582</td>\n",
       "    </tr>\n",
       "  </tbody>\n",
       "</table>\n",
       "</div>"
      ],
      "text/plain": [
       "               raw_tfidf  clean_tfidf  lemmatize_tfidf  features_tfidf\n",
       "toxic           0.152990     0.117002         0.113529        0.109779\n",
       "severe_toxic    0.036812     0.028897         0.028508        0.027530\n",
       "obscene         0.094230     0.065503         0.065852        0.063104\n",
       "threat          0.017129     0.013478         0.013356        0.012971\n",
       "insult          0.100777     0.083362         0.082002        0.081068\n",
       "identity_hate   0.031344     0.027551         0.025434        0.026582"
      ]
     },
     "execution_count": 31,
     "metadata": {},
     "output_type": "execute_result"
    }
   ],
   "source": [
    "df_scores_l1"
   ]
  },
  {
   "cell_type": "code",
   "execution_count": 32,
   "metadata": {
    "ExecuteTime": {
     "end_time": "2018-12-01T11:25:45.529246Z",
     "start_time": "2018-12-01T11:25:45.522018Z"
    }
   },
   "outputs": [
    {
     "data": {
      "text/plain": [
       "raw_tfidf          0.072214\n",
       "clean_tfidf        0.055965\n",
       "lemmatize_tfidf    0.054780\n",
       "features_tfidf     0.053505\n",
       "dtype: float64"
      ]
     },
     "execution_count": 32,
     "metadata": {},
     "output_type": "execute_result"
    }
   ],
   "source": [
    "df_scores_l1.mean()"
   ]
  },
  {
   "cell_type": "code",
   "execution_count": 33,
   "metadata": {
    "ExecuteTime": {
     "end_time": "2018-12-01T11:25:45.771686Z",
     "start_time": "2018-12-01T11:25:45.532158Z"
    }
   },
   "outputs": [
    {
     "data": {
      "image/png": "[encoded data removed]",
      "text/plain": [
       "<Figure size 432x288 with 1 Axes>"
      ]
     },
     "metadata": {
      "needs_background": "light"
     },
     "output_type": "display_data"
    }
   ],
   "source": [
    "df_scores_l1.mean().plot.bar(ylim = (0.05, 0.08))\n",
    "plt.show()"
   ]
  },
  {
   "cell_type": "markdown",
   "metadata": {},
   "source": [
    "## Compare results l1 / l2"
   ]
  },
  {
   "cell_type": "code",
   "execution_count": 34,
   "metadata": {
    "ExecuteTime": {
     "end_time": "2018-12-01T11:25:45.781270Z",
     "start_time": "2018-12-01T11:25:45.774692Z"
    },
    "collapsed": true
   },
   "outputs": [],
   "source": [
    "df_scores_l1.columns = [x + \"_l1\" for x in df_scores_l1.columns]"
   ]
  },
  {
   "cell_type": "code",
   "execution_count": 35,
   "metadata": {
    "ExecuteTime": {
     "end_time": "2018-12-01T11:25:46.030931Z",
     "start_time": "2018-12-01T11:25:45.785378Z"
    }
   },
   "outputs": [
    {
     "data": {
      "image/png": "[encoded data removed]",
      "text/plain": [
       "<Figure size 432x288 with 1 Axes>"
      ]
     },
     "metadata": {
      "needs_background": "light"
     },
     "output_type": "display_data"
    }
   ],
   "source": [
    "df_scores_l1_l2 = pd.concat(\n",
    "    [df_scores, df_scores_l1], axis=1)[[\n",
    "        \"raw_tfidf\", \"raw_tfidf_l1\", \"clean_tfidf\", \"clean_tfidf_l1\",\n",
    "        \"lemmatize_tfidf\", \"lemmatize_tfidf_l1\", \"features_tfidf\",\n",
    "        \"features_tfidf_l1\"\n",
    "    ]]\n",
    "df_scores_l1_l2.mean().plot.bar(ylim = (0.05, 0.18))\n",
    "plt.ylabel(\"Log Loss\")\n",
    "plt.title(\"Compare performance results\")\n",
    "plt.show()"
   ]
  },
  {
   "cell_type": "code",
   "execution_count": 36,
   "metadata": {
    "ExecuteTime": {
     "end_time": "2018-12-01T11:25:46.272623Z",
     "start_time": "2018-12-01T11:25:46.035309Z"
    }
   },
   "outputs": [
    {
     "data": {
      "image/png": "[encoded data removed]",
      "text/plain": [
       "<Figure size 432x288 with 1 Axes>"
      ]
     },
     "metadata": {
      "needs_background": "light"
     },
     "output_type": "display_data"
    }
   ],
   "source": [
    "df_scores_l1_l2 = df_scores_l1_l2[[\"clean_tfidf\", \"clean_tfidf_l1\",\n",
    "        \"lemmatize_tfidf\", \"lemmatize_tfidf_l1\",\n",
    "        \"features_tfidf_l1\"\n",
    "    ]]\n",
    "df_scores_l1_l2.mean().plot.bar(ylim=(0.053, 0.057))\n",
    "plt.ylabel(\"Log Loss\")\n",
    "plt.title(\"Zoom : compare performance results\")\n",
    "plt.show()"
   ]
  }
 ],
 "metadata": {
  "hide_input": false,
  "kernelspec": {
   "display_name": "Python [conda env:kaggle_text_classification]",
   "language": "python",
   "name": "conda-env-kaggle_text_classification-py"
  },
  "language_info": {
   "codemirror_mode": {
    "name": "ipython",
    "version": 3
   },
   "file_extension": ".py",
   "mimetype": "text/x-python",
   "name": "python",
   "nbconvert_exporter": "python",
   "pygments_lexer": "ipython3",
   "version": "3.6.6"
  },
  "toc": {
   "colors": {
    "hover_highlight": "#DAA520",
    "running_highlight": "#FF0000",
    "selected_highlight": "#FFD700"
   },
   "moveMenuLeft": true,
   "nav_menu": {},
   "navigate_menu": true,
   "number_sections": true,
   "sideBar": true,
   "skip_h1_title": false,
   "threshold": 4,
   "toc_cell": false,
   "toc_position": {
    "height": "988px",
    "left": "0px",
    "right": "1821.34px",
    "top": "110px",
    "width": "212px"
   },
   "toc_section_display": "block",
   "toc_window_display": true,
   "widenNotebook": false
  },
  "varInspector": {
   "cols": {
    "lenName": 16,
    "lenType": 16,
    "lenVar": 40
   },
   "kernels_config": {
    "python": {
     "delete_cmd_postfix": "",
     "delete_cmd_prefix": "del ",
     "library": "var_list.py",
     "varRefreshCmd": "print(var_dic_list())"
    },
    "r": {
     "delete_cmd_postfix": ") ",
     "delete_cmd_prefix": "rm(",
     "library": "var_list.r",
     "varRefreshCmd": "cat(var_dic_list()) "
    }
   },
   "types_to_exclude": [
    "module",
    "function",
    "builtin_function_or_method",
    "instance",
    "_Feature"
   ],
   "window_display": false
  }
 },
 "nbformat": 4,
 "nbformat_minor": 2
}
