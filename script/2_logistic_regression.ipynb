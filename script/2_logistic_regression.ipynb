{
 "cells": [
  {
   "cell_type": "markdown",
   "metadata": {},
   "source": [
    "# Library"
   ]
  },
  {
   "cell_type": "code",
   "execution_count": 1,
   "metadata": {
    "ExecuteTime": {
     "end_time": "2018-12-01T09:34:58.679919Z",
     "start_time": "2018-12-01T09:34:55.619155Z"
    },
    "collapsed": true
   },
   "outputs": [],
   "source": [
    "import pandas as pd\n",
    "import numpy as np\n",
    "\n",
    "from nltk.corpus import stopwords\n",
    "from nltk.stem import WordNetLemmatizer\n",
    "\n",
    "import unidecode\n",
    "import string\n",
    "\n",
    "import matplotlib\n",
    "import matplotlib.pyplot as plt\n",
    "import seaborn as sns\n",
    "\n",
    "from sklearn.pipeline import Pipeline\n",
    "from sklearn.model_selection import GridSearchCV\n",
    "from sklearn.feature_extraction.text import TfidfVectorizer\n",
    "from sklearn.linear_model import LogisticRegression\n",
    "from sklearn.naive_bayes import MultinomialNB\n",
    "from sklearn.metrics import log_loss\n",
    "\n",
    "from sklearn.model_selection import train_test_split\n",
    "\n",
    "from scipy import sparse"
   ]
  },
  {
   "cell_type": "markdown",
   "metadata": {},
   "source": [
    "# Data"
   ]
  },
  {
   "cell_type": "markdown",
   "metadata": {},
   "source": [
    "## train"
   ]
  },
  {
   "cell_type": "code",
   "execution_count": 2,
   "metadata": {
    "ExecuteTime": {
     "end_time": "2018-12-01T09:35:00.239331Z",
     "start_time": "2018-12-01T09:34:58.683829Z"
    }
   },
   "outputs": [
    {
     "data": {
      "text/html": [
       "<div>\n",
       "<style scoped>\n",
       "    .dataframe tbody tr th:only-of-type {\n",
       "        vertical-align: middle;\n",
       "    }\n",
       "\n",
       "    .dataframe tbody tr th {\n",
       "        vertical-align: top;\n",
       "    }\n",
       "\n",
       "    .dataframe thead th {\n",
       "        text-align: right;\n",
       "    }\n",
       "</style>\n",
       "<table border=\"1\" class=\"dataframe\">\n",
       "  <thead>\n",
       "    <tr style=\"text-align: right;\">\n",
       "      <th></th>\n",
       "      <th>id</th>\n",
       "      <th>comment_text</th>\n",
       "      <th>toxic</th>\n",
       "      <th>severe_toxic</th>\n",
       "      <th>obscene</th>\n",
       "      <th>threat</th>\n",
       "      <th>insult</th>\n",
       "      <th>identity_hate</th>\n",
       "    </tr>\n",
       "  </thead>\n",
       "  <tbody>\n",
       "    <tr>\n",
       "      <th>0</th>\n",
       "      <td>0000997932d777bf</td>\n",
       "      <td>ExplanationWhy the edits made under my usernam...</td>\n",
       "      <td>0</td>\n",
       "      <td>0</td>\n",
       "      <td>0</td>\n",
       "      <td>0</td>\n",
       "      <td>0</td>\n",
       "      <td>0</td>\n",
       "    </tr>\n",
       "    <tr>\n",
       "      <th>1</th>\n",
       "      <td>000103f0d9cfb60f</td>\n",
       "      <td>D'aww! He matches this background colour I'm s...</td>\n",
       "      <td>0</td>\n",
       "      <td>0</td>\n",
       "      <td>0</td>\n",
       "      <td>0</td>\n",
       "      <td>0</td>\n",
       "      <td>0</td>\n",
       "    </tr>\n",
       "    <tr>\n",
       "      <th>2</th>\n",
       "      <td>000113f07ec002fd</td>\n",
       "      <td>Hey man, I'm really not trying to edit war. It...</td>\n",
       "      <td>0</td>\n",
       "      <td>0</td>\n",
       "      <td>0</td>\n",
       "      <td>0</td>\n",
       "      <td>0</td>\n",
       "      <td>0</td>\n",
       "    </tr>\n",
       "    <tr>\n",
       "      <th>3</th>\n",
       "      <td>0001b41b1c6bb37e</td>\n",
       "      <td>\"MoreI can't make any real suggestions on impr...</td>\n",
       "      <td>0</td>\n",
       "      <td>0</td>\n",
       "      <td>0</td>\n",
       "      <td>0</td>\n",
       "      <td>0</td>\n",
       "      <td>0</td>\n",
       "    </tr>\n",
       "    <tr>\n",
       "      <th>4</th>\n",
       "      <td>0001d958c54c6e35</td>\n",
       "      <td>You, sir, are my hero. Any chance you remember...</td>\n",
       "      <td>0</td>\n",
       "      <td>0</td>\n",
       "      <td>0</td>\n",
       "      <td>0</td>\n",
       "      <td>0</td>\n",
       "      <td>0</td>\n",
       "    </tr>\n",
       "  </tbody>\n",
       "</table>\n",
       "</div>"
      ],
      "text/plain": [
       "                 id                                       comment_text  toxic  \\\n",
       "0  0000997932d777bf  ExplanationWhy the edits made under my usernam...      0   \n",
       "1  000103f0d9cfb60f  D'aww! He matches this background colour I'm s...      0   \n",
       "2  000113f07ec002fd  Hey man, I'm really not trying to edit war. It...      0   \n",
       "3  0001b41b1c6bb37e  \"MoreI can't make any real suggestions on impr...      0   \n",
       "4  0001d958c54c6e35  You, sir, are my hero. Any chance you remember...      0   \n",
       "\n",
       "   severe_toxic  obscene  threat  insult  identity_hate  \n",
       "0             0        0       0       0              0  \n",
       "1             0        0       0       0              0  \n",
       "2             0        0       0       0              0  \n",
       "3             0        0       0       0              0  \n",
       "4             0        0       0       0              0  "
      ]
     },
     "execution_count": 2,
     "metadata": {},
     "output_type": "execute_result"
    }
   ],
   "source": [
    "df_train = pd.read_csv(\"../data/input/train.csv\")\n",
    "df_train.comment_text = df_train.comment_text.str.replace(\"\\n\", \"\")\n",
    "targets = [\n",
    "    'toxic', 'severe_toxic', 'obscene', 'threat', 'insult', 'identity_hate'\n",
    "]\n",
    "\n",
    "df_train.head()"
   ]
  },
  {
   "cell_type": "code",
   "execution_count": 3,
   "metadata": {
    "ExecuteTime": {
     "end_time": "2018-12-01T09:35:00.305814Z",
     "start_time": "2018-12-01T09:35:00.242487Z"
    }
   },
   "outputs": [
    {
     "data": {
      "text/plain": [
       "id               0\n",
       "comment_text     0\n",
       "toxic            0\n",
       "severe_toxic     0\n",
       "obscene          0\n",
       "threat           0\n",
       "insult           0\n",
       "identity_hate    0\n",
       "dtype: int64"
      ]
     },
     "execution_count": 3,
     "metadata": {},
     "output_type": "execute_result"
    }
   ],
   "source": [
    "# Check NaN\n",
    "df_train.isnull().sum()"
   ]
  },
  {
   "cell_type": "markdown",
   "metadata": {},
   "source": [
    "## Test"
   ]
  },
  {
   "cell_type": "code",
   "execution_count": 4,
   "metadata": {
    "ExecuteTime": {
     "end_time": "2018-12-01T09:35:01.808527Z",
     "start_time": "2018-12-01T09:35:00.309456Z"
    }
   },
   "outputs": [
    {
     "data": {
      "text/html": [
       "<div>\n",
       "<style scoped>\n",
       "    .dataframe tbody tr th:only-of-type {\n",
       "        vertical-align: middle;\n",
       "    }\n",
       "\n",
       "    .dataframe tbody tr th {\n",
       "        vertical-align: top;\n",
       "    }\n",
       "\n",
       "    .dataframe thead th {\n",
       "        text-align: right;\n",
       "    }\n",
       "</style>\n",
       "<table border=\"1\" class=\"dataframe\">\n",
       "  <thead>\n",
       "    <tr style=\"text-align: right;\">\n",
       "      <th></th>\n",
       "      <th>id</th>\n",
       "      <th>comment_text</th>\n",
       "    </tr>\n",
       "  </thead>\n",
       "  <tbody>\n",
       "    <tr>\n",
       "      <th>0</th>\n",
       "      <td>00001cee341fdb12</td>\n",
       "      <td>Yo bitch Ja Rule is more succesful then you'll...</td>\n",
       "    </tr>\n",
       "    <tr>\n",
       "      <th>1</th>\n",
       "      <td>0000247867823ef7</td>\n",
       "      <td>== From RfC == \\n\\n The title is fine as it is...</td>\n",
       "    </tr>\n",
       "    <tr>\n",
       "      <th>2</th>\n",
       "      <td>00013b17ad220c46</td>\n",
       "      <td>\" \\n\\n == Sources == \\n\\n * Zawe Ashton on Lap...</td>\n",
       "    </tr>\n",
       "    <tr>\n",
       "      <th>3</th>\n",
       "      <td>00017563c3f7919a</td>\n",
       "      <td>:If you have a look back at the source, the in...</td>\n",
       "    </tr>\n",
       "    <tr>\n",
       "      <th>4</th>\n",
       "      <td>00017695ad8997eb</td>\n",
       "      <td>I don't anonymously edit articles at all.</td>\n",
       "    </tr>\n",
       "  </tbody>\n",
       "</table>\n",
       "</div>"
      ],
      "text/plain": [
       "                 id                                       comment_text\n",
       "0  00001cee341fdb12  Yo bitch Ja Rule is more succesful then you'll...\n",
       "1  0000247867823ef7  == From RfC == \\n\\n The title is fine as it is...\n",
       "2  00013b17ad220c46  \" \\n\\n == Sources == \\n\\n * Zawe Ashton on Lap...\n",
       "3  00017563c3f7919a  :If you have a look back at the source, the in...\n",
       "4  00017695ad8997eb          I don't anonymously edit articles at all."
      ]
     },
     "execution_count": 4,
     "metadata": {},
     "output_type": "execute_result"
    }
   ],
   "source": [
    "df_test = pd.read_csv(\"../data/input/test.csv\")\n",
    "df_test.head()"
   ]
  },
  {
   "cell_type": "code",
   "execution_count": 5,
   "metadata": {
    "ExecuteTime": {
     "end_time": "2018-12-01T09:35:01.923746Z",
     "start_time": "2018-12-01T09:35:01.818904Z"
    }
   },
   "outputs": [
    {
     "data": {
      "text/plain": [
       "id              0\n",
       "comment_text    0\n",
       "dtype: int64"
      ]
     },
     "execution_count": 5,
     "metadata": {},
     "output_type": "execute_result"
    }
   ],
   "source": [
    "# Check NaN\n",
    "df_test.isnull().sum()"
   ]
  },
  {
   "cell_type": "code",
   "execution_count": 6,
   "metadata": {
    "ExecuteTime": {
     "end_time": "2018-12-01T09:35:02.274609Z",
     "start_time": "2018-12-01T09:35:01.927723Z"
    },
    "collapsed": true
   },
   "outputs": [],
   "source": [
    "df_test.loc[df_test.comment_text.isnull(), \"comment_text\"] = \"nan\"\n",
    "df_test.comment_text = df_test.comment_text.str.replace(\"\\n\", \"\")"
   ]
  },
  {
   "cell_type": "markdown",
   "metadata": {},
   "source": [
    "# Text cleaning"
   ]
  },
  {
   "cell_type": "code",
   "execution_count": 7,
   "metadata": {
    "ExecuteTime": {
     "end_time": "2018-12-01T09:35:02.360176Z",
     "start_time": "2018-12-01T09:35:02.278301Z"
    },
    "collapsed": true
   },
   "outputs": [],
   "source": [
    "def clean_text(x, lemmatize=False):\n",
    "    if type(x) == np.ndarray:\n",
    "        x = pd.Series(x)\n",
    "    # To lower\n",
    "    x = x.str.lower()\n",
    "    # Remove digits\n",
    "    x = x.str.replace('\\d+', '')\n",
    "    # Remove url\n",
    "    x = x.str.replace('http\\S+', \"\")\n",
    "    # Remove extra white spaces\n",
    "    x = x.str.replace('[^\\w\\s]', ' ')\n",
    "    x = x.str.replace(r\"what's\", \"what is \")\n",
    "    x = x.str.replace(r\"\\'s\", \" \")\n",
    "    x = x.str.replace(r\"\\'ve\", \" have \")\n",
    "    x = x.str.replace(r\"can't\", \"cannot \")\n",
    "    x = x.str.replace(r\"n't\", \" not \")\n",
    "    x = x.str.replace(r\"i'm\", \"i am \")\n",
    "    x = x.str.replace(r\"\\'re\", \" are \")\n",
    "    x = x.str.replace(r\"\\'d\", \" would \")\n",
    "    x = x.str.replace(r\"\\'ll\", \" will \")\n",
    "    x = x.str.replace(r\"\\'scuse\", \" excuse \")\n",
    "    # x = x.str.replace(r\"!\", \" _exclamationmark_ \", x)\n",
    "    # x = x.str.replace(r\"\\?\", \" _questionmark_ \", x)\n",
    "    # Remove white space begin end string\n",
    "    x = x.str.strip()\n",
    "    if lemmatize:\n",
    "        lemmatiser = WordNetLemmatizer()\n",
    "        x = x.map(lambda sentence : \" \".join([lemmatiser.lemmatize(word.strip()) for word in sentence.split(' ') if word not in [\"\", \" \", \"  \"]]))\n",
    "    # Remove punctuation\n",
    "    translator = str.maketrans('', '', string.punctuation)\n",
    "    x = x.map(lambda sentence: sentence.translate(translator))\n",
    "    # Remove stopwords\n",
    "    stop_words = stopwords.words('english') + [\"wikipedia\", \"wiki\"]\n",
    "    x = x.map(lambda sentence : \" \".join([word for word in sentence.split(\" \") if (word not in stop_words) and (len(word) > 1)]))\n",
    "    return x.values"
   ]
  },
  {
   "cell_type": "markdown",
   "metadata": {},
   "source": [
    "# Add features"
   ]
  },
  {
   "cell_type": "code",
   "execution_count": 8,
   "metadata": {
    "ExecuteTime": {
     "end_time": "2018-12-01T09:35:02.418607Z",
     "start_time": "2018-12-01T09:35:02.363359Z"
    },
    "collapsed": true
   },
   "outputs": [],
   "source": [
    "def add_features(x):\n",
    "    if type(x) == np.ndarray:\n",
    "        df = pd.Series(x).rename(\"comment_text\").to_frame()\n",
    "    if type(x) == pd.core.series.Series:\n",
    "        df = x.rename(\"comment_text\").to_frame()\n",
    "    df[\"n_interrogation\"] = df.comment_text.str.count(\"\\\\?\")\n",
    "    df[\"n_exclamation\"] = df.comment_text.str.count(\"\\\\!\")\n",
    "    df[\"n_dot\"] = df.comment_text.str.count(\"\\\\.\")\n",
    "    df[\"n_coma\"] = df.comment_text.str.count(\"\\\\,\")\n",
    "    df[\"n_upper\"] = df.comment_text.str.count(\"[A-Z]\")\n",
    "    df[\"length\"] = df.comment_text.map(len)\n",
    "    df[\"n_words\"] = df.comment_text.str.split().map(len)\n",
    "\n",
    "    df[\"ratio_interrogation_n_words\"] = df[\"n_interrogation\"] / df[\"n_words\"]\n",
    "    df[\"ratio_exclamation_n_words\"] = df[\"n_exclamation\"] / df[\"n_words\"]\n",
    "    df[\"ratio_dot_n_words\"] = df[\"n_dot\"] / df[\"n_words\"]\n",
    "    df[\"ratio_coma_n_words\"] = df[\"n_coma\"] / df[\"n_words\"]\n",
    "    df[\"ratio_upper_n_words\"] = df[\"n_upper\"] / df[\"n_words\"]\n",
    "\n",
    "    df[\"ratio_interrogation_length\"] = df[\"n_interrogation\"] / df[\"length\"]\n",
    "    df[\"ratio_exclamation_length\"] = df[\"n_exclamation\"] / df[\"length\"]\n",
    "    df[\"ratio_dot_length\"] = df[\"n_dot\"] / df[\"length\"]\n",
    "    df[\"ratio_coma_length\"] = df[\"n_coma\"] / df[\"length\"]\n",
    "    df[\"ratio_upper_length\"] = df[\"n_upper\"] / df[\"length\"]\n",
    "    return df"
   ]
  },
  {
   "cell_type": "markdown",
   "metadata": {},
   "source": [
    "# Train, Valid, Test"
   ]
  },
  {
   "cell_type": "code",
   "execution_count": 9,
   "metadata": {
    "ExecuteTime": {
     "end_time": "2018-12-01T09:35:02.610779Z",
     "start_time": "2018-12-01T09:35:02.421656Z"
    }
   },
   "outputs": [
    {
     "name": "stdout",
     "output_type": "stream",
     "text": [
      "Distribution of Total Positive Labels (important for validation)\n",
      "0    143346\n",
      "1      6360\n",
      "3      4209\n",
      "2      3480\n",
      "4      1760\n",
      "5       385\n",
      "6        31\n",
      "dtype: int64\n",
      "Training: (135635,)\n",
      "Testing: (23936,)\n"
     ]
    }
   ],
   "source": [
    "any_category_positive = np.sum(df_train[targets], 1)\n",
    "\n",
    "print('Distribution of Total Positive Labels (important for validation)')\n",
    "print(pd.value_counts(any_category_positive))\n",
    "\n",
    "X_train, X_test, y_train, y_test = train_test_split(\n",
    "    df_train.comment_text,\n",
    "    df_train[targets],\n",
    "    test_size=0.15,\n",
    "    stratify=any_category_positive,\n",
    "    random_state=777)\n",
    "print('Training:', X_train.shape)\n",
    "print('Testing:', X_test.shape)"
   ]
  },
  {
   "cell_type": "markdown",
   "metadata": {},
   "source": [
    "# Baseline Model : Logistic Regression"
   ]
  },
  {
   "cell_type": "code",
   "execution_count": 10,
   "metadata": {
    "ExecuteTime": {
     "end_time": "2018-12-01T09:35:02.635969Z",
     "start_time": "2018-12-01T09:35:02.614076Z"
    },
    "collapsed": true
   },
   "outputs": [],
   "source": [
    "def logistic_model(X_train,\n",
    "                   y_train,\n",
    "                   X_test,\n",
    "                   y_test,\n",
    "                   targets=targets,\n",
    "                   penalty=\"l2\"):\n",
    "    metric = []\n",
    "    for target in targets:\n",
    "        print(\"_____________\")\n",
    "        print(target)\n",
    "        model = LogisticRegression(penalty=penalty)\n",
    "        model.fit(X_train, y_train[target])\n",
    "        score = log_loss(\n",
    "            y_pred=model.predict_proba(X_test)[:, 1], y_true=y_test[target])\n",
    "        print(score)\n",
    "        metric.append(score)\n",
    "    return metric"
   ]
  },
  {
   "cell_type": "markdown",
   "metadata": {},
   "source": [
    "## Raw tfidf"
   ]
  },
  {
   "cell_type": "code",
   "execution_count": 11,
   "metadata": {
    "ExecuteTime": {
     "end_time": "2018-12-01T09:35:20.246440Z",
     "start_time": "2018-12-01T09:35:02.640271Z"
    },
    "collapsed": true
   },
   "outputs": [],
   "source": [
    "tfidf_vectorizer = TfidfVectorizer(\n",
    "    max_df=0.95,\n",
    "    min_df=5,\n",
    "    max_features=10000,\n",
    "    strip_accents=\"unicode\",\n",
    "    stop_words=None,\n",
    "    lowercase=False).fit(X_train)"
   ]
  },
  {
   "cell_type": "code",
   "execution_count": 12,
   "metadata": {
    "ExecuteTime": {
     "end_time": "2018-12-01T09:35:54.374792Z",
     "start_time": "2018-12-01T09:35:20.249568Z"
    }
   },
   "outputs": [
    {
     "name": "stdout",
     "output_type": "stream",
     "text": [
      "_____________\n",
      "toxic\n",
      "0.1198273729398902\n",
      "_____________\n",
      "severe_toxic\n",
      "0.027704352745730673\n",
      "_____________\n",
      "obscene\n",
      "0.07193729926358541\n",
      "_____________\n",
      "threat\n",
      "0.013538341902888062\n",
      "_____________\n",
      "insult\n",
      "0.08000075731355583\n",
      "_____________\n",
      "identity_hate\n",
      "0.02722096252550402\n"
     ]
    }
   ],
   "source": [
    "logloss_raw_tfidf = logistic_model(\n",
    "    tfidf_vectorizer.transform(X_train),\n",
    "    y_train,\n",
    "    tfidf_vectorizer.transform(X_test),\n",
    "    y_test,\n",
    "    targets=targets)"
   ]
  },
  {
   "cell_type": "markdown",
   "metadata": {},
   "source": [
    "## Clean text ?"
   ]
  },
  {
   "cell_type": "code",
   "execution_count": 13,
   "metadata": {
    "ExecuteTime": {
     "end_time": "2018-12-01T09:36:32.750459Z",
     "start_time": "2018-12-01T09:35:54.378020Z"
    },
    "collapsed": true
   },
   "outputs": [],
   "source": [
    "X_train_clean = clean_text(X_train, lemmatize=False)\n",
    "X_test_clean = clean_text(X_test, lemmatize=False)"
   ]
  },
  {
   "cell_type": "code",
   "execution_count": 14,
   "metadata": {
    "ExecuteTime": {
     "end_time": "2018-12-01T09:36:39.137390Z",
     "start_time": "2018-12-01T09:36:32.757173Z"
    },
    "collapsed": true
   },
   "outputs": [],
   "source": [
    "tfidf_vectorizer = TfidfVectorizer(\n",
    "    max_df=0.95,\n",
    "    min_df=5,\n",
    "    max_features=10000,\n",
    "    strip_accents=\"unicode\",\n",
    "    stop_words=None,\n",
    "    lowercase=False).fit(X_train_clean)"
   ]
  },
  {
   "cell_type": "code",
   "execution_count": 15,
   "metadata": {
    "ExecuteTime": {
     "end_time": "2018-12-01T09:36:52.134369Z",
     "start_time": "2018-12-01T09:36:39.139938Z"
    }
   },
   "outputs": [
    {
     "name": "stdout",
     "output_type": "stream",
     "text": [
      "_____________\n",
      "toxic\n",
      "0.11796056066576054\n",
      "_____________\n",
      "severe_toxic\n",
      "0.02823711493561967\n",
      "_____________\n",
      "obscene\n",
      "0.06647745701375439\n",
      "_____________\n",
      "threat\n",
      "0.013870892349002241\n",
      "_____________\n",
      "insult\n",
      "0.08112970110419752\n",
      "_____________\n",
      "identity_hate\n",
      "0.02600802255523718\n"
     ]
    }
   ],
   "source": [
    "logloss_clean_tfidf = logistic_model(\n",
    "    tfidf_vectorizer.transform(X_train_clean),\n",
    "    y_train,\n",
    "    tfidf_vectorizer.transform(X_test_clean),\n",
    "    y_test,\n",
    "    targets=targets)"
   ]
  },
  {
   "cell_type": "markdown",
   "metadata": {},
   "source": [
    "## Lemmatize ?"
   ]
  },
  {
   "cell_type": "code",
   "execution_count": 16,
   "metadata": {
    "ExecuteTime": {
     "end_time": "2018-12-01T09:41:05.883131Z",
     "start_time": "2018-12-01T09:36:52.138527Z"
    },
    "collapsed": true
   },
   "outputs": [],
   "source": [
    "X_train_lemmatize = clean_text(X_train, lemmatize=True)\n",
    "X_test_lemmatize = clean_text(X_test, lemmatize=True)"
   ]
  },
  {
   "cell_type": "code",
   "execution_count": 17,
   "metadata": {
    "ExecuteTime": {
     "end_time": "2018-12-01T09:41:24.442857Z",
     "start_time": "2018-12-01T09:41:05.895558Z"
    },
    "collapsed": true
   },
   "outputs": [],
   "source": [
    "tfidf_vectorizer = TfidfVectorizer(\n",
    "    max_df=0.95,\n",
    "    min_df=5,\n",
    "    max_features=10000,\n",
    "    strip_accents=\"unicode\",\n",
    "    stop_words=None,\n",
    "    lowercase=False).fit(X_train_lemmatize)"
   ]
  },
  {
   "cell_type": "code",
   "execution_count": 18,
   "metadata": {
    "ExecuteTime": {
     "end_time": "2018-12-01T09:42:13.286109Z",
     "start_time": "2018-12-01T09:41:24.462208Z"
    }
   },
   "outputs": [
    {
     "name": "stdout",
     "output_type": "stream",
     "text": [
      "_____________\n",
      "toxic\n",
      "0.11841514580044928\n",
      "_____________\n",
      "severe_toxic\n",
      "0.028060074371324052\n",
      "_____________\n",
      "obscene\n",
      "0.06883360412936235\n",
      "_____________\n",
      "threat\n",
      "0.0139152130983805\n",
      "_____________\n",
      "insult\n",
      "0.08195929315400802\n",
      "_____________\n",
      "identity_hate\n",
      "0.025198214763236488\n"
     ]
    }
   ],
   "source": [
    "logloss_lemmatize_tfidf = logistic_model(\n",
    "    tfidf_vectorizer.transform(X_train_lemmatize),\n",
    "    y_train,\n",
    "    tfidf_vectorizer.transform(X_test_lemmatize),\n",
    "    y_test,\n",
    "    targets=targets)"
   ]
  },
  {
   "cell_type": "markdown",
   "metadata": {},
   "source": [
    "## Add custom features ?"
   ]
  },
  {
   "cell_type": "code",
   "execution_count": 19,
   "metadata": {
    "ExecuteTime": {
     "end_time": "2018-12-01T09:42:13.332828Z",
     "start_time": "2018-12-01T09:42:13.293976Z"
    },
    "collapsed": true
   },
   "outputs": [],
   "source": [
    "def process_data(X_train, X_test):\n",
    "    features_train = add_features(X_train).drop(\"comment_text\", axis=1)\n",
    "    features_test = add_features(X_test).drop(\"comment_text\", axis=1)\n",
    "    X_train = clean_text(X_train)\n",
    "    X_test = clean_text(X_test)\n",
    "    tfidf = TfidfVectorizer(\n",
    "        max_df=0.95,\n",
    "        min_df=5,\n",
    "        max_features=10000,\n",
    "        strip_accents=\"unicode\",\n",
    "        stop_words=None,\n",
    "        lowercase=False)\n",
    "    tfidf = tfidf.fit(X_train)\n",
    "    tfidf_train = tfidf.transform(X_train)\n",
    "    tfidf_test = tfidf.transform(X_test)\n",
    "    X_train = sparse.hstack((features_train, tfidf_train), format='csr')\n",
    "    X_test = sparse.hstack((features_test, tfidf_test), format='csr')\n",
    "    return X_train, X_test"
   ]
  },
  {
   "cell_type": "code",
   "execution_count": 20,
   "metadata": {
    "ExecuteTime": {
     "end_time": "2018-12-01T09:43:56.914946Z",
     "start_time": "2018-12-01T09:42:13.338873Z"
    },
    "collapsed": true
   },
   "outputs": [],
   "source": [
    "X_train_features, X_test_features = process_data(X_train, X_test)"
   ]
  },
  {
   "cell_type": "code",
   "execution_count": 21,
   "metadata": {
    "ExecuteTime": {
     "end_time": "2018-12-01T09:47:06.003626Z",
     "start_time": "2018-12-01T09:43:56.930551Z"
    }
   },
   "outputs": [
    {
     "name": "stdout",
     "output_type": "stream",
     "text": [
      "_____________\n",
      "toxic\n",
      "0.2696314718543134\n",
      "_____________\n",
      "severe_toxic\n",
      "0.08002180231346326\n",
      "_____________\n",
      "obscene\n",
      "0.27839915473259097\n",
      "_____________\n",
      "threat\n",
      "0.040163303252631705\n",
      "_____________\n",
      "insult\n",
      "0.183908432323111\n",
      "_____________\n",
      "identity_hate\n",
      "0.05446254383461274\n"
     ]
    }
   ],
   "source": [
    "logloss_features_tfidf = logistic_model(\n",
    "    X_train_features, y_train, X_test_features, y_test, targets=targets)"
   ]
  },
  {
   "cell_type": "markdown",
   "metadata": {},
   "source": [
    "## Compare results"
   ]
  },
  {
   "cell_type": "code",
   "execution_count": 22,
   "metadata": {
    "ExecuteTime": {
     "end_time": "2018-12-01T09:47:06.052911Z",
     "start_time": "2018-12-01T09:47:06.014704Z"
    },
    "collapsed": true
   },
   "outputs": [],
   "source": [
    "df_scores = pd.DataFrame(\n",
    "    {\n",
    "        \"raw_tfidf\": logloss_raw_tfidf,\n",
    "        \"clean_tfidf\": logloss_clean_tfidf,\n",
    "        \"lemmatize_tfidf\": logloss_lemmatize_tfidf,\n",
    "        \"features_tfidf\": logloss_features_tfidf\n",
    "    },\n",
    "    index=targets)[[\n",
    "        \"raw_tfidf\", \"clean_tfidf\", \"lemmatize_tfidf\", \"features_tfidf\"\n",
    "    ]]"
   ]
  },
  {
   "cell_type": "code",
   "execution_count": 23,
   "metadata": {
    "ExecuteTime": {
     "end_time": "2018-12-01T09:47:06.098211Z",
     "start_time": "2018-12-01T09:47:06.061333Z"
    }
   },
   "outputs": [
    {
     "data": {
      "text/html": [
       "<div>\n",
       "<style scoped>\n",
       "    .dataframe tbody tr th:only-of-type {\n",
       "        vertical-align: middle;\n",
       "    }\n",
       "\n",
       "    .dataframe tbody tr th {\n",
       "        vertical-align: top;\n",
       "    }\n",
       "\n",
       "    .dataframe thead th {\n",
       "        text-align: right;\n",
       "    }\n",
       "</style>\n",
       "<table border=\"1\" class=\"dataframe\">\n",
       "  <thead>\n",
       "    <tr style=\"text-align: right;\">\n",
       "      <th></th>\n",
       "      <th>raw_tfidf</th>\n",
       "      <th>clean_tfidf</th>\n",
       "      <th>lemmatize_tfidf</th>\n",
       "      <th>features_tfidf</th>\n",
       "    </tr>\n",
       "  </thead>\n",
       "  <tbody>\n",
       "    <tr>\n",
       "      <th>toxic</th>\n",
       "      <td>0.119827</td>\n",
       "      <td>0.117961</td>\n",
       "      <td>0.118415</td>\n",
       "      <td>0.269631</td>\n",
       "    </tr>\n",
       "    <tr>\n",
       "      <th>severe_toxic</th>\n",
       "      <td>0.027704</td>\n",
       "      <td>0.028237</td>\n",
       "      <td>0.028060</td>\n",
       "      <td>0.080022</td>\n",
       "    </tr>\n",
       "    <tr>\n",
       "      <th>obscene</th>\n",
       "      <td>0.071937</td>\n",
       "      <td>0.066477</td>\n",
       "      <td>0.068834</td>\n",
       "      <td>0.278399</td>\n",
       "    </tr>\n",
       "    <tr>\n",
       "      <th>threat</th>\n",
       "      <td>0.013538</td>\n",
       "      <td>0.013871</td>\n",
       "      <td>0.013915</td>\n",
       "      <td>0.040163</td>\n",
       "    </tr>\n",
       "    <tr>\n",
       "      <th>insult</th>\n",
       "      <td>0.080001</td>\n",
       "      <td>0.081130</td>\n",
       "      <td>0.081959</td>\n",
       "      <td>0.183908</td>\n",
       "    </tr>\n",
       "    <tr>\n",
       "      <th>identity_hate</th>\n",
       "      <td>0.027221</td>\n",
       "      <td>0.026008</td>\n",
       "      <td>0.025198</td>\n",
       "      <td>0.054463</td>\n",
       "    </tr>\n",
       "  </tbody>\n",
       "</table>\n",
       "</div>"
      ],
      "text/plain": [
       "               raw_tfidf  clean_tfidf  lemmatize_tfidf  features_tfidf\n",
       "toxic           0.119827     0.117961         0.118415        0.269631\n",
       "severe_toxic    0.027704     0.028237         0.028060        0.080022\n",
       "obscene         0.071937     0.066477         0.068834        0.278399\n",
       "threat          0.013538     0.013871         0.013915        0.040163\n",
       "insult          0.080001     0.081130         0.081959        0.183908\n",
       "identity_hate   0.027221     0.026008         0.025198        0.054463"
      ]
     },
     "execution_count": 23,
     "metadata": {},
     "output_type": "execute_result"
    }
   ],
   "source": [
    "df_scores"
   ]
  },
  {
   "cell_type": "code",
   "execution_count": 24,
   "metadata": {
    "ExecuteTime": {
     "end_time": "2018-12-01T09:47:06.126824Z",
     "start_time": "2018-12-01T09:47:06.103061Z"
    }
   },
   "outputs": [
    {
     "data": {
      "text/plain": [
       "raw_tfidf          0.056705\n",
       "clean_tfidf        0.055614\n",
       "lemmatize_tfidf    0.056064\n",
       "features_tfidf     0.151098\n",
       "dtype: float64"
      ]
     },
     "execution_count": 24,
     "metadata": {},
     "output_type": "execute_result"
    }
   ],
   "source": [
    "df_scores.mean()"
   ]
  },
  {
   "cell_type": "code",
   "execution_count": 25,
   "metadata": {
    "ExecuteTime": {
     "end_time": "2018-12-01T09:47:06.605469Z",
     "start_time": "2018-12-01T09:47:06.136979Z"
    }
   },
   "outputs": [
    {
     "data": {
      "image/png": "[encoded data removed]",
      "text/plain": [
       "<matplotlib.figure.Figure at 0x12f178b38>"
      ]
     },
     "metadata": {},
     "output_type": "display_data"
    }
   ],
   "source": [
    "df_scores.mean().plot.bar(ylim = (0.05, 0.14))\n",
    "plt.show()"
   ]
  },
  {
   "cell_type": "markdown",
   "metadata": {},
   "source": [
    "# l1 vs. l2 penalization"
   ]
  },
  {
   "cell_type": "markdown",
   "metadata": {},
   "source": [
    "## Model with l1 penalization"
   ]
  },
  {
   "cell_type": "code",
   "execution_count": 26,
   "metadata": {
    "ExecuteTime": {
     "end_time": "2018-12-01T09:47:40.573098Z",
     "start_time": "2018-12-01T09:47:06.613706Z"
    }
   },
   "outputs": [
    {
     "name": "stdout",
     "output_type": "stream",
     "text": [
      "_____________\n",
      "toxic\n",
      "0.1529897168458661\n",
      "_____________\n",
      "severe_toxic\n",
      "0.03681210705275043\n",
      "_____________\n",
      "obscene\n",
      "0.09423037583532257\n",
      "_____________\n",
      "threat\n",
      "0.017129064134504393\n",
      "_____________\n",
      "insult\n",
      "0.10077761831932265\n",
      "_____________\n",
      "identity_hate\n",
      "0.031344137149303807\n"
     ]
    }
   ],
   "source": [
    "logloss_raw_tfidf_l1 = logistic_model(\n",
    "    tfidf_vectorizer.transform(X_train),\n",
    "    y_train,\n",
    "    tfidf_vectorizer.transform(X_test),\n",
    "    y_test,\n",
    "    targets=targets,\n",
    "    penalty=\"l1\")"
   ]
  },
  {
   "cell_type": "code",
   "execution_count": 27,
   "metadata": {
    "ExecuteTime": {
     "end_time": "2018-12-01T09:48:07.169276Z",
     "start_time": "2018-12-01T09:47:40.577334Z"
    }
   },
   "outputs": [
    {
     "name": "stdout",
     "output_type": "stream",
     "text": [
      "_____________\n",
      "toxic\n",
      "0.1170019146145615\n",
      "_____________\n",
      "severe_toxic\n",
      "0.028897139793483007\n",
      "_____________\n",
      "obscene\n",
      "0.06550290941188812\n",
      "_____________\n",
      "threat\n",
      "0.013477466098789581\n",
      "_____________\n",
      "insult\n",
      "0.0833619056340588\n",
      "_____________\n",
      "identity_hate\n",
      "0.027551194339926394\n"
     ]
    }
   ],
   "source": [
    "logloss_clean_tfidf_l1 = logistic_model(\n",
    "    tfidf_vectorizer.transform(X_train_clean),\n",
    "    y_train,\n",
    "    tfidf_vectorizer.transform(X_test_clean),\n",
    "    y_test,\n",
    "    targets=targets,\n",
    "    penalty=\"l1\")"
   ]
  },
  {
   "cell_type": "code",
   "execution_count": 28,
   "metadata": {
    "ExecuteTime": {
     "end_time": "2018-12-01T09:48:35.081935Z",
     "start_time": "2018-12-01T09:48:07.174973Z"
    }
   },
   "outputs": [
    {
     "name": "stdout",
     "output_type": "stream",
     "text": [
      "_____________\n",
      "toxic\n",
      "0.11352765023081991\n",
      "_____________\n",
      "severe_toxic\n",
      "0.02850839661356799\n",
      "_____________\n",
      "obscene\n",
      "0.06585178600960409\n",
      "_____________\n",
      "threat\n",
      "0.013356144063422866\n",
      "_____________\n",
      "insult\n",
      "0.08200182345337717\n",
      "_____________\n",
      "identity_hate\n",
      "0.025434127541541073\n"
     ]
    }
   ],
   "source": [
    "logloss_lemmatize_tfidf_l1 = logistic_model(\n",
    "    tfidf_vectorizer.transform(X_train_lemmatize),\n",
    "    y_train,\n",
    "    tfidf_vectorizer.transform(X_test_lemmatize),\n",
    "    y_test,\n",
    "    targets=targets,\n",
    "    penalty=\"l1\")"
   ]
  },
  {
   "cell_type": "code",
   "execution_count": 29,
   "metadata": {
    "ExecuteTime": {
     "end_time": "2018-12-01T09:49:35.375985Z",
     "start_time": "2018-12-01T09:48:35.086052Z"
    }
   },
   "outputs": [
    {
     "name": "stdout",
     "output_type": "stream",
     "text": [
      "_____________\n",
      "toxic\n",
      "0.10977854647390371\n",
      "_____________\n",
      "severe_toxic\n",
      "0.02753029893502731\n",
      "_____________\n",
      "obscene\n",
      "0.0631046154679486\n",
      "_____________\n",
      "threat\n",
      "0.012970622663000154\n",
      "_____________\n",
      "insult\n",
      "0.0810711218740967\n",
      "_____________\n",
      "identity_hate\n",
      "0.02658169524831104\n"
     ]
    }
   ],
   "source": [
    "logloss_features_tfidf_l1 = logistic_model(\n",
    "    X_train_features,\n",
    "    y_train,\n",
    "    X_test_features,\n",
    "    y_test,\n",
    "    targets=targets,\n",
    "    penalty=\"l1\")"
   ]
  },
  {
   "cell_type": "code",
   "execution_count": 30,
   "metadata": {
    "ExecuteTime": {
     "end_time": "2018-12-01T09:49:35.391997Z",
     "start_time": "2018-12-01T09:49:35.382109Z"
    },
    "collapsed": true
   },
   "outputs": [],
   "source": [
    "df_scores_l1 = pd.DataFrame({\n",
    "    \"raw_tfidf\": logloss_raw_tfidf_l1,\n",
    "    \"clean_tfidf\": logloss_clean_tfidf_l1,\n",
    "    \"lemmatize_tfidf\": logloss_lemmatize_tfidf_l1,\n",
    "    \"features_tfidf\":logloss_features_tfidf_l1\n",
    "}, index=targets)[[\"raw_tfidf\", \"clean_tfidf\", \"lemmatize_tfidf\",\"features_tfidf\"]]"
   ]
  },
  {
   "cell_type": "code",
   "execution_count": 31,
   "metadata": {
    "ExecuteTime": {
     "end_time": "2018-12-01T09:49:35.414997Z",
     "start_time": "2018-12-01T09:49:35.397670Z"
    }
   },
   "outputs": [
    {
     "data": {
      "text/html": [
       "<div>\n",
       "<style scoped>\n",
       "    .dataframe tbody tr th:only-of-type {\n",
       "        vertical-align: middle;\n",
       "    }\n",
       "\n",
       "    .dataframe tbody tr th {\n",
       "        vertical-align: top;\n",
       "    }\n",
       "\n",
       "    .dataframe thead th {\n",
       "        text-align: right;\n",
       "    }\n",
       "</style>\n",
       "<table border=\"1\" class=\"dataframe\">\n",
       "  <thead>\n",
       "    <tr style=\"text-align: right;\">\n",
       "      <th></th>\n",
       "      <th>raw_tfidf</th>\n",
       "      <th>clean_tfidf</th>\n",
       "      <th>lemmatize_tfidf</th>\n",
       "      <th>features_tfidf</th>\n",
       "    </tr>\n",
       "  </thead>\n",
       "  <tbody>\n",
       "    <tr>\n",
       "      <th>toxic</th>\n",
       "      <td>0.152990</td>\n",
       "      <td>0.117002</td>\n",
       "      <td>0.113528</td>\n",
       "      <td>0.109779</td>\n",
       "    </tr>\n",
       "    <tr>\n",
       "      <th>severe_toxic</th>\n",
       "      <td>0.036812</td>\n",
       "      <td>0.028897</td>\n",
       "      <td>0.028508</td>\n",
       "      <td>0.027530</td>\n",
       "    </tr>\n",
       "    <tr>\n",
       "      <th>obscene</th>\n",
       "      <td>0.094230</td>\n",
       "      <td>0.065503</td>\n",
       "      <td>0.065852</td>\n",
       "      <td>0.063105</td>\n",
       "    </tr>\n",
       "    <tr>\n",
       "      <th>threat</th>\n",
       "      <td>0.017129</td>\n",
       "      <td>0.013477</td>\n",
       "      <td>0.013356</td>\n",
       "      <td>0.012971</td>\n",
       "    </tr>\n",
       "    <tr>\n",
       "      <th>insult</th>\n",
       "      <td>0.100778</td>\n",
       "      <td>0.083362</td>\n",
       "      <td>0.082002</td>\n",
       "      <td>0.081071</td>\n",
       "    </tr>\n",
       "    <tr>\n",
       "      <th>identity_hate</th>\n",
       "      <td>0.031344</td>\n",
       "      <td>0.027551</td>\n",
       "      <td>0.025434</td>\n",
       "      <td>0.026582</td>\n",
       "    </tr>\n",
       "  </tbody>\n",
       "</table>\n",
       "</div>"
      ],
      "text/plain": [
       "               raw_tfidf  clean_tfidf  lemmatize_tfidf  features_tfidf\n",
       "toxic           0.152990     0.117002         0.113528        0.109779\n",
       "severe_toxic    0.036812     0.028897         0.028508        0.027530\n",
       "obscene         0.094230     0.065503         0.065852        0.063105\n",
       "threat          0.017129     0.013477         0.013356        0.012971\n",
       "insult          0.100778     0.083362         0.082002        0.081071\n",
       "identity_hate   0.031344     0.027551         0.025434        0.026582"
      ]
     },
     "execution_count": 31,
     "metadata": {},
     "output_type": "execute_result"
    }
   ],
   "source": [
    "df_scores_l1"
   ]
  },
  {
   "cell_type": "code",
   "execution_count": 32,
   "metadata": {
    "ExecuteTime": {
     "end_time": "2018-12-01T09:49:35.431924Z",
     "start_time": "2018-12-01T09:49:35.419022Z"
    }
   },
   "outputs": [
    {
     "data": {
      "text/plain": [
       "raw_tfidf          0.072214\n",
       "clean_tfidf        0.055965\n",
       "lemmatize_tfidf    0.054780\n",
       "features_tfidf     0.053506\n",
       "dtype: float64"
      ]
     },
     "execution_count": 32,
     "metadata": {},
     "output_type": "execute_result"
    }
   ],
   "source": [
    "df_scores_l1.mean()"
   ]
  },
  {
   "cell_type": "code",
   "execution_count": 33,
   "metadata": {
    "ExecuteTime": {
     "end_time": "2018-12-01T09:49:35.665942Z",
     "start_time": "2018-12-01T09:49:35.436583Z"
    }
   },
   "outputs": [
    {
     "data": {
      "image/png": "[encoded data removed]",
      "text/plain": [
       "<matplotlib.figure.Figure at 0x126bece10>"
      ]
     },
     "metadata": {},
     "output_type": "display_data"
    }
   ],
   "source": [
    "df_scores_l1.mean().plot.bar(ylim = (0.05, 0.08))\n",
    "plt.show()"
   ]
  },
  {
   "cell_type": "markdown",
   "metadata": {},
   "source": [
    "## Compare results l1 / l2"
   ]
  },
  {
   "cell_type": "code",
   "execution_count": 34,
   "metadata": {
    "ExecuteTime": {
     "end_time": "2018-12-01T09:49:35.687910Z",
     "start_time": "2018-12-01T09:49:35.669129Z"
    },
    "collapsed": true
   },
   "outputs": [],
   "source": [
    "df_scores_l1.columns = [x + \"_l1\" for x in df_scores_l1.columns]"
   ]
  },
  {
   "cell_type": "code",
   "execution_count": 42,
   "metadata": {
    "ExecuteTime": {
     "end_time": "2018-12-01T09:56:31.557558Z",
     "start_time": "2018-12-01T09:56:31.240717Z"
    }
   },
   "outputs": [
    {
     "data": {
      "image/png": "[encoded data removed]",
      "text/plain": [
       "<matplotlib.figure.Figure at 0x12daae828>"
      ]
     },
     "metadata": {},
     "output_type": "display_data"
    }
   ],
   "source": [
    "df_scores_l1_l2 = pd.concat(\n",
    "    [df_scores, df_scores_l1], axis=1)[[\n",
    "        \"raw_tfidf\", \"raw_tfidf_l1\", \"clean_tfidf\", \"clean_tfidf_l1\",\n",
    "        \"lemmatize_tfidf\", \"lemmatize_tfidf_l1\", \"features_tfidf\",\n",
    "        \"features_tfidf_l1\"\n",
    "    ]]\n",
    "df_scores_l1_l2.mean().plot.bar(ylim = (0.05, 0.18))\n",
    "plt.ylabel(\"Log Loss\")\n",
    "plt.title(\"Compare performance results\")\n",
    "plt.show()"
   ]
  },
  {
   "cell_type": "code",
   "execution_count": 40,
   "metadata": {
    "ExecuteTime": {
     "end_time": "2018-12-01T09:56:17.745427Z",
     "start_time": "2018-12-01T09:56:17.335386Z"
    }
   },
   "outputs": [
    {
     "data": {
      "image/png": "[encoded data removed]",
      "text/plain": [
       "<matplotlib.figure.Figure at 0x12a09b828>"
      ]
     },
     "metadata": {},
     "output_type": "display_data"
    }
   ],
   "source": [
    "df_scores_l1_l2 = df_scores_l1_l2[[\"clean_tfidf\", \"clean_tfidf_l1\",\n",
    "        \"lemmatize_tfidf\", \"lemmatize_tfidf_l1\",\n",
    "        \"features_tfidf_l1\"\n",
    "    ]]\n",
    "df_scores_l1_l2.mean().plot.bar(ylim=(0.053, 0.057))\n",
    "plt.ylabel(\"Log Loss\")\n",
    "plt.title(\"Zoom : compare performance results\")\n",
    "plt.show()"
   ]
  }
 ],
 "metadata": {
  "hide_input": false,
  "kernelspec": {
   "display_name": "Python [default]",
   "language": "python",
   "name": "python3"
  },
  "language_info": {
   "codemirror_mode": {
    "name": "ipython",
    "version": 3
   },
   "file_extension": ".py",
   "mimetype": "text/x-python",
   "name": "python",
   "nbconvert_exporter": "python",
   "pygments_lexer": "ipython3",
   "version": "3.6.3"
  },
  "toc": {
   "colors": {
    "hover_highlight": "#DAA520",
    "running_highlight": "#FF0000",
    "selected_highlight": "#FFD700"
   },
   "moveMenuLeft": true,
   "nav_menu": {},
   "navigate_menu": true,
   "number_sections": true,
   "sideBar": true,
   "skip_h1_title": false,
   "threshold": 4,
   "toc_cell": false,
   "toc_position": {
    "height": "988px",
    "left": "0px",
    "right": "1821.34px",
    "top": "110px",
    "width": "212px"
   },
   "toc_section_display": "block",
   "toc_window_display": true,
   "widenNotebook": false
  },
  "varInspector": {
   "cols": {
    "lenName": 16,
    "lenType": 16,
    "lenVar": 40
   },
   "kernels_config": {
    "python": {
     "delete_cmd_postfix": "",
     "delete_cmd_prefix": "del ",
     "library": "var_list.py",
     "varRefreshCmd": "print(var_dic_list())"
    },
    "r": {
     "delete_cmd_postfix": ") ",
     "delete_cmd_prefix": "rm(",
     "library": "var_list.r",
     "varRefreshCmd": "cat(var_dic_list()) "
    }
   },
   "types_to_exclude": [
    "module",
    "function",
    "builtin_function_or_method",
    "instance",
    "_Feature"
   ],
   "window_display": false
  }
 },
 "nbformat": 4,
 "nbformat_minor": 2
}
