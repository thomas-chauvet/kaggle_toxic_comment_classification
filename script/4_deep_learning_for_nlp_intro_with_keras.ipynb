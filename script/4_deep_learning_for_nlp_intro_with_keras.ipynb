{
 "cells": [
  {
   "cell_type": "markdown",
   "metadata": {},
   "source": [
    "# Library"
   ]
  },
  {
   "cell_type": "code",
   "execution_count": 1,
   "metadata": {
    "ExecuteTime": {
     "end_time": "2018-12-01T11:38:35.198034Z",
     "start_time": "2018-12-01T11:38:30.041752Z"
    }
   },
   "outputs": [
    {
     "name": "stderr",
     "output_type": "stream",
     "text": [
      "Using TensorFlow backend.\n"
     ]
    }
   ],
   "source": [
    "import numpy as np\n",
    "import pandas as pd\n",
    "\n",
    "import matplotlib\n",
    "import matplotlib.pyplot as plt\n",
    "import seaborn as sns\n",
    "%matplotlib inline\n",
    "\n",
    "from keras.preprocessing import text, sequence\n",
    "\n",
    "from keras.models import Model, Sequential\n",
    "from keras.layers import Flatten, Dense\n",
    "\n",
    "from keras.layers import Dense, Embedding, Input, SimpleRNN, LSTM, Bidirectional\n",
    "from keras.layers import Dropout, BatchNormalization\n",
    "from keras.layers import Conv1D, MaxPooling1D, GlobalMaxPool1D\n",
    "\n",
    "from sklearn.metrics import log_loss\n",
    "from sklearn.model_selection import train_test_split\n",
    "\n",
    "from IPython.display import SVG\n",
    "from keras.utils.vis_utils import model_to_dot"
   ]
  },
  {
   "cell_type": "markdown",
   "metadata": {},
   "source": [
    "# Data"
   ]
  },
  {
   "cell_type": "markdown",
   "metadata": {},
   "source": [
    "## Train"
   ]
  },
  {
   "cell_type": "code",
   "execution_count": 2,
   "metadata": {
    "ExecuteTime": {
     "end_time": "2018-12-01T11:38:37.340023Z",
     "start_time": "2018-12-01T11:38:35.216766Z"
    },
    "collapsed": true
   },
   "outputs": [],
   "source": [
    "df_train = pd.read_csv(\"../data/input/train.csv\")\n",
    "targets = [\n",
    "    \"toxic\", \"severe_toxic\", \"obscene\", \"threat\", \"insult\", \"identity_hate\"\n",
    "]"
   ]
  },
  {
   "cell_type": "markdown",
   "metadata": {},
   "source": [
    "## Test"
   ]
  },
  {
   "cell_type": "code",
   "execution_count": 3,
   "metadata": {
    "ExecuteTime": {
     "end_time": "2018-12-01T11:38:38.670548Z",
     "start_time": "2018-12-01T11:38:37.344237Z"
    },
    "collapsed": true
   },
   "outputs": [],
   "source": [
    "df_test = pd.read_csv(\"../data/input/test.csv\")\n",
    "df_test.loc[df_test.comment_text.isnull(), \"comment_text\"] = \"\""
   ]
  },
  {
   "cell_type": "markdown",
   "metadata": {},
   "source": [
    "# Train, Valid"
   ]
  },
  {
   "cell_type": "code",
   "execution_count": 4,
   "metadata": {
    "ExecuteTime": {
     "end_time": "2018-12-01T11:38:38.914998Z",
     "start_time": "2018-12-01T11:38:38.674398Z"
    }
   },
   "outputs": [
    {
     "name": "stdout",
     "output_type": "stream",
     "text": [
      "Distribution of Total Positive Labels (important for validation)\n",
      "0    143346\n",
      "1      6360\n",
      "3      4209\n",
      "2      3480\n",
      "4      1760\n",
      "5       385\n",
      "6        31\n",
      "dtype: int64\n",
      "Training: (111699,)\n",
      "Testing: (47872,)\n"
     ]
    }
   ],
   "source": [
    "any_category_positive = np.sum(df_train[targets], 1)\n",
    "\n",
    "print('Distribution of Total Positive Labels (important for validation)')\n",
    "print(pd.value_counts(any_category_positive))\n",
    "\n",
    "X_train, X_val, y_train, y_val = train_test_split(\n",
    "    df_train.comment_text,\n",
    "    df_train[targets],\n",
    "    test_size=0.3,\n",
    "    stratify=any_category_positive,\n",
    "    random_state=1607)\n",
    "print('Training:', X_train.shape)\n",
    "print('Testing:', X_val.shape)"
   ]
  },
  {
   "cell_type": "markdown",
   "metadata": {},
   "source": [
    "# Global parameters"
   ]
  },
  {
   "cell_type": "code",
   "execution_count": 5,
   "metadata": {
    "ExecuteTime": {
     "end_time": "2018-12-01T11:38:38.923464Z",
     "start_time": "2018-12-01T11:38:38.918226Z"
    },
    "collapsed": true
   },
   "outputs": [],
   "source": [
    "batch_size = 32\n",
    "epochs = 5\n",
    "max_features = 20000\n",
    "maxlen = 100"
   ]
  },
  {
   "cell_type": "markdown",
   "metadata": {
    "ExecuteTime": {
     "end_time": "2017-12-26T11:12:14.547055Z",
     "start_time": "2017-12-26T11:12:12.543572Z"
    },
    "collapsed": true
   },
   "source": [
    "# Preprocessing : Tokens"
   ]
  },
  {
   "cell_type": "code",
   "execution_count": 6,
   "metadata": {
    "ExecuteTime": {
     "end_time": "2018-12-01T11:38:40.496646Z",
     "start_time": "2018-12-01T11:38:38.927290Z"
    }
   },
   "outputs": [
    {
     "data": {
      "image/png": "[encoded data removed]",
      "text/plain": [
       "<matplotlib.figure.Figure at 0x129ea5b38>"
      ]
     },
     "metadata": {},
     "output_type": "display_data"
    }
   ],
   "source": [
    "X_train.map(lambda x : len(x.split(\" \"))).hist(bins=100)\n",
    "plt.vlines(100, ymin=0, ymax=2000, colors=\"red\")\n",
    "plt.title(\"Comment length (number of words)\")\n",
    "plt.xlabel(\"Number of words\")\n",
    "plt.ylabel(\"Count\")\n",
    "plt.show()"
   ]
  },
  {
   "cell_type": "code",
   "execution_count": 7,
   "metadata": {
    "ExecuteTime": {
     "end_time": "2018-12-01T11:39:07.341766Z",
     "start_time": "2018-12-01T11:38:40.498742Z"
    },
    "collapsed": true
   },
   "outputs": [],
   "source": [
    "tokenizer = text.Tokenizer(num_words=max_features)\n",
    "tokenizer.fit_on_texts(list(X_train))\n",
    "\n",
    "list_tokenized_train = tokenizer.texts_to_sequences(X_train)\n",
    "list_tokenized_val = tokenizer.texts_to_sequences(X_val)\n",
    "\n",
    "X_train = sequence.pad_sequences(list_tokenized_train, maxlen=maxlen)\n",
    "X_val = sequence.pad_sequences(list_tokenized_val, maxlen=maxlen)"
   ]
  },
  {
   "cell_type": "markdown",
   "metadata": {},
   "source": [
    "# Simple neural network"
   ]
  },
  {
   "cell_type": "code",
   "execution_count": 8,
   "metadata": {
    "ExecuteTime": {
     "end_time": "2018-12-01T11:39:07.351013Z",
     "start_time": "2018-12-01T11:39:07.344246Z"
    },
    "collapsed": true
   },
   "outputs": [],
   "source": [
    "embedding_size = 50"
   ]
  },
  {
   "cell_type": "code",
   "execution_count": 9,
   "metadata": {
    "ExecuteTime": {
     "end_time": "2018-12-01T11:39:07.471724Z",
     "start_time": "2018-12-01T11:39:07.354678Z"
    },
    "collapsed": true
   },
   "outputs": [],
   "source": [
    "# Define model\n",
    "model = Sequential()\n",
    "model.add(Embedding(max_features, embedding_size, input_length=maxlen))\n",
    "model.add(Flatten())\n",
    "model.add(Dense(6, activation='sigmoid')) # 6 because we want to predict 6 classes"
   ]
  },
  {
   "cell_type": "code",
   "execution_count": 10,
   "metadata": {
    "ExecuteTime": {
     "end_time": "2018-12-01T11:39:07.640235Z",
     "start_time": "2018-12-01T11:39:07.475417Z"
    }
   },
   "outputs": [
    {
     "data": {
      "image/svg+xml": [
       "<svg height=\"288pt\" viewBox=\"0.00 0.00 332.46 288.00\" width=\"332pt\" xmlns=\"http://www.w3.org/2000/svg\" xmlns:xlink=\"http://www.w3.org/1999/xlink\">\n",
       "<g class=\"graph\" id=\"graph0\" transform=\"scale(1 1) rotate(0) translate(4 284)\">\n",
       "<title>G</title>\n",
       "<polygon fill=\"#ffffff\" points=\"-4,4 -4,-284 328.459,-284 328.459,4 -4,4\" stroke=\"transparent\"/>\n",
       "<!-- 4859103720 -->\n",
       "<g class=\"node\" id=\"node1\">\n",
       "<title>4859103720</title>\n",
       "<polygon fill=\"none\" points=\"0,-162.5 0,-206.5 324.459,-206.5 324.459,-162.5 0,-162.5\" stroke=\"#000000\"/>\n",
       "<text fill=\"#000000\" font-family=\"Times,serif\" font-size=\"14.00\" text-anchor=\"middle\" x=\"82.0708\" y=\"-180.3\">embedding_1: Embedding</text>\n",
       "<polyline fill=\"none\" points=\"164.1416,-162.5 164.1416,-206.5 \" stroke=\"#000000\"/>\n",
       "<text fill=\"#000000\" font-family=\"Times,serif\" font-size=\"14.00\" text-anchor=\"middle\" x=\"191.9761\" y=\"-191.3\">input:</text>\n",
       "<polyline fill=\"none\" points=\"164.1416,-184.5 219.8105,-184.5 \" stroke=\"#000000\"/>\n",
       "<text fill=\"#000000\" font-family=\"Times,serif\" font-size=\"14.00\" text-anchor=\"middle\" x=\"191.9761\" y=\"-169.3\">output:</text>\n",
       "<polyline fill=\"none\" points=\"219.8105,-162.5 219.8105,-206.5 \" stroke=\"#000000\"/>\n",
       "<text fill=\"#000000\" font-family=\"Times,serif\" font-size=\"14.00\" text-anchor=\"middle\" x=\"272.1348\" y=\"-191.3\">(None, 100)</text>\n",
       "<polyline fill=\"none\" points=\"219.8105,-184.5 324.459,-184.5 \" stroke=\"#000000\"/>\n",
       "<text fill=\"#000000\" font-family=\"Times,serif\" font-size=\"14.00\" text-anchor=\"middle\" x=\"272.1348\" y=\"-169.3\">(None, 100, 50)</text>\n",
       "</g>\n",
       "<!-- 4508471760 -->\n",
       "<g class=\"node\" id=\"node2\">\n",
       "<title>4508471760</title>\n",
       "<polygon fill=\"none\" points=\"26.438,-81.5 26.438,-125.5 298.021,-125.5 298.021,-81.5 26.438,-81.5\" stroke=\"#000000\"/>\n",
       "<text fill=\"#000000\" font-family=\"Times,serif\" font-size=\"14.00\" text-anchor=\"middle\" x=\"82.0708\" y=\"-99.3\">flatten_1: Flatten</text>\n",
       "<polyline fill=\"none\" points=\"137.7036,-81.5 137.7036,-125.5 \" stroke=\"#000000\"/>\n",
       "<text fill=\"#000000\" font-family=\"Times,serif\" font-size=\"14.00\" text-anchor=\"middle\" x=\"165.5381\" y=\"-110.3\">input:</text>\n",
       "<polyline fill=\"none\" points=\"137.7036,-103.5 193.3726,-103.5 \" stroke=\"#000000\"/>\n",
       "<text fill=\"#000000\" font-family=\"Times,serif\" font-size=\"14.00\" text-anchor=\"middle\" x=\"165.5381\" y=\"-88.3\">output:</text>\n",
       "<polyline fill=\"none\" points=\"193.3726,-81.5 193.3726,-125.5 \" stroke=\"#000000\"/>\n",
       "<text fill=\"#000000\" font-family=\"Times,serif\" font-size=\"14.00\" text-anchor=\"middle\" x=\"245.6968\" y=\"-110.3\">(None, 100, 50)</text>\n",
       "<polyline fill=\"none\" points=\"193.3726,-103.5 298.021,-103.5 \" stroke=\"#000000\"/>\n",
       "<text fill=\"#000000\" font-family=\"Times,serif\" font-size=\"14.00\" text-anchor=\"middle\" x=\"245.6968\" y=\"-88.3\">(None, 5000)</text>\n",
       "</g>\n",
       "<!-- 4859103720&#45;&gt;4508471760 -->\n",
       "<g class=\"edge\" id=\"edge2\">\n",
       "<title>4859103720-&gt;4508471760</title>\n",
       "<path d=\"M162.2295,-162.3664C162.2295,-154.1516 162.2295,-144.6579 162.2295,-135.7252\" fill=\"none\" stroke=\"#000000\"/>\n",
       "<polygon fill=\"#000000\" points=\"165.7296,-135.6068 162.2295,-125.6068 158.7296,-135.6069 165.7296,-135.6068\" stroke=\"#000000\"/>\n",
       "</g>\n",
       "<!-- 4859104672 -->\n",
       "<g class=\"node\" id=\"node3\">\n",
       "<title>4859104672</title>\n",
       "<polygon fill=\"none\" points=\"36.9448,-.5 36.9448,-44.5 287.5142,-44.5 287.5142,-.5 36.9448,-.5\" stroke=\"#000000\"/>\n",
       "<text fill=\"#000000\" font-family=\"Times,serif\" font-size=\"14.00\" text-anchor=\"middle\" x=\"89.0708\" y=\"-18.3\">dense_1: Dense</text>\n",
       "<polyline fill=\"none\" points=\"141.1968,-.5 141.1968,-44.5 \" stroke=\"#000000\"/>\n",
       "<text fill=\"#000000\" font-family=\"Times,serif\" font-size=\"14.00\" text-anchor=\"middle\" x=\"169.0313\" y=\"-29.3\">input:</text>\n",
       "<polyline fill=\"none\" points=\"141.1968,-22.5 196.8657,-22.5 \" stroke=\"#000000\"/>\n",
       "<text fill=\"#000000\" font-family=\"Times,serif\" font-size=\"14.00\" text-anchor=\"middle\" x=\"169.0313\" y=\"-7.3\">output:</text>\n",
       "<polyline fill=\"none\" points=\"196.8657,-.5 196.8657,-44.5 \" stroke=\"#000000\"/>\n",
       "<text fill=\"#000000\" font-family=\"Times,serif\" font-size=\"14.00\" text-anchor=\"middle\" x=\"242.1899\" y=\"-29.3\">(None, 5000)</text>\n",
       "<polyline fill=\"none\" points=\"196.8657,-22.5 287.5142,-22.5 \" stroke=\"#000000\"/>\n",
       "<text fill=\"#000000\" font-family=\"Times,serif\" font-size=\"14.00\" text-anchor=\"middle\" x=\"242.1899\" y=\"-7.3\">(None, 6)</text>\n",
       "</g>\n",
       "<!-- 4508471760&#45;&gt;4859104672 -->\n",
       "<g class=\"edge\" id=\"edge3\">\n",
       "<title>4508471760-&gt;4859104672</title>\n",
       "<path d=\"M162.2295,-81.3664C162.2295,-73.1516 162.2295,-63.6579 162.2295,-54.7252\" fill=\"none\" stroke=\"#000000\"/>\n",
       "<polygon fill=\"#000000\" points=\"165.7296,-54.6068 162.2295,-44.6068 158.7296,-54.6069 165.7296,-54.6068\" stroke=\"#000000\"/>\n",
       "</g>\n",
       "<!-- 4859101984 -->\n",
       "<g class=\"node\" id=\"node4\">\n",
       "<title>4859101984</title>\n",
       "<polygon fill=\"none\" points=\"119.2295,-243.5 119.2295,-279.5 205.2295,-279.5 205.2295,-243.5 119.2295,-243.5\" stroke=\"#000000\"/>\n",
       "<text fill=\"#000000\" font-family=\"Times,serif\" font-size=\"14.00\" text-anchor=\"middle\" x=\"162.2295\" y=\"-257.3\">4859101984</text>\n",
       "</g>\n",
       "<!-- 4859101984&#45;&gt;4859103720 -->\n",
       "<g class=\"edge\" id=\"edge1\">\n",
       "<title>4859101984-&gt;4859103720</title>\n",
       "<path d=\"M162.2295,-243.2521C162.2295,-235.3888 162.2295,-225.9498 162.2295,-216.9612\" fill=\"none\" stroke=\"#000000\"/>\n",
       "<polygon fill=\"#000000\" points=\"165.7296,-216.7376 162.2295,-206.7377 158.7296,-216.7377 165.7296,-216.7376\" stroke=\"#000000\"/>\n",
       "</g>\n",
       "</g>\n",
       "</svg>"
      ],
      "text/plain": [
       "<IPython.core.display.SVG object>"
      ]
     },
     "execution_count": 10,
     "metadata": {},
     "output_type": "execute_result"
    }
   ],
   "source": [
    "SVG(model_to_dot(model, show_shapes=True).create(prog='dot', format='svg'))"
   ]
  },
  {
   "cell_type": "code",
   "execution_count": 11,
   "metadata": {
    "ExecuteTime": {
     "end_time": "2018-12-01T11:39:07.711557Z",
     "start_time": "2018-12-01T11:39:07.644883Z"
    },
    "collapsed": true
   },
   "outputs": [],
   "source": [
    "# Compile model\n",
    "model.compile(optimizer='adam', loss='binary_crossentropy', metrics=['accuracy'])"
   ]
  },
  {
   "cell_type": "code",
   "execution_count": 12,
   "metadata": {
    "ExecuteTime": {
     "end_time": "2018-12-01T11:39:07.727248Z",
     "start_time": "2018-12-01T11:39:07.714720Z"
    }
   },
   "outputs": [
    {
     "name": "stdout",
     "output_type": "stream",
     "text": [
      "_________________________________________________________________\n",
      "Layer (type)                 Output Shape              Param #   \n",
      "=================================================================\n",
      "embedding_1 (Embedding)      (None, 100, 50)           1000000   \n",
      "_________________________________________________________________\n",
      "flatten_1 (Flatten)          (None, 5000)              0         \n",
      "_________________________________________________________________\n",
      "dense_1 (Dense)              (None, 6)                 30006     \n",
      "=================================================================\n",
      "Total params: 1,030,006\n",
      "Trainable params: 1,030,006\n",
      "Non-trainable params: 0\n",
      "_________________________________________________________________\n"
     ]
    }
   ],
   "source": [
    "# Show model\n",
    "model.summary()"
   ]
  },
  {
   "cell_type": "code",
   "execution_count": 13,
   "metadata": {
    "ExecuteTime": {
     "end_time": "2018-12-01T11:45:30.757258Z",
     "start_time": "2018-12-01T11:39:07.733598Z"
    }
   },
   "outputs": [
    {
     "name": "stdout",
     "output_type": "stream",
     "text": [
      "Train on 111699 samples, validate on 47872 samples\n",
      "Epoch 1/5\n",
      "111699/111699 [==============================] - 70s 623us/step - loss: 0.0791 - acc: 0.9752 - val_loss: 0.0708 - val_acc: 0.9784\n",
      "Epoch 2/5\n",
      "111699/111699 [==============================] - 88s 788us/step - loss: 0.0540 - acc: 0.9815 - val_loss: 0.0686 - val_acc: 0.9786\n",
      "Epoch 3/5\n",
      "111699/111699 [==============================] - 64s 571us/step - loss: 0.0401 - acc: 0.9859 - val_loss: 0.0692 - val_acc: 0.9793\n",
      "Epoch 4/5\n",
      "111699/111699 [==============================] - 82s 730us/step - loss: 0.0281 - acc: 0.9903 - val_loss: 0.0776 - val_acc: 0.9794\n",
      "Epoch 5/5\n",
      "111699/111699 [==============================] - 80s 713us/step - loss: 0.0200 - acc: 0.9937 - val_loss: 0.0860 - val_acc: 0.9792\n"
     ]
    }
   ],
   "source": [
    "# Fit model\n",
    "history = model.fit(\n",
    "    X_train, y_train, epochs=epochs, batch_size=batch_size, validation_data=(X_val, y_val))"
   ]
  },
  {
   "cell_type": "code",
   "execution_count": 14,
   "metadata": {
    "ExecuteTime": {
     "end_time": "2018-12-01T11:45:30.906830Z",
     "start_time": "2018-12-01T11:45:30.769253Z"
    },
    "collapsed": true
   },
   "outputs": [],
   "source": [
    "model.save_weights('../data/work/simple_neural_network.h5')"
   ]
  },
  {
   "cell_type": "code",
   "execution_count": 15,
   "metadata": {
    "ExecuteTime": {
     "end_time": "2018-12-01T11:45:30.936918Z",
     "start_time": "2018-12-01T11:45:30.910717Z"
    },
    "collapsed": true
   },
   "outputs": [],
   "source": [
    "def plot_history(history):\n",
    "    acc = history.history['acc']\n",
    "    val_acc = history.history['val_acc']\n",
    "    loss = history.history['loss']\n",
    "    val_loss = history.history['val_loss']\n",
    "    epochs = range(1, len(acc) + 1)\n",
    "    plt.plot(epochs, acc, 'bo', label='Training acc')\n",
    "    plt.plot(epochs, val_acc, 'b', label='Validation acc')\n",
    "    plt.title('Training and validation accuracy')\n",
    "    plt.legend()\n",
    "    plt.figure()\n",
    "    plt.plot(epochs, loss, 'bo', label='Training loss')\n",
    "    plt.plot(epochs, val_loss, 'b', label='Validation loss')\n",
    "    plt.title('Training and validation loss')\n",
    "    plt.legend()\n",
    "    plt.show()"
   ]
  },
  {
   "cell_type": "code",
   "execution_count": 16,
   "metadata": {
    "ExecuteTime": {
     "end_time": "2018-12-01T11:45:31.906116Z",
     "start_time": "2018-12-01T11:45:30.940879Z"
    }
   },
   "outputs": [
    {
     "data": {
      "image/png": "[encoded data removed]",
      "text/plain": [
       "<matplotlib.figure.Figure at 0x130aaa3c8>"
      ]
     },
     "metadata": {},
     "output_type": "display_data"
    },
    {
     "data": {
      "image/png": "[encoded data removed]",
      "text/plain": [
       "<matplotlib.figure.Figure at 0x130a548d0>"
      ]
     },
     "metadata": {},
     "output_type": "display_data"
    }
   ],
   "source": [
    "plot_history(history)"
   ]
  },
  {
   "cell_type": "markdown",
   "metadata": {},
   "source": [
    "# Pre-trained embedding"
   ]
  },
  {
   "cell_type": "code",
   "execution_count": 17,
   "metadata": {
    "ExecuteTime": {
     "end_time": "2018-12-01T11:45:31.948655Z",
     "start_time": "2018-12-01T11:45:31.910496Z"
    },
    "collapsed": true
   },
   "outputs": [],
   "source": [
    "def get_coefs(word, *arr):\n",
    "    return word, np.asarray(arr, dtype='float32')\n",
    "\n",
    "\n",
    "def get_embedding_matrix(tokenizer, path_glove, embed_size,\n",
    "                         max_features=20000):\n",
    "    embeddings_index = dict(\n",
    "        get_coefs(*o.strip().split()) for o in open(path_glove))\n",
    "    all_embs = np.stack(embeddings_index.values())\n",
    "    emb_mean, emb_std = all_embs.mean(), all_embs.std()\n",
    "\n",
    "    word_index = tokenizer.word_index\n",
    "    nb_words = min(max_features, len(word_index))\n",
    "    embedding_matrix = np.random.normal(emb_mean, emb_std, (nb_words,\n",
    "                                                            embed_size))\n",
    "    for word, i in word_index.items():\n",
    "        if i >= max_features:\n",
    "            continue\n",
    "        embedding_vector = embeddings_index.get(word)\n",
    "        if embedding_vector is not None:\n",
    "            embedding_matrix[i] = embedding_vector\n",
    "    return embedding_matrix"
   ]
  },
  {
   "cell_type": "code",
   "execution_count": 19,
   "metadata": {
    "ExecuteTime": {
     "end_time": "2018-12-01T11:48:18.395673Z",
     "start_time": "2018-12-01T11:48:09.336202Z"
    }
   },
   "outputs": [],
   "source": [
    "glove_path = \"../data/glove/glove.6B.50d.txt\"\n",
    "embedding_matrix = get_embedding_matrix(\n",
    "    tokenizer=tokenizer, path_glove=glove_path, embed_size=50, max_features=max_features)"
   ]
  },
  {
   "cell_type": "markdown",
   "metadata": {},
   "source": [
    "# Simple neural network with pre-trained embedding"
   ]
  },
  {
   "cell_type": "code",
   "execution_count": null,
   "metadata": {
    "ExecuteTime": {
     "end_time": "2018-12-01T11:45:32.630854Z",
     "start_time": "2018-12-01T11:38:30.074Z"
    },
    "collapsed": true
   },
   "outputs": [],
   "source": [
    "# Define model\n",
    "model = Sequential()\n",
    "model.add(\n",
    "    Embedding(\n",
    "        max_features,\n",
    "        embedding_matrix.shape[1],\n",
    "        input_length=maxlen,\n",
    "        weights=[embedding_matrix]))\n",
    "model.add(Flatten())\n",
    "model.add(Dense(6, activation='sigmoid'))\n",
    "# 6 because we want to predict 6 classes"
   ]
  },
  {
   "cell_type": "code",
   "execution_count": null,
   "metadata": {
    "ExecuteTime": {
     "end_time": "2018-12-01T11:45:32.632551Z",
     "start_time": "2018-12-01T11:38:30.079Z"
    }
   },
   "outputs": [],
   "source": [
    "SVG(model_to_dot(model).create(prog='dot', format='svg'))"
   ]
  },
  {
   "cell_type": "code",
   "execution_count": null,
   "metadata": {
    "ExecuteTime": {
     "end_time": "2018-12-01T11:45:32.635103Z",
     "start_time": "2018-12-01T11:38:30.085Z"
    },
    "collapsed": true
   },
   "outputs": [],
   "source": [
    "# Compile model\n",
    "model.compile(optimizer='adam', loss='binary_crossentropy', metrics=['accuracy'])"
   ]
  },
  {
   "cell_type": "code",
   "execution_count": null,
   "metadata": {
    "ExecuteTime": {
     "end_time": "2018-12-01T11:45:32.637622Z",
     "start_time": "2018-12-01T11:38:30.092Z"
    }
   },
   "outputs": [],
   "source": [
    "# Show model\n",
    "model.summary()"
   ]
  },
  {
   "cell_type": "code",
   "execution_count": null,
   "metadata": {
    "ExecuteTime": {
     "end_time": "2018-12-01T11:45:32.639020Z",
     "start_time": "2018-12-01T11:38:30.096Z"
    }
   },
   "outputs": [],
   "source": [
    "# Fit model\n",
    "history = model.fit(\n",
    "    X_train, y_train, epochs=epochs, batch_size=batch_size, validation_data=(X_val, y_val))"
   ]
  },
  {
   "cell_type": "code",
   "execution_count": null,
   "metadata": {
    "ExecuteTime": {
     "end_time": "2018-12-01T11:45:32.640865Z",
     "start_time": "2018-12-01T11:38:30.102Z"
    },
    "collapsed": true
   },
   "outputs": [],
   "source": [
    "model.save_weights('../data/work/simple_neural_network_pretrained_embedding.h5')"
   ]
  },
  {
   "cell_type": "code",
   "execution_count": null,
   "metadata": {
    "ExecuteTime": {
     "end_time": "2018-12-01T11:45:32.644873Z",
     "start_time": "2018-12-01T11:38:30.107Z"
    }
   },
   "outputs": [],
   "source": [
    "plot_history(history)"
   ]
  },
  {
   "cell_type": "markdown",
   "metadata": {},
   "source": [
    "# Simple RNN"
   ]
  },
  {
   "cell_type": "code",
   "execution_count": null,
   "metadata": {
    "ExecuteTime": {
     "end_time": "2018-12-01T11:45:32.646707Z",
     "start_time": "2018-12-01T11:38:30.114Z"
    },
    "collapsed": true
   },
   "outputs": [],
   "source": [
    "# Define model\n",
    "model = Sequential()\n",
    "model.add(Embedding(max_features, embedding_matrix.shape[1], weights=[embedding_matrix]))\n",
    "model.add(SimpleRNN(32))\n",
    "model.add(Dense(6, activation='sigmoid')) # 6 because we want to predict 6 classes"
   ]
  },
  {
   "cell_type": "code",
   "execution_count": null,
   "metadata": {
    "ExecuteTime": {
     "end_time": "2018-12-01T11:45:32.648520Z",
     "start_time": "2018-12-01T11:38:30.120Z"
    }
   },
   "outputs": [],
   "source": [
    "SVG(model_to_dot(model).create(prog='dot', format='svg'))"
   ]
  },
  {
   "cell_type": "code",
   "execution_count": null,
   "metadata": {
    "ExecuteTime": {
     "end_time": "2018-12-01T11:45:32.650342Z",
     "start_time": "2018-12-01T11:38:30.125Z"
    },
    "collapsed": true
   },
   "outputs": [],
   "source": [
    "# Compile model\n",
    "model.compile(optimizer='adam', loss='binary_crossentropy', metrics=['accuracy'])"
   ]
  },
  {
   "cell_type": "code",
   "execution_count": null,
   "metadata": {
    "ExecuteTime": {
     "end_time": "2018-12-01T11:45:32.652428Z",
     "start_time": "2018-12-01T11:38:30.130Z"
    }
   },
   "outputs": [],
   "source": [
    "# Show model\n",
    "model.summary()"
   ]
  },
  {
   "cell_type": "code",
   "execution_count": null,
   "metadata": {
    "ExecuteTime": {
     "end_time": "2018-12-01T11:45:32.654045Z",
     "start_time": "2018-12-01T11:38:30.159Z"
    }
   },
   "outputs": [],
   "source": [
    "# Fit model\n",
    "history = model.fit(\n",
    "    X_train, y_train, epochs=epochs, batch_size=batch_size, validation_data=(X_val, y_val))"
   ]
  },
  {
   "cell_type": "code",
   "execution_count": null,
   "metadata": {
    "ExecuteTime": {
     "end_time": "2018-12-01T11:45:32.655955Z",
     "start_time": "2018-12-01T11:38:30.166Z"
    },
    "collapsed": true
   },
   "outputs": [],
   "source": [
    "model.save_weights('../data/work/simple_rnn.h5')"
   ]
  },
  {
   "cell_type": "code",
   "execution_count": null,
   "metadata": {
    "ExecuteTime": {
     "end_time": "2018-12-01T11:45:32.658288Z",
     "start_time": "2018-12-01T11:38:30.172Z"
    }
   },
   "outputs": [],
   "source": [
    "plot_history(history)"
   ]
  },
  {
   "cell_type": "code",
   "execution_count": null,
   "metadata": {
    "ExecuteTime": {
     "end_time": "2018-12-01T11:45:32.661502Z",
     "start_time": "2018-12-01T11:38:30.179Z"
    }
   },
   "outputs": [],
   "source": [
    "embedding_matrix.shape"
   ]
  },
  {
   "cell_type": "markdown",
   "metadata": {},
   "source": [
    "# Stacked RNN"
   ]
  },
  {
   "cell_type": "code",
   "execution_count": null,
   "metadata": {
    "ExecuteTime": {
     "end_time": "2018-12-01T11:45:32.663276Z",
     "start_time": "2018-12-01T11:38:30.186Z"
    },
    "collapsed": true
   },
   "outputs": [],
   "source": [
    "# Define model\n",
    "model = Sequential()\n",
    "model.add(\n",
    "    Embedding(\n",
    "        max_features, embedding_matrix.shape[1], weights=[embedding_matrix]))\n",
    "model.add(SimpleRNN(32, return_sequences=True))\n",
    "model.add(SimpleRNN(32, return_sequences=True))\n",
    "model.add(SimpleRNN(32))\n",
    "model.add(Dense(6, activation='sigmoid'))\n",
    "# 6 because we want to predict 6 classes"
   ]
  },
  {
   "cell_type": "code",
   "execution_count": null,
   "metadata": {
    "ExecuteTime": {
     "end_time": "2018-12-01T11:45:32.665344Z",
     "start_time": "2018-12-01T11:38:30.199Z"
    },
    "collapsed": true
   },
   "outputs": [],
   "source": [
    "# Show model\n",
    "SVG(model_to_dot(model).create(prog='dot', format='svg'))"
   ]
  },
  {
   "cell_type": "code",
   "execution_count": null,
   "metadata": {
    "ExecuteTime": {
     "end_time": "2018-12-01T11:45:32.666773Z",
     "start_time": "2018-12-01T11:38:30.204Z"
    },
    "collapsed": true
   },
   "outputs": [],
   "source": [
    "# Compile model\n",
    "model.compile(\n",
    "    optimizer='adam', loss='binary_crossentropy', metrics=['accuracy'])"
   ]
  },
  {
   "cell_type": "code",
   "execution_count": null,
   "metadata": {
    "ExecuteTime": {
     "end_time": "2018-12-01T11:45:32.668358Z",
     "start_time": "2018-12-01T11:38:30.212Z"
    },
    "collapsed": true
   },
   "outputs": [],
   "source": [
    "# Show model\n",
    "model.summary()"
   ]
  },
  {
   "cell_type": "code",
   "execution_count": null,
   "metadata": {
    "ExecuteTime": {
     "end_time": "2018-12-01T11:45:32.670675Z",
     "start_time": "2018-12-01T11:38:30.218Z"
    },
    "collapsed": true
   },
   "outputs": [],
   "source": [
    "# Fit model\n",
    "history = model.fit(\n",
    "    X_train,\n",
    "    y_train,\n",
    "    epochs=epochs,\n",
    "    batch_size=batch_size,\n",
    "    validation_data=(X_val, y_val))"
   ]
  },
  {
   "cell_type": "code",
   "execution_count": null,
   "metadata": {
    "ExecuteTime": {
     "end_time": "2018-12-01T11:45:32.672692Z",
     "start_time": "2018-12-01T11:38:30.223Z"
    },
    "collapsed": true
   },
   "outputs": [],
   "source": [
    "model.save_weights('../data/work/stacked_rnn.h5')"
   ]
  },
  {
   "cell_type": "code",
   "execution_count": null,
   "metadata": {
    "ExecuteTime": {
     "end_time": "2018-12-01T11:45:32.674335Z",
     "start_time": "2018-12-01T11:38:30.228Z"
    },
    "collapsed": true
   },
   "outputs": [],
   "source": [
    "plot_history(history)"
   ]
  },
  {
   "cell_type": "markdown",
   "metadata": {},
   "source": [
    "# LSTM"
   ]
  },
  {
   "cell_type": "code",
   "execution_count": null,
   "metadata": {
    "ExecuteTime": {
     "end_time": "2018-12-01T11:45:32.678052Z",
     "start_time": "2018-12-01T11:38:30.234Z"
    },
    "collapsed": true
   },
   "outputs": [],
   "source": [
    "# Define model\n",
    "model = Sequential()\n",
    "model.add(Embedding(max_features, embedding_matrix.shape[1], weights=[embedding_matrix]))\n",
    "model.add(LSTM(32))\n",
    "model.add(Dense(6, activation='sigmoid')) # 6 because we want to predict 6 classes"
   ]
  },
  {
   "cell_type": "code",
   "execution_count": null,
   "metadata": {
    "ExecuteTime": {
     "end_time": "2018-12-01T11:45:32.679698Z",
     "start_time": "2018-12-01T11:38:30.240Z"
    }
   },
   "outputs": [],
   "source": [
    "SVG(model_to_dot(model).create(prog='dot', format='svg'))"
   ]
  },
  {
   "cell_type": "code",
   "execution_count": null,
   "metadata": {
    "ExecuteTime": {
     "end_time": "2018-12-01T11:45:32.681541Z",
     "start_time": "2018-12-01T11:38:30.246Z"
    },
    "collapsed": true
   },
   "outputs": [],
   "source": [
    "# Compile model\n",
    "model.compile(optimizer='adam', loss='binary_crossentropy', metrics=['accuracy'])"
   ]
  },
  {
   "cell_type": "code",
   "execution_count": null,
   "metadata": {
    "ExecuteTime": {
     "end_time": "2018-12-01T11:45:32.684436Z",
     "start_time": "2018-12-01T11:38:30.252Z"
    }
   },
   "outputs": [],
   "source": [
    "# Show model\n",
    "model.summary()"
   ]
  },
  {
   "cell_type": "code",
   "execution_count": null,
   "metadata": {
    "ExecuteTime": {
     "end_time": "2018-12-01T11:45:32.686298Z",
     "start_time": "2018-12-01T11:38:30.257Z"
    }
   },
   "outputs": [],
   "source": [
    "# Fit model\n",
    "history = model.fit(\n",
    "    X_train, y_train, epochs=epochs, batch_size=batch_size, validation_data=(X_val, y_val))"
   ]
  },
  {
   "cell_type": "code",
   "execution_count": null,
   "metadata": {
    "ExecuteTime": {
     "end_time": "2018-12-01T11:45:32.688169Z",
     "start_time": "2018-12-01T11:38:30.262Z"
    },
    "collapsed": true
   },
   "outputs": [],
   "source": [
    "model.save_weights('../data/work/simple_lstm.h5')"
   ]
  },
  {
   "cell_type": "code",
   "execution_count": null,
   "metadata": {
    "ExecuteTime": {
     "end_time": "2018-12-01T11:45:32.690220Z",
     "start_time": "2018-12-01T11:38:30.267Z"
    }
   },
   "outputs": [],
   "source": [
    "plot_history(history)"
   ]
  },
  {
   "cell_type": "markdown",
   "metadata": {},
   "source": [
    "# Stacked LSTM"
   ]
  },
  {
   "cell_type": "code",
   "execution_count": null,
   "metadata": {
    "ExecuteTime": {
     "end_time": "2018-12-01T11:45:32.692618Z",
     "start_time": "2018-12-01T11:38:30.272Z"
    },
    "collapsed": true
   },
   "outputs": [],
   "source": [
    "# Define model\n",
    "model = Sequential()\n",
    "model.add(\n",
    "    Embedding(\n",
    "        max_features, embedding_matrix.shape[1], weights=[embedding_matrix]))\n",
    "model.add(LSTM(32, return_sequences=True))\n",
    "model.add(LSTM(32, return_sequences=True))\n",
    "model.add(LSTM(32))\n",
    "model.add(Dense(\n",
    "    6, activation='sigmoid'))  \n",
    "# 6 because we want to predict 6 classes"
   ]
  },
  {
   "cell_type": "code",
   "execution_count": null,
   "metadata": {
    "ExecuteTime": {
     "end_time": "2018-12-01T11:45:32.695535Z",
     "start_time": "2018-12-01T11:38:30.278Z"
    },
    "collapsed": true
   },
   "outputs": [],
   "source": [
    "# Compile model\n",
    "model.compile(\n",
    "    optimizer='adam', loss='binary_crossentropy', metrics=['accuracy'])"
   ]
  },
  {
   "cell_type": "code",
   "execution_count": null,
   "metadata": {
    "ExecuteTime": {
     "end_time": "2018-12-01T11:45:32.701562Z",
     "start_time": "2018-12-01T11:38:30.284Z"
    },
    "collapsed": true
   },
   "outputs": [],
   "source": [
    "# Show model\n",
    "SVG(model_to_dot(model).create(prog='dot', format='svg'))"
   ]
  },
  {
   "cell_type": "code",
   "execution_count": null,
   "metadata": {
    "ExecuteTime": {
     "end_time": "2018-12-01T11:45:32.703827Z",
     "start_time": "2018-12-01T11:38:30.289Z"
    },
    "collapsed": true
   },
   "outputs": [],
   "source": [
    "# Show model\n",
    "model.summary()"
   ]
  },
  {
   "cell_type": "code",
   "execution_count": null,
   "metadata": {
    "ExecuteTime": {
     "end_time": "2018-12-01T11:45:32.706361Z",
     "start_time": "2018-12-01T11:38:30.295Z"
    },
    "collapsed": true
   },
   "outputs": [],
   "source": [
    "# Fit model\n",
    "history = model.fit(\n",
    "    X_train,\n",
    "    y_train,\n",
    "    epochs=epochs,\n",
    "    batch_size=batch_size,\n",
    "    validation_data=(X_val, y_val))"
   ]
  },
  {
   "cell_type": "code",
   "execution_count": null,
   "metadata": {
    "ExecuteTime": {
     "end_time": "2018-12-01T11:45:32.708092Z",
     "start_time": "2018-12-01T11:38:30.301Z"
    },
    "collapsed": true
   },
   "outputs": [],
   "source": [
    "model.save_weights('../data/work/stacked_lstm.h5')"
   ]
  },
  {
   "cell_type": "code",
   "execution_count": null,
   "metadata": {
    "ExecuteTime": {
     "end_time": "2018-12-01T11:45:32.711291Z",
     "start_time": "2018-12-01T11:38:30.307Z"
    },
    "collapsed": true
   },
   "outputs": [],
   "source": [
    "plot_history(history)"
   ]
  },
  {
   "cell_type": "markdown",
   "metadata": {},
   "source": [
    "# Bi-LSTM"
   ]
  },
  {
   "cell_type": "code",
   "execution_count": null,
   "metadata": {
    "ExecuteTime": {
     "end_time": "2018-12-01T11:45:32.712769Z",
     "start_time": "2018-12-01T11:38:30.315Z"
    },
    "collapsed": true
   },
   "outputs": [],
   "source": [
    "# Define model\n",
    "model = Sequential()\n",
    "model.add(Embedding(max_features, embedding_matrix.shape[1], weights=[embedding_matrix]))\n",
    "model.add(Bidirectional(LSTM(32)))\n",
    "model.add(Dense(6, activation='sigmoid')) # 6 because we want to predict 6 classes"
   ]
  },
  {
   "cell_type": "code",
   "execution_count": null,
   "metadata": {
    "ExecuteTime": {
     "end_time": "2018-12-01T11:45:32.714711Z",
     "start_time": "2018-12-01T11:38:30.320Z"
    }
   },
   "outputs": [],
   "source": [
    "SVG(model_to_dot(model).create(prog='dot', format='svg'))"
   ]
  },
  {
   "cell_type": "code",
   "execution_count": null,
   "metadata": {
    "ExecuteTime": {
     "end_time": "2018-12-01T11:45:32.716390Z",
     "start_time": "2018-12-01T11:38:30.326Z"
    },
    "collapsed": true
   },
   "outputs": [],
   "source": [
    "# Compile model\n",
    "model.compile(optimizer='adam', loss='binary_crossentropy', metrics=['accuracy'])"
   ]
  },
  {
   "cell_type": "code",
   "execution_count": null,
   "metadata": {
    "ExecuteTime": {
     "end_time": "2018-12-01T11:45:32.717827Z",
     "start_time": "2018-12-01T11:38:30.332Z"
    }
   },
   "outputs": [],
   "source": [
    "# Show model\n",
    "model.summary()"
   ]
  },
  {
   "cell_type": "code",
   "execution_count": null,
   "metadata": {
    "ExecuteTime": {
     "end_time": "2018-12-01T11:45:32.719652Z",
     "start_time": "2018-12-01T11:38:30.338Z"
    }
   },
   "outputs": [],
   "source": [
    "# Fit model\n",
    "history = model.fit(\n",
    "    X_train, y_train, epochs=epochs, batch_size=batch_size, validation_data=(X_val, y_val))"
   ]
  },
  {
   "cell_type": "code",
   "execution_count": null,
   "metadata": {
    "ExecuteTime": {
     "end_time": "2018-12-01T11:45:32.722255Z",
     "start_time": "2018-12-01T11:38:30.345Z"
    },
    "collapsed": true
   },
   "outputs": [],
   "source": [
    "model.save_weights('../data/work/bidirectional_lstm.h5')"
   ]
  },
  {
   "cell_type": "code",
   "execution_count": null,
   "metadata": {
    "ExecuteTime": {
     "end_time": "2018-12-01T11:45:32.728870Z",
     "start_time": "2018-12-01T11:38:30.350Z"
    }
   },
   "outputs": [],
   "source": [
    "plot_history(history)"
   ]
  },
  {
   "cell_type": "markdown",
   "metadata": {},
   "source": [
    "# Stacked Bi-LSTM"
   ]
  },
  {
   "cell_type": "code",
   "execution_count": null,
   "metadata": {
    "ExecuteTime": {
     "end_time": "2018-12-01T11:45:32.731108Z",
     "start_time": "2018-12-01T11:38:30.358Z"
    },
    "collapsed": true
   },
   "outputs": [],
   "source": [
    "# Define model\n",
    "model = Sequential()\n",
    "model.add(Embedding(max_features, embedding_matrix.shape[1], weights=[embedding_matrix]))\n",
    "model.add(Bidirectional(LSTM(32, return_sequences=True)))\n",
    "model.add(Bidirectional(LSTM(32, return_sequences=True)))\n",
    "model.add(Bidirectional(LSTM(32)))\n",
    "model.add(Dense(6, activation='sigmoid')) \n",
    "# 6 because we want to predict 6 classes"
   ]
  },
  {
   "cell_type": "code",
   "execution_count": null,
   "metadata": {
    "ExecuteTime": {
     "end_time": "2018-12-01T11:45:32.733459Z",
     "start_time": "2018-12-01T11:38:30.364Z"
    },
    "collapsed": true
   },
   "outputs": [],
   "source": [
    "SVG(model_to_dot(model, show_shapes=True).create(prog='dot', format='svg'))"
   ]
  },
  {
   "cell_type": "code",
   "execution_count": null,
   "metadata": {
    "ExecuteTime": {
     "end_time": "2018-12-01T11:45:32.736002Z",
     "start_time": "2018-12-01T11:38:30.372Z"
    },
    "collapsed": true
   },
   "outputs": [],
   "source": [
    "# Compile model\n",
    "model.compile(optimizer='adam', loss='binary_crossentropy', metrics=['accuracy'])"
   ]
  },
  {
   "cell_type": "code",
   "execution_count": null,
   "metadata": {
    "ExecuteTime": {
     "end_time": "2018-12-01T11:45:32.737723Z",
     "start_time": "2018-12-01T11:38:30.382Z"
    },
    "collapsed": true
   },
   "outputs": [],
   "source": [
    "# Show model\n",
    "model.summary()"
   ]
  },
  {
   "cell_type": "code",
   "execution_count": null,
   "metadata": {
    "ExecuteTime": {
     "end_time": "2018-12-01T11:45:32.739311Z",
     "start_time": "2018-12-01T11:38:30.391Z"
    },
    "collapsed": true
   },
   "outputs": [],
   "source": [
    "# Fit model\n",
    "history = model.fit(\n",
    "    X_train, y_train, epochs=epochs, batch_size=batch_size, validation_data=(X_val, y_val))"
   ]
  },
  {
   "cell_type": "code",
   "execution_count": null,
   "metadata": {
    "ExecuteTime": {
     "end_time": "2018-12-01T11:45:32.741041Z",
     "start_time": "2018-12-01T11:38:30.404Z"
    },
    "collapsed": true
   },
   "outputs": [],
   "source": [
    "model.save_weights('../data/work/stacked_bidirectional_lstm.h5')"
   ]
  },
  {
   "cell_type": "code",
   "execution_count": null,
   "metadata": {
    "ExecuteTime": {
     "end_time": "2018-12-01T11:45:32.744408Z",
     "start_time": "2018-12-01T11:38:30.413Z"
    },
    "collapsed": true
   },
   "outputs": [],
   "source": [
    "plot_history(history)"
   ]
  },
  {
   "cell_type": "markdown",
   "metadata": {},
   "source": [
    "# LSTM, Pooling and regularization "
   ]
  },
  {
   "cell_type": "code",
   "execution_count": null,
   "metadata": {
    "ExecuteTime": {
     "end_time": "2018-12-01T11:45:32.746244Z",
     "start_time": "2018-12-01T11:38:30.419Z"
    },
    "collapsed": true
   },
   "outputs": [],
   "source": [
    "# Define model\n",
    "model = Sequential()\n",
    "model.add(\n",
    "    Embedding(\n",
    "        max_features, embedding_matrix.shape[1], weights=[embedding_matrix]))\n",
    "model.add(\n",
    "    Bidirectional(\n",
    "        LSTM(64, return_sequences=True, dropout=0.2, recurrent_dropout=0.2)))\n",
    "model.add(GlobalMaxPool1D())\n",
    "model.add(Dense(64, activation=\"relu\"))\n",
    "model.add(Dense(6, activation='sigmoid'))"
   ]
  },
  {
   "cell_type": "code",
   "execution_count": null,
   "metadata": {
    "ExecuteTime": {
     "end_time": "2018-12-01T11:45:32.748702Z",
     "start_time": "2018-12-01T11:38:30.426Z"
    }
   },
   "outputs": [],
   "source": [
    "SVG(model_to_dot(model, show_shapes=True).create(prog='dot', format='svg'))"
   ]
  },
  {
   "cell_type": "code",
   "execution_count": null,
   "metadata": {
    "ExecuteTime": {
     "end_time": "2018-12-01T11:45:32.750627Z",
     "start_time": "2018-12-01T11:38:30.432Z"
    },
    "collapsed": true
   },
   "outputs": [],
   "source": [
    "# Compile model\n",
    "model.compile(optimizer='adam', loss='binary_crossentropy', metrics=['accuracy'])"
   ]
  },
  {
   "cell_type": "code",
   "execution_count": null,
   "metadata": {
    "ExecuteTime": {
     "end_time": "2018-12-01T11:45:32.753719Z",
     "start_time": "2018-12-01T11:38:30.440Z"
    }
   },
   "outputs": [],
   "source": [
    "# Show model\n",
    "model.summary()"
   ]
  },
  {
   "cell_type": "code",
   "execution_count": null,
   "metadata": {
    "ExecuteTime": {
     "end_time": "2018-12-01T11:45:32.755092Z",
     "start_time": "2018-12-01T11:38:30.446Z"
    }
   },
   "outputs": [],
   "source": [
    "# Fit model\n",
    "history = model.fit(\n",
    "    X_train, y_train, epochs=epochs, batch_size=batch_size, validation_data=(X_val, y_val))"
   ]
  },
  {
   "cell_type": "code",
   "execution_count": null,
   "metadata": {
    "ExecuteTime": {
     "end_time": "2018-12-01T11:45:32.756580Z",
     "start_time": "2018-12-01T11:38:30.453Z"
    },
    "collapsed": true
   },
   "outputs": [],
   "source": [
    "model.save_weights('../data/work/complete_lstm.h5')"
   ]
  },
  {
   "cell_type": "code",
   "execution_count": null,
   "metadata": {
    "ExecuteTime": {
     "end_time": "2018-12-01T11:45:32.758061Z",
     "start_time": "2018-12-01T11:38:30.462Z"
    }
   },
   "outputs": [],
   "source": [
    "plot_history(history)"
   ]
  }
 ],
 "metadata": {
  "hide_input": false,
  "kernelspec": {
   "display_name": "Python [default]",
   "language": "python",
   "name": "python3"
  },
  "language_info": {
   "codemirror_mode": {
    "name": "ipython",
    "version": 3
   },
   "file_extension": ".py",
   "mimetype": "text/x-python",
   "name": "python",
   "nbconvert_exporter": "python",
   "pygments_lexer": "ipython3",
   "version": "3.6.3"
  },
  "toc": {
   "colors": {
    "hover_highlight": "#DAA520",
    "running_highlight": "#FF0000",
    "selected_highlight": "#FFD700"
   },
   "moveMenuLeft": true,
   "nav_menu": {
    "height": "12px",
    "width": "252px"
   },
   "navigate_menu": true,
   "number_sections": true,
   "sideBar": true,
   "skip_h1_title": false,
   "threshold": 4,
   "toc_cell": false,
   "toc_position": {},
   "toc_section_display": "block",
   "toc_window_display": true,
   "widenNotebook": false
  },
  "varInspector": {
   "cols": {
    "lenName": 16,
    "lenType": 16,
    "lenVar": 40
   },
   "kernels_config": {
    "python": {
     "delete_cmd_postfix": "",
     "delete_cmd_prefix": "del ",
     "library": "var_list.py",
     "varRefreshCmd": "print(var_dic_list())"
    },
    "r": {
     "delete_cmd_postfix": ") ",
     "delete_cmd_prefix": "rm(",
     "library": "var_list.r",
     "varRefreshCmd": "cat(var_dic_list()) "
    }
   },
   "types_to_exclude": [
    "module",
    "function",
    "builtin_function_or_method",
    "instance",
    "_Feature"
   ],
   "window_display": false
  }
 },
 "nbformat": 4,
 "nbformat_minor": 2
}
