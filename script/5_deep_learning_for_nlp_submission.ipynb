{
 "cells": [
  {
   "cell_type": "markdown",
   "metadata": {},
   "source": [
    "# Library"
   ]
  },
  {
   "cell_type": "code",
   "execution_count": 1,
   "metadata": {
    "ExecuteTime": {
     "end_time": "2018-12-01T19:13:17.212906Z",
     "start_time": "2018-12-01T19:13:12.413595Z"
    }
   },
   "outputs": [
    {
     "name": "stderr",
     "output_type": "stream",
     "text": [
      "Using TensorFlow backend.\n"
     ]
    }
   ],
   "source": [
    "import numpy as np\n",
    "import pandas as pd\n",
    "\n",
    "import matplotlib\n",
    "import matplotlib.pyplot as plt\n",
    "import seaborn as sns\n",
    "%matplotlib inline\n",
    "\n",
    "from keras.preprocessing import text, sequence\n",
    "\n",
    "from keras.models import Model, Sequential\n",
    "from keras.layers import Flatten, Dense\n",
    "\n",
    "from keras.layers import Dense, Embedding, Input, SimpleRNN, LSTM, Bidirectional\n",
    "from keras.layers import Dropout, BatchNormalization\n",
    "from keras.layers import Conv1D, MaxPooling1D, GlobalMaxPool1D\n",
    "\n",
    "from sklearn.metrics import log_loss\n",
    "from sklearn.model_selection import train_test_split\n",
    "\n",
    "from IPython.display import SVG\n",
    "from keras.utils.vis_utils import model_to_dot"
   ]
  },
  {
   "cell_type": "markdown",
   "metadata": {},
   "source": [
    "# Data"
   ]
  },
  {
   "cell_type": "markdown",
   "metadata": {},
   "source": [
    "## Train"
   ]
  },
  {
   "cell_type": "code",
   "execution_count": 2,
   "metadata": {
    "ExecuteTime": {
     "end_time": "2018-12-01T19:13:18.352724Z",
     "start_time": "2018-12-01T19:13:17.215633Z"
    },
    "collapsed": true
   },
   "outputs": [],
   "source": [
    "df_train = pd.read_csv(\"../data/input/train.csv\")\n",
    "targets = [\n",
    "    \"toxic\", \"severe_toxic\", \"obscene\", \"threat\", \"insult\", \"identity_hate\"\n",
    "]\n",
    "X_train = df_train.comment_text\n",
    "y_train = df_train[targets]"
   ]
  },
  {
   "cell_type": "markdown",
   "metadata": {},
   "source": [
    "## Test"
   ]
  },
  {
   "cell_type": "code",
   "execution_count": 3,
   "metadata": {
    "ExecuteTime": {
     "end_time": "2018-12-01T19:13:19.287591Z",
     "start_time": "2018-12-01T19:13:18.355213Z"
    },
    "collapsed": true
   },
   "outputs": [],
   "source": [
    "df_test = pd.read_csv(\"../data/input/test.csv\")\n",
    "df_test.loc[df_test.comment_text.isnull(), \"comment_text\"] = \"\"\n",
    "X_test = df_test.comment_text"
   ]
  },
  {
   "cell_type": "markdown",
   "metadata": {},
   "source": [
    "# Global parameters"
   ]
  },
  {
   "cell_type": "code",
   "execution_count": 4,
   "metadata": {
    "ExecuteTime": {
     "end_time": "2018-12-01T19:13:19.297404Z",
     "start_time": "2018-12-01T19:13:19.291057Z"
    },
    "collapsed": true
   },
   "outputs": [],
   "source": [
    "batch_size = 32\n",
    "epochs = 3\n",
    "max_features = 20000\n",
    "maxlen = 100"
   ]
  },
  {
   "cell_type": "markdown",
   "metadata": {
    "ExecuteTime": {
     "end_time": "2017-12-26T11:12:14.547055Z",
     "start_time": "2017-12-26T11:12:12.543572Z"
    },
    "collapsed": true
   },
   "source": [
    "# Preprocessing : Tokens"
   ]
  },
  {
   "cell_type": "code",
   "execution_count": 5,
   "metadata": {
    "ExecuteTime": {
     "end_time": "2018-12-01T19:13:20.577246Z",
     "start_time": "2018-12-01T19:13:19.301432Z"
    }
   },
   "outputs": [
    {
     "data": {
      "image/png": "[encoded data removed]",
      "text/plain": [
       "<matplotlib.figure.Figure at 0x120ab0f60>"
      ]
     },
     "metadata": {},
     "output_type": "display_data"
    }
   ],
   "source": [
    "X_train.map(lambda x : len(x.split(\" \"))).hist(bins=100)\n",
    "plt.vlines(100, ymin=0, ymax=2000, colors=\"red\")\n",
    "plt.title(\"Comment length (number of words)\")\n",
    "plt.xlabel(\"Number of words\")\n",
    "plt.ylabel(\"Count\")\n",
    "plt.show()"
   ]
  },
  {
   "cell_type": "code",
   "execution_count": 6,
   "metadata": {
    "ExecuteTime": {
     "end_time": "2018-12-01T19:13:55.976756Z",
     "start_time": "2018-12-01T19:13:20.579566Z"
    },
    "collapsed": true
   },
   "outputs": [],
   "source": [
    "tokenizer = text.Tokenizer(num_words=max_features)\n",
    "tokenizer.fit_on_texts(list(X_train))\n",
    "\n",
    "list_tokenized_train = tokenizer.texts_to_sequences(X_train)\n",
    "list_tokenized_test = tokenizer.texts_to_sequences(X_test)\n",
    "\n",
    "X_train = sequence.pad_sequences(list_tokenized_train, maxlen=maxlen)\n",
    "X_test = sequence.pad_sequences(list_tokenized_test, maxlen=maxlen)"
   ]
  },
  {
   "cell_type": "markdown",
   "metadata": {},
   "source": [
    "# Pre-trained embedding"
   ]
  },
  {
   "cell_type": "code",
   "execution_count": 7,
   "metadata": {
    "ExecuteTime": {
     "end_time": "2018-12-01T19:13:56.013616Z",
     "start_time": "2018-12-01T19:13:55.979288Z"
    },
    "collapsed": true
   },
   "outputs": [],
   "source": [
    "def get_coefs(word, *arr):\n",
    "    return word, np.asarray(arr, dtype='float32')\n",
    "\n",
    "\n",
    "def get_embedding_matrix(tokenizer, path_glove, embed_size,\n",
    "                         max_features=20000):\n",
    "    embeddings_index = dict(\n",
    "        get_coefs(*o.strip().split()) for o in open(path_glove))\n",
    "    all_embs = np.stack(embeddings_index.values())\n",
    "    emb_mean, emb_std = all_embs.mean(), all_embs.std()\n",
    "\n",
    "    word_index = tokenizer.word_index\n",
    "    nb_words = min(max_features, len(word_index))\n",
    "    embedding_matrix = np.random.normal(emb_mean, emb_std, (nb_words,\n",
    "                                                            embed_size))\n",
    "    for word, i in word_index.items():\n",
    "        if i >= max_features:\n",
    "            continue\n",
    "        embedding_vector = embeddings_index.get(word)\n",
    "        if embedding_vector is not None:\n",
    "            embedding_matrix[i] = embedding_vector\n",
    "    return embedding_matrix"
   ]
  },
  {
   "cell_type": "code",
   "execution_count": 10,
   "metadata": {
    "ExecuteTime": {
     "end_time": "2018-12-01T19:59:43.142422Z",
     "start_time": "2018-12-01T19:59:35.080388Z"
    }
   },
   "outputs": [],
   "source": [
    "glove_path = \"../data/glove/glove.6B.50d.txt\"\n",
    "embedding_matrix = get_embedding_matrix(\n",
    "    tokenizer=tokenizer, path_glove=glove_path, embed_size=50, max_features=max_features)"
   ]
  },
  {
   "cell_type": "markdown",
   "metadata": {},
   "source": [
    "# LSTM, Pooling and regularization "
   ]
  },
  {
   "cell_type": "code",
   "execution_count": 11,
   "metadata": {
    "ExecuteTime": {
     "end_time": "2018-12-01T19:59:43.904112Z",
     "start_time": "2018-12-01T19:59:43.144671Z"
    },
    "collapsed": true
   },
   "outputs": [],
   "source": [
    "# Define model\n",
    "model = Sequential()\n",
    "model.add(\n",
    "    Embedding(\n",
    "        max_features, embedding_matrix.shape[1], weights=[embedding_matrix]))\n",
    "model.add(\n",
    "    Bidirectional(\n",
    "        LSTM(64, return_sequences=True, dropout=0.2, recurrent_dropout=0.2)))\n",
    "model.add(GlobalMaxPool1D())\n",
    "model.add(Dense(64, activation=\"relu\"))\n",
    "model.add(Dense(6, activation='sigmoid'))"
   ]
  },
  {
   "cell_type": "code",
   "execution_count": 12,
   "metadata": {
    "ExecuteTime": {
     "end_time": "2018-12-01T19:59:44.132109Z",
     "start_time": "2018-12-01T19:59:43.906771Z"
    }
   },
   "outputs": [
    {
     "data": {
      "image/svg+xml": [
       "<svg height=\"450pt\" viewBox=\"0.00 0.00 476.35 450.00\" width=\"476pt\" xmlns=\"http://www.w3.org/2000/svg\" xmlns:xlink=\"http://www.w3.org/1999/xlink\">\n",
       "<g class=\"graph\" id=\"graph0\" transform=\"scale(1 1) rotate(0) translate(4 446)\">\n",
       "<title>G</title>\n",
       "<polygon fill=\"#ffffff\" points=\"-4,4 -4,-446 472.3486,-446 472.3486,4 -4,4\" stroke=\"transparent\"/>\n",
       "<!-- 4843098856 -->\n",
       "<g class=\"node\" id=\"node1\">\n",
       "<title>4843098856</title>\n",
       "<polygon fill=\"none\" points=\"67.2827,-324.5 67.2827,-368.5 401.0659,-368.5 401.0659,-324.5 67.2827,-324.5\" stroke=\"#000000\"/>\n",
       "<text fill=\"#000000\" font-family=\"Times,serif\" font-size=\"14.00\" text-anchor=\"middle\" x=\"149.3535\" y=\"-342.3\">embedding_1: Embedding</text>\n",
       "<polyline fill=\"none\" points=\"231.4243,-324.5 231.4243,-368.5 \" stroke=\"#000000\"/>\n",
       "<text fill=\"#000000\" font-family=\"Times,serif\" font-size=\"14.00\" text-anchor=\"middle\" x=\"259.2588\" y=\"-353.3\">input:</text>\n",
       "<polyline fill=\"none\" points=\"231.4243,-346.5 287.0933,-346.5 \" stroke=\"#000000\"/>\n",
       "<text fill=\"#000000\" font-family=\"Times,serif\" font-size=\"14.00\" text-anchor=\"middle\" x=\"259.2588\" y=\"-331.3\">output:</text>\n",
       "<polyline fill=\"none\" points=\"287.0933,-324.5 287.0933,-368.5 \" stroke=\"#000000\"/>\n",
       "<text fill=\"#000000\" font-family=\"Times,serif\" font-size=\"14.00\" text-anchor=\"middle\" x=\"344.0796\" y=\"-353.3\">(None, None)</text>\n",
       "<polyline fill=\"none\" points=\"287.0933,-346.5 401.0659,-346.5 \" stroke=\"#000000\"/>\n",
       "<text fill=\"#000000\" font-family=\"Times,serif\" font-size=\"14.00\" text-anchor=\"middle\" x=\"344.0796\" y=\"-331.3\">(None, None, 50)</text>\n",
       "</g>\n",
       "<!-- 5138369840 -->\n",
       "<g class=\"node\" id=\"node2\">\n",
       "<title>5138369840</title>\n",
       "<polygon fill=\"none\" points=\"8.186,-243.5 8.186,-287.5 460.1626,-287.5 460.1626,-243.5 8.186,-243.5\" stroke=\"#000000\"/>\n",
       "<text fill=\"#000000\" font-family=\"Times,serif\" font-size=\"14.00\" text-anchor=\"middle\" x=\"145.8535\" y=\"-261.3\">bidirectional_1(lstm_1): Bidirectional(LSTM)</text>\n",
       "<polyline fill=\"none\" points=\"283.521,-243.5 283.521,-287.5 \" stroke=\"#000000\"/>\n",
       "<text fill=\"#000000\" font-family=\"Times,serif\" font-size=\"14.00\" text-anchor=\"middle\" x=\"311.3555\" y=\"-272.3\">input:</text>\n",
       "<polyline fill=\"none\" points=\"283.521,-265.5 339.1899,-265.5 \" stroke=\"#000000\"/>\n",
       "<text fill=\"#000000\" font-family=\"Times,serif\" font-size=\"14.00\" text-anchor=\"middle\" x=\"311.3555\" y=\"-250.3\">output:</text>\n",
       "<polyline fill=\"none\" points=\"339.1899,-243.5 339.1899,-287.5 \" stroke=\"#000000\"/>\n",
       "<text fill=\"#000000\" font-family=\"Times,serif\" font-size=\"14.00\" text-anchor=\"middle\" x=\"399.6763\" y=\"-272.3\">(None, None, 50)</text>\n",
       "<polyline fill=\"none\" points=\"339.1899,-265.5 460.1626,-265.5 \" stroke=\"#000000\"/>\n",
       "<text fill=\"#000000\" font-family=\"Times,serif\" font-size=\"14.00\" text-anchor=\"middle\" x=\"399.6763\" y=\"-250.3\">(None, None, 128)</text>\n",
       "</g>\n",
       "<!-- 4843098856&#45;&gt;5138369840 -->\n",
       "<g class=\"edge\" id=\"edge2\">\n",
       "<title>4843098856-&gt;5138369840</title>\n",
       "<path d=\"M234.1743,-324.3664C234.1743,-316.1516 234.1743,-306.6579 234.1743,-297.7252\" fill=\"none\" stroke=\"#000000\"/>\n",
       "<polygon fill=\"#000000\" points=\"237.6744,-297.6068 234.1743,-287.6068 230.6744,-297.6069 237.6744,-297.6068\" stroke=\"#000000\"/>\n",
       "</g>\n",
       "<!-- 5138084864 -->\n",
       "<g class=\"node\" id=\"node3\">\n",
       "<title>5138084864</title>\n",
       "<polygon fill=\"none\" points=\"0,-162.5 0,-206.5 468.3486,-206.5 468.3486,-162.5 0,-162.5\" stroke=\"#000000\"/>\n",
       "<text fill=\"#000000\" font-family=\"Times,serif\" font-size=\"14.00\" text-anchor=\"middle\" x=\"145.8535\" y=\"-180.3\">global_max_pooling1d_1: GlobalMaxPooling1D</text>\n",
       "<polyline fill=\"none\" points=\"291.707,-162.5 291.707,-206.5 \" stroke=\"#000000\"/>\n",
       "<text fill=\"#000000\" font-family=\"Times,serif\" font-size=\"14.00\" text-anchor=\"middle\" x=\"319.5415\" y=\"-191.3\">input:</text>\n",
       "<polyline fill=\"none\" points=\"291.707,-184.5 347.376,-184.5 \" stroke=\"#000000\"/>\n",
       "<text fill=\"#000000\" font-family=\"Times,serif\" font-size=\"14.00\" text-anchor=\"middle\" x=\"319.5415\" y=\"-169.3\">output:</text>\n",
       "<polyline fill=\"none\" points=\"347.376,-162.5 347.376,-206.5 \" stroke=\"#000000\"/>\n",
       "<text fill=\"#000000\" font-family=\"Times,serif\" font-size=\"14.00\" text-anchor=\"middle\" x=\"407.8623\" y=\"-191.3\">(None, None, 128)</text>\n",
       "<polyline fill=\"none\" points=\"347.376,-184.5 468.3486,-184.5 \" stroke=\"#000000\"/>\n",
       "<text fill=\"#000000\" font-family=\"Times,serif\" font-size=\"14.00\" text-anchor=\"middle\" x=\"407.7002\" y=\"-169.3\">(None, 128)</text>\n",
       "</g>\n",
       "<!-- 5138369840&#45;&gt;5138084864 -->\n",
       "<g class=\"edge\" id=\"edge3\">\n",
       "<title>5138369840-&gt;5138084864</title>\n",
       "<path d=\"M234.1743,-243.3664C234.1743,-235.1516 234.1743,-225.6579 234.1743,-216.7252\" fill=\"none\" stroke=\"#000000\"/>\n",
       "<polygon fill=\"#000000\" points=\"237.6744,-216.6068 234.1743,-206.6068 230.6744,-216.6069 237.6744,-216.6068\" stroke=\"#000000\"/>\n",
       "</g>\n",
       "<!-- 4851218360 -->\n",
       "<g class=\"node\" id=\"node4\">\n",
       "<title>4851218360</title>\n",
       "<polygon fill=\"none\" points=\"112.3896,-81.5 112.3896,-125.5 355.959,-125.5 355.959,-81.5 112.3896,-81.5\" stroke=\"#000000\"/>\n",
       "<text fill=\"#000000\" font-family=\"Times,serif\" font-size=\"14.00\" text-anchor=\"middle\" x=\"164.5156\" y=\"-99.3\">dense_1: Dense</text>\n",
       "<polyline fill=\"none\" points=\"216.6416,-81.5 216.6416,-125.5 \" stroke=\"#000000\"/>\n",
       "<text fill=\"#000000\" font-family=\"Times,serif\" font-size=\"14.00\" text-anchor=\"middle\" x=\"244.4761\" y=\"-110.3\">input:</text>\n",
       "<polyline fill=\"none\" points=\"216.6416,-103.5 272.3105,-103.5 \" stroke=\"#000000\"/>\n",
       "<text fill=\"#000000\" font-family=\"Times,serif\" font-size=\"14.00\" text-anchor=\"middle\" x=\"244.4761\" y=\"-88.3\">output:</text>\n",
       "<polyline fill=\"none\" points=\"272.3105,-81.5 272.3105,-125.5 \" stroke=\"#000000\"/>\n",
       "<text fill=\"#000000\" font-family=\"Times,serif\" font-size=\"14.00\" text-anchor=\"middle\" x=\"314.1348\" y=\"-110.3\">(None, 128)</text>\n",
       "<polyline fill=\"none\" points=\"272.3105,-103.5 355.959,-103.5 \" stroke=\"#000000\"/>\n",
       "<text fill=\"#000000\" font-family=\"Times,serif\" font-size=\"14.00\" text-anchor=\"middle\" x=\"314.1348\" y=\"-88.3\">(None, 64)</text>\n",
       "</g>\n",
       "<!-- 5138084864&#45;&gt;4851218360 -->\n",
       "<g class=\"edge\" id=\"edge4\">\n",
       "<title>5138084864-&gt;4851218360</title>\n",
       "<path d=\"M234.1743,-162.3664C234.1743,-154.1516 234.1743,-144.6579 234.1743,-135.7252\" fill=\"none\" stroke=\"#000000\"/>\n",
       "<polygon fill=\"#000000\" points=\"237.6744,-135.6068 234.1743,-125.6068 230.6744,-135.6069 237.6744,-135.6068\" stroke=\"#000000\"/>\n",
       "</g>\n",
       "<!-- 5284934768 -->\n",
       "<g class=\"node\" id=\"node5\">\n",
       "<title>5284934768</title>\n",
       "<polygon fill=\"none\" points=\"115.8896,-.5 115.8896,-44.5 352.459,-44.5 352.459,-.5 115.8896,-.5\" stroke=\"#000000\"/>\n",
       "<text fill=\"#000000\" font-family=\"Times,serif\" font-size=\"14.00\" text-anchor=\"middle\" x=\"168.0156\" y=\"-18.3\">dense_2: Dense</text>\n",
       "<polyline fill=\"none\" points=\"220.1416,-.5 220.1416,-44.5 \" stroke=\"#000000\"/>\n",
       "<text fill=\"#000000\" font-family=\"Times,serif\" font-size=\"14.00\" text-anchor=\"middle\" x=\"247.9761\" y=\"-29.3\">input:</text>\n",
       "<polyline fill=\"none\" points=\"220.1416,-22.5 275.8105,-22.5 \" stroke=\"#000000\"/>\n",
       "<text fill=\"#000000\" font-family=\"Times,serif\" font-size=\"14.00\" text-anchor=\"middle\" x=\"247.9761\" y=\"-7.3\">output:</text>\n",
       "<polyline fill=\"none\" points=\"275.8105,-.5 275.8105,-44.5 \" stroke=\"#000000\"/>\n",
       "<text fill=\"#000000\" font-family=\"Times,serif\" font-size=\"14.00\" text-anchor=\"middle\" x=\"314.1348\" y=\"-29.3\">(None, 64)</text>\n",
       "<polyline fill=\"none\" points=\"275.8105,-22.5 352.459,-22.5 \" stroke=\"#000000\"/>\n",
       "<text fill=\"#000000\" font-family=\"Times,serif\" font-size=\"14.00\" text-anchor=\"middle\" x=\"314.1348\" y=\"-7.3\">(None, 6)</text>\n",
       "</g>\n",
       "<!-- 4851218360&#45;&gt;5284934768 -->\n",
       "<g class=\"edge\" id=\"edge5\">\n",
       "<title>4851218360-&gt;5284934768</title>\n",
       "<path d=\"M234.1743,-81.3664C234.1743,-73.1516 234.1743,-63.6579 234.1743,-54.7252\" fill=\"none\" stroke=\"#000000\"/>\n",
       "<polygon fill=\"#000000\" points=\"237.6744,-54.6068 234.1743,-44.6068 230.6744,-54.6069 237.6744,-54.6068\" stroke=\"#000000\"/>\n",
       "</g>\n",
       "<!-- 5138085312 -->\n",
       "<g class=\"node\" id=\"node6\">\n",
       "<title>5138085312</title>\n",
       "<polygon fill=\"none\" points=\"191.1743,-405.5 191.1743,-441.5 277.1743,-441.5 277.1743,-405.5 191.1743,-405.5\" stroke=\"#000000\"/>\n",
       "<text fill=\"#000000\" font-family=\"Times,serif\" font-size=\"14.00\" text-anchor=\"middle\" x=\"234.1743\" y=\"-419.3\">5138085312</text>\n",
       "</g>\n",
       "<!-- 5138085312&#45;&gt;4843098856 -->\n",
       "<g class=\"edge\" id=\"edge1\">\n",
       "<title>5138085312-&gt;4843098856</title>\n",
       "<path d=\"M234.1743,-405.2521C234.1743,-397.3888 234.1743,-387.9498 234.1743,-378.9612\" fill=\"none\" stroke=\"#000000\"/>\n",
       "<polygon fill=\"#000000\" points=\"237.6744,-378.7376 234.1743,-368.7377 230.6744,-378.7377 237.6744,-378.7376\" stroke=\"#000000\"/>\n",
       "</g>\n",
       "</g>\n",
       "</svg>"
      ],
      "text/plain": [
       "<IPython.core.display.SVG object>"
      ]
     },
     "execution_count": 12,
     "metadata": {},
     "output_type": "execute_result"
    }
   ],
   "source": [
    "SVG(model_to_dot(model, show_shapes=True).create(prog='dot', format='svg'))"
   ]
  },
  {
   "cell_type": "code",
   "execution_count": 13,
   "metadata": {
    "ExecuteTime": {
     "end_time": "2018-12-01T19:59:44.218899Z",
     "start_time": "2018-12-01T19:59:44.135374Z"
    },
    "collapsed": true
   },
   "outputs": [],
   "source": [
    "# Compile model\n",
    "model.compile(optimizer='adam', loss='binary_crossentropy', metrics=['accuracy'])"
   ]
  },
  {
   "cell_type": "code",
   "execution_count": 14,
   "metadata": {
    "ExecuteTime": {
     "end_time": "2018-12-01T19:59:44.236985Z",
     "start_time": "2018-12-01T19:59:44.224396Z"
    }
   },
   "outputs": [
    {
     "name": "stdout",
     "output_type": "stream",
     "text": [
      "_________________________________________________________________\n",
      "Layer (type)                 Output Shape              Param #   \n",
      "=================================================================\n",
      "embedding_1 (Embedding)      (None, None, 50)          1000000   \n",
      "_________________________________________________________________\n",
      "bidirectional_1 (Bidirection (None, None, 128)         58880     \n",
      "_________________________________________________________________\n",
      "global_max_pooling1d_1 (Glob (None, 128)               0         \n",
      "_________________________________________________________________\n",
      "dense_1 (Dense)              (None, 64)                8256      \n",
      "_________________________________________________________________\n",
      "dense_2 (Dense)              (None, 6)                 390       \n",
      "=================================================================\n",
      "Total params: 1,067,526\n",
      "Trainable params: 1,067,526\n",
      "Non-trainable params: 0\n",
      "_________________________________________________________________\n"
     ]
    }
   ],
   "source": [
    "# Show model\n",
    "model.summary()"
   ]
  },
  {
   "cell_type": "code",
   "execution_count": 15,
   "metadata": {
    "ExecuteTime": {
     "end_time": "2018-12-01T20:54:45.889538Z",
     "start_time": "2018-12-01T19:59:44.240350Z"
    }
   },
   "outputs": [
    {
     "name": "stdout",
     "output_type": "stream",
     "text": [
      "Epoch 1/3\n",
      "159571/159571 [==============================] - 1259s 8ms/step - loss: 0.0569 - acc: 0.9800\n",
      "Epoch 2/3\n",
      "159571/159571 [==============================] - 1015s 6ms/step - loss: 0.0436 - acc: 0.9834\n",
      "Epoch 3/3\n",
      "159571/159571 [==============================] - 1023s 6ms/step - loss: 0.0396 - acc: 0.9846\n"
     ]
    }
   ],
   "source": [
    "# Fit model\n",
    "history = model.fit(\n",
    "    X_train, y_train, epochs=epochs, batch_size=batch_size)"
   ]
  },
  {
   "cell_type": "code",
   "execution_count": 16,
   "metadata": {
    "ExecuteTime": {
     "end_time": "2018-12-01T20:54:46.117496Z",
     "start_time": "2018-12-01T20:54:45.895808Z"
    },
    "collapsed": true
   },
   "outputs": [],
   "source": [
    "model.save_weights('../data/work/complete_lstm_submission.h5')"
   ]
  },
  {
   "cell_type": "markdown",
   "metadata": {},
   "source": [
    "# Predict for submission"
   ]
  },
  {
   "cell_type": "code",
   "execution_count": 17,
   "metadata": {
    "ExecuteTime": {
     "end_time": "2018-12-01T20:58:06.968367Z",
     "start_time": "2018-12-01T20:54:46.120027Z"
    }
   },
   "outputs": [
    {
     "name": "stdout",
     "output_type": "stream",
     "text": [
      "153164/153164 [==============================] - 201s 1ms/step\n"
     ]
    }
   ],
   "source": [
    "predict = model.predict_proba(X_test, verbose=1)"
   ]
  },
  {
   "cell_type": "markdown",
   "metadata": {},
   "source": [
    "# Submission"
   ]
  },
  {
   "cell_type": "code",
   "execution_count": 19,
   "metadata": {
    "ExecuteTime": {
     "end_time": "2018-12-01T20:58:59.253236Z",
     "start_time": "2018-12-01T20:58:57.209375Z"
    }
   },
   "outputs": [],
   "source": [
    "pd.DataFrame(\n",
    "    predict, columns=targets,\n",
    "    index=df_test.id).reset_index().rename(columns={\n",
    "        \"index\": \"id\"\n",
    "    }).to_csv(\n",
    "        \"../data/submissions/complete_lstm_submission.csv\", index=False)"
   ]
  }
 ],
 "metadata": {
  "hide_input": false,
  "kernelspec": {
   "display_name": "Python [default]",
   "language": "python",
   "name": "python3"
  },
  "language_info": {
   "codemirror_mode": {
    "name": "ipython",
    "version": 3
   },
   "file_extension": ".py",
   "mimetype": "text/x-python",
   "name": "python",
   "nbconvert_exporter": "python",
   "pygments_lexer": "ipython3",
   "version": "3.6.3"
  },
  "toc": {
   "colors": {
    "hover_highlight": "#DAA520",
    "running_highlight": "#FF0000",
    "selected_highlight": "#FFD700"
   },
   "moveMenuLeft": true,
   "nav_menu": {
    "height": "12px",
    "width": "252px"
   },
   "navigate_menu": true,
   "number_sections": true,
   "sideBar": true,
   "skip_h1_title": false,
   "threshold": 4,
   "toc_cell": false,
   "toc_position": {},
   "toc_section_display": "block",
   "toc_window_display": true,
   "widenNotebook": false
  },
  "varInspector": {
   "cols": {
    "lenName": 16,
    "lenType": 16,
    "lenVar": 40
   },
   "kernels_config": {
    "python": {
     "delete_cmd_postfix": "",
     "delete_cmd_prefix": "del ",
     "library": "var_list.py",
     "varRefreshCmd": "print(var_dic_list())"
    },
    "r": {
     "delete_cmd_postfix": ") ",
     "delete_cmd_prefix": "rm(",
     "library": "var_list.r",
     "varRefreshCmd": "cat(var_dic_list()) "
    }
   },
   "types_to_exclude": [
    "module",
    "function",
    "builtin_function_or_method",
    "instance",
    "_Feature"
   ],
   "window_display": false
  }
 },
 "nbformat": 4,
 "nbformat_minor": 2
}
