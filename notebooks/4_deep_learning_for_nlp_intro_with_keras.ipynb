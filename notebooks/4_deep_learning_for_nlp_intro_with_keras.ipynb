{
 "cells": [
  {
   "cell_type": "markdown",
   "metadata": {},
   "source": [
    "# Library"
   ]
  },
  {
   "cell_type": "code",
   "execution_count": 1,
   "metadata": {
    "ExecuteTime": {
     "end_time": "2018-12-01T11:38:35.198034Z",
     "start_time": "2018-12-01T11:38:30.041752Z"
    }
   },
   "outputs": [
    {
     "name": "stderr",
     "output_type": "stream",
     "text": [
      "Using TensorFlow backend.\n"
     ]
    }
   ],
   "source": [
    "import numpy as np\n",
    "import pandas as pd\n",
    "\n",
    "import matplotlib\n",
    "import matplotlib.pyplot as plt\n",
    "import seaborn as sns\n",
    "%matplotlib inline\n",
    "\n",
    "from keras.preprocessing import text, sequence\n",
    "\n",
    "from keras.models import Model, Sequential\n",
    "from keras.layers import Flatten, Dense\n",
    "\n",
    "from keras.layers import Dense, Embedding, Input, SimpleRNN, LSTM, Bidirectional\n",
    "from keras.layers import Dropout, BatchNormalization\n",
    "from keras.layers import Conv1D, MaxPooling1D, GlobalMaxPool1D\n",
    "\n",
    "from sklearn.metrics import log_loss\n",
    "from sklearn.model_selection import train_test_split\n",
    "\n",
    "from IPython.display import SVG\n",
    "from keras.utils.vis_utils import model_to_dot"
   ]
  },
  {
   "cell_type": "markdown",
   "metadata": {},
   "source": [
    "# Data"
   ]
  },
  {
   "cell_type": "markdown",
   "metadata": {},
   "source": [
    "## Train"
   ]
  },
  {
   "cell_type": "code",
   "execution_count": 2,
   "metadata": {
    "ExecuteTime": {
     "end_time": "2018-12-01T11:38:37.340023Z",
     "start_time": "2018-12-01T11:38:35.216766Z"
    },
    "collapsed": true
   },
   "outputs": [],
   "source": [
    "df_train = pd.read_csv(\"../data/input/train.csv\")\n",
    "targets = [\n",
    "    \"toxic\", \"severe_toxic\", \"obscene\", \"threat\", \"insult\", \"identity_hate\"\n",
    "]"
   ]
  },
  {
   "cell_type": "markdown",
   "metadata": {},
   "source": [
    "## Test"
   ]
  },
  {
   "cell_type": "code",
   "execution_count": 3,
   "metadata": {
    "ExecuteTime": {
     "end_time": "2018-12-01T11:38:38.670548Z",
     "start_time": "2018-12-01T11:38:37.344237Z"
    },
    "collapsed": true
   },
   "outputs": [],
   "source": [
    "df_test = pd.read_csv(\"../data/input/test.csv\")\n",
    "df_test.loc[df_test.comment_text.isnull(), \"comment_text\"] = \"\""
   ]
  },
  {
   "cell_type": "markdown",
   "metadata": {},
   "source": [
    "# Train, Valid"
   ]
  },
  {
   "cell_type": "code",
   "execution_count": 4,
   "metadata": {
    "ExecuteTime": {
     "end_time": "2018-12-01T11:38:38.914998Z",
     "start_time": "2018-12-01T11:38:38.674398Z"
    }
   },
   "outputs": [
    {
     "name": "stdout",
     "output_type": "stream",
     "text": [
      "Distribution of Total Positive Labels (important for validation)\n",
      "0    143346\n",
      "1      6360\n",
      "3      4209\n",
      "2      3480\n",
      "4      1760\n",
      "5       385\n",
      "6        31\n",
      "dtype: int64\n",
      "Training: (111699,)\n",
      "Testing: (47872,)\n"
     ]
    }
   ],
   "source": [
    "any_category_positive = np.sum(df_train[targets], 1)\n",
    "\n",
    "print('Distribution of Total Positive Labels (important for validation)')\n",
    "print(pd.value_counts(any_category_positive))\n",
    "\n",
    "X_train, X_val, y_train, y_val = train_test_split(\n",
    "    df_train.comment_text,\n",
    "    df_train[targets],\n",
    "    test_size=0.3,\n",
    "    stratify=any_category_positive,\n",
    "    random_state=1607)\n",
    "print('Training:', X_train.shape)\n",
    "print('Testing:', X_val.shape)"
   ]
  },
  {
   "cell_type": "markdown",
   "metadata": {},
   "source": [
    "# Global parameters"
   ]
  },
  {
   "cell_type": "code",
   "execution_count": 5,
   "metadata": {
    "ExecuteTime": {
     "end_time": "2018-12-01T11:38:38.923464Z",
     "start_time": "2018-12-01T11:38:38.918226Z"
    },
    "collapsed": true
   },
   "outputs": [],
   "source": [
    "batch_size = 32\n",
    "epochs = 5\n",
    "max_features = 20000\n",
    "maxlen = 100"
   ]
  },
  {
   "cell_type": "markdown",
   "metadata": {
    "ExecuteTime": {
     "end_time": "2017-12-26T11:12:14.547055Z",
     "start_time": "2017-12-26T11:12:12.543572Z"
    },
    "collapsed": true
   },
   "source": [
    "# Preprocessing : Tokens"
   ]
  },
  {
   "cell_type": "code",
   "execution_count": 6,
   "metadata": {
    "ExecuteTime": {
     "end_time": "2018-12-01T11:38:40.496646Z",
     "start_time": "2018-12-01T11:38:38.927290Z"
    }
   },
   "outputs": [
    {
     "data": {
      "image/png": "[encoded data removed]",
      "text/plain": [
       "<matplotlib.figure.Figure at 0x129ea5b38>"
      ]
     },
     "metadata": {},
     "output_type": "display_data"
    }
   ],
   "source": [
    "X_train.map(lambda x : len(x.split(\" \"))).hist(bins=100)\n",
    "plt.vlines(100, ymin=0, ymax=2000, colors=\"red\")\n",
    "plt.title(\"Comment length (number of words)\")\n",
    "plt.xlabel(\"Number of words\")\n",
    "plt.ylabel(\"Count\")\n",
    "plt.show()"
   ]
  },
  {
   "cell_type": "code",
   "execution_count": 7,
   "metadata": {
    "ExecuteTime": {
     "end_time": "2018-12-01T11:39:07.341766Z",
     "start_time": "2018-12-01T11:38:40.498742Z"
    },
    "collapsed": true
   },
   "outputs": [],
   "source": [
    "tokenizer = text.Tokenizer(num_words=max_features)\n",
    "tokenizer.fit_on_texts(list(X_train))\n",
    "\n",
    "list_tokenized_train = tokenizer.texts_to_sequences(X_train)\n",
    "list_tokenized_val = tokenizer.texts_to_sequences(X_val)\n",
    "\n",
    "X_train = sequence.pad_sequences(list_tokenized_train, maxlen=maxlen)\n",
    "X_val = sequence.pad_sequences(list_tokenized_val, maxlen=maxlen)"
   ]
  },
  {
   "cell_type": "markdown",
   "metadata": {},
   "source": [
    "# Simple neural network"
   ]
  },
  {
   "cell_type": "code",
   "execution_count": 8,
   "metadata": {
    "ExecuteTime": {
     "end_time": "2018-12-01T11:39:07.351013Z",
     "start_time": "2018-12-01T11:39:07.344246Z"
    },
    "collapsed": true
   },
   "outputs": [],
   "source": [
    "embedding_size = 50"
   ]
  },
  {
   "cell_type": "code",
   "execution_count": 9,
   "metadata": {
    "ExecuteTime": {
     "end_time": "2018-12-01T11:39:07.471724Z",
     "start_time": "2018-12-01T11:39:07.354678Z"
    },
    "collapsed": true
   },
   "outputs": [],
   "source": [
    "# Define model\n",
    "model = Sequential()\n",
    "model.add(Embedding(max_features, embedding_size, input_length=maxlen))\n",
    "model.add(Flatten())\n",
    "model.add(Dense(6, activation='sigmoid')) # 6 because we want to predict 6 classes"
   ]
  },
  {
   "cell_type": "code",
   "execution_count": 10,
   "metadata": {
    "ExecuteTime": {
     "end_time": "2018-12-01T11:39:07.640235Z",
     "start_time": "2018-12-01T11:39:07.475417Z"
    }
   },
   "outputs": [
    {
     "data": {
      "image/svg+xml": [
       "<svg height=\"288pt\" viewBox=\"0.00 0.00 332.46 288.00\" width=\"332pt\" xmlns=\"http://www.w3.org/2000/svg\" xmlns:xlink=\"http://www.w3.org/1999/xlink\">\n",
       "<g class=\"graph\" id=\"graph0\" transform=\"scale(1 1) rotate(0) translate(4 284)\">\n",
       "<title>G</title>\n",
       "<polygon fill=\"#ffffff\" points=\"-4,4 -4,-284 328.459,-284 328.459,4 -4,4\" stroke=\"transparent\"/>\n",
       "<!-- 4859103720 -->\n",
       "<g class=\"node\" id=\"node1\">\n",
       "<title>4859103720</title>\n",
       "<polygon fill=\"none\" points=\"0,-162.5 0,-206.5 324.459,-206.5 324.459,-162.5 0,-162.5\" stroke=\"#000000\"/>\n",
       "<text fill=\"#000000\" font-family=\"Times,serif\" font-size=\"14.00\" text-anchor=\"middle\" x=\"82.0708\" y=\"-180.3\">embedding_1: Embedding</text>\n",
       "<polyline fill=\"none\" points=\"164.1416,-162.5 164.1416,-206.5 \" stroke=\"#000000\"/>\n",
       "<text fill=\"#000000\" font-family=\"Times,serif\" font-size=\"14.00\" text-anchor=\"middle\" x=\"191.9761\" y=\"-191.3\">input:</text>\n",
       "<polyline fill=\"none\" points=\"164.1416,-184.5 219.8105,-184.5 \" stroke=\"#000000\"/>\n",
       "<text fill=\"#000000\" font-family=\"Times,serif\" font-size=\"14.00\" text-anchor=\"middle\" x=\"191.9761\" y=\"-169.3\">output:</text>\n",
       "<polyline fill=\"none\" points=\"219.8105,-162.5 219.8105,-206.5 \" stroke=\"#000000\"/>\n",
       "<text fill=\"#000000\" font-family=\"Times,serif\" font-size=\"14.00\" text-anchor=\"middle\" x=\"272.1348\" y=\"-191.3\">(None, 100)</text>\n",
       "<polyline fill=\"none\" points=\"219.8105,-184.5 324.459,-184.5 \" stroke=\"#000000\"/>\n",
       "<text fill=\"#000000\" font-family=\"Times,serif\" font-size=\"14.00\" text-anchor=\"middle\" x=\"272.1348\" y=\"-169.3\">(None, 100, 50)</text>\n",
       "</g>\n",
       "<!-- 4508471760 -->\n",
       "<g class=\"node\" id=\"node2\">\n",
       "<title>4508471760</title>\n",
       "<polygon fill=\"none\" points=\"26.438,-81.5 26.438,-125.5 298.021,-125.5 298.021,-81.5 26.438,-81.5\" stroke=\"#000000\"/>\n",
       "<text fill=\"#000000\" font-family=\"Times,serif\" font-size=\"14.00\" text-anchor=\"middle\" x=\"82.0708\" y=\"-99.3\">flatten_1: Flatten</text>\n",
       "<polyline fill=\"none\" points=\"137.7036,-81.5 137.7036,-125.5 \" stroke=\"#000000\"/>\n",
       "<text fill=\"#000000\" font-family=\"Times,serif\" font-size=\"14.00\" text-anchor=\"middle\" x=\"165.5381\" y=\"-110.3\">input:</text>\n",
       "<polyline fill=\"none\" points=\"137.7036,-103.5 193.3726,-103.5 \" stroke=\"#000000\"/>\n",
       "<text fill=\"#000000\" font-family=\"Times,serif\" font-size=\"14.00\" text-anchor=\"middle\" x=\"165.5381\" y=\"-88.3\">output:</text>\n",
       "<polyline fill=\"none\" points=\"193.3726,-81.5 193.3726,-125.5 \" stroke=\"#000000\"/>\n",
       "<text fill=\"#000000\" font-family=\"Times,serif\" font-size=\"14.00\" text-anchor=\"middle\" x=\"245.6968\" y=\"-110.3\">(None, 100, 50)</text>\n",
       "<polyline fill=\"none\" points=\"193.3726,-103.5 298.021,-103.5 \" stroke=\"#000000\"/>\n",
       "<text fill=\"#000000\" font-family=\"Times,serif\" font-size=\"14.00\" text-anchor=\"middle\" x=\"245.6968\" y=\"-88.3\">(None, 5000)</text>\n",
       "</g>\n",
       "<!-- 4859103720&#45;&gt;4508471760 -->\n",
       "<g class=\"edge\" id=\"edge2\">\n",
       "<title>4859103720-&gt;4508471760</title>\n",
       "<path d=\"M162.2295,-162.3664C162.2295,-154.1516 162.2295,-144.6579 162.2295,-135.7252\" fill=\"none\" stroke=\"#000000\"/>\n",
       "<polygon fill=\"#000000\" points=\"165.7296,-135.6068 162.2295,-125.6068 158.7296,-135.6069 165.7296,-135.6068\" stroke=\"#000000\"/>\n",
       "</g>\n",
       "<!-- 4859104672 -->\n",
       "<g class=\"node\" id=\"node3\">\n",
       "<title>4859104672</title>\n",
       "<polygon fill=\"none\" points=\"36.9448,-.5 36.9448,-44.5 287.5142,-44.5 287.5142,-.5 36.9448,-.5\" stroke=\"#000000\"/>\n",
       "<text fill=\"#000000\" font-family=\"Times,serif\" font-size=\"14.00\" text-anchor=\"middle\" x=\"89.0708\" y=\"-18.3\">dense_1: Dense</text>\n",
       "<polyline fill=\"none\" points=\"141.1968,-.5 141.1968,-44.5 \" stroke=\"#000000\"/>\n",
       "<text fill=\"#000000\" font-family=\"Times,serif\" font-size=\"14.00\" text-anchor=\"middle\" x=\"169.0313\" y=\"-29.3\">input:</text>\n",
       "<polyline fill=\"none\" points=\"141.1968,-22.5 196.8657,-22.5 \" stroke=\"#000000\"/>\n",
       "<text fill=\"#000000\" font-family=\"Times,serif\" font-size=\"14.00\" text-anchor=\"middle\" x=\"169.0313\" y=\"-7.3\">output:</text>\n",
       "<polyline fill=\"none\" points=\"196.8657,-.5 196.8657,-44.5 \" stroke=\"#000000\"/>\n",
       "<text fill=\"#000000\" font-family=\"Times,serif\" font-size=\"14.00\" text-anchor=\"middle\" x=\"242.1899\" y=\"-29.3\">(None, 5000)</text>\n",
       "<polyline fill=\"none\" points=\"196.8657,-22.5 287.5142,-22.5 \" stroke=\"#000000\"/>\n",
       "<text fill=\"#000000\" font-family=\"Times,serif\" font-size=\"14.00\" text-anchor=\"middle\" x=\"242.1899\" y=\"-7.3\">(None, 6)</text>\n",
       "</g>\n",
       "<!-- 4508471760&#45;&gt;4859104672 -->\n",
       "<g class=\"edge\" id=\"edge3\">\n",
       "<title>4508471760-&gt;4859104672</title>\n",
       "<path d=\"M162.2295,-81.3664C162.2295,-73.1516 162.2295,-63.6579 162.2295,-54.7252\" fill=\"none\" stroke=\"#000000\"/>\n",
       "<polygon fill=\"#000000\" points=\"165.7296,-54.6068 162.2295,-44.6068 158.7296,-54.6069 165.7296,-54.6068\" stroke=\"#000000\"/>\n",
       "</g>\n",
       "<!-- 4859101984 -->\n",
       "<g class=\"node\" id=\"node4\">\n",
       "<title>4859101984</title>\n",
       "<polygon fill=\"none\" points=\"119.2295,-243.5 119.2295,-279.5 205.2295,-279.5 205.2295,-243.5 119.2295,-243.5\" stroke=\"#000000\"/>\n",
       "<text fill=\"#000000\" font-family=\"Times,serif\" font-size=\"14.00\" text-anchor=\"middle\" x=\"162.2295\" y=\"-257.3\">4859101984</text>\n",
       "</g>\n",
       "<!-- 4859101984&#45;&gt;4859103720 -->\n",
       "<g class=\"edge\" id=\"edge1\">\n",
       "<title>4859101984-&gt;4859103720</title>\n",
       "<path d=\"M162.2295,-243.2521C162.2295,-235.3888 162.2295,-225.9498 162.2295,-216.9612\" fill=\"none\" stroke=\"#000000\"/>\n",
       "<polygon fill=\"#000000\" points=\"165.7296,-216.7376 162.2295,-206.7377 158.7296,-216.7377 165.7296,-216.7376\" stroke=\"#000000\"/>\n",
       "</g>\n",
       "</g>\n",
       "</svg>"
      ],
      "text/plain": [
       "<IPython.core.display.SVG object>"
      ]
     },
     "execution_count": 10,
     "metadata": {},
     "output_type": "execute_result"
    }
   ],
   "source": [
    "SVG(model_to_dot(model, show_shapes=True).create(prog='dot', format='svg'))"
   ]
  },
  {
   "cell_type": "code",
   "execution_count": 11,
   "metadata": {
    "ExecuteTime": {
     "end_time": "2018-12-01T11:39:07.711557Z",
     "start_time": "2018-12-01T11:39:07.644883Z"
    },
    "collapsed": true
   },
   "outputs": [],
   "source": [
    "# Compile model\n",
    "model.compile(optimizer='adam', loss='binary_crossentropy', metrics=['accuracy'])"
   ]
  },
  {
   "cell_type": "code",
   "execution_count": 12,
   "metadata": {
    "ExecuteTime": {
     "end_time": "2018-12-01T11:39:07.727248Z",
     "start_time": "2018-12-01T11:39:07.714720Z"
    }
   },
   "outputs": [
    {
     "name": "stdout",
     "output_type": "stream",
     "text": [
      "_________________________________________________________________\n",
      "Layer (type)                 Output Shape              Param #   \n",
      "=================================================================\n",
      "embedding_1 (Embedding)      (None, 100, 50)           1000000   \n",
      "_________________________________________________________________\n",
      "flatten_1 (Flatten)          (None, 5000)              0         \n",
      "_________________________________________________________________\n",
      "dense_1 (Dense)              (None, 6)                 30006     \n",
      "=================================================================\n",
      "Total params: 1,030,006\n",
      "Trainable params: 1,030,006\n",
      "Non-trainable params: 0\n",
      "_________________________________________________________________\n"
     ]
    }
   ],
   "source": [
    "# Show model\n",
    "model.summary()"
   ]
  },
  {
   "cell_type": "code",
   "execution_count": 13,
   "metadata": {
    "ExecuteTime": {
     "end_time": "2018-12-01T11:45:30.757258Z",
     "start_time": "2018-12-01T11:39:07.733598Z"
    }
   },
   "outputs": [
    {
     "name": "stdout",
     "output_type": "stream",
     "text": [
      "Train on 111699 samples, validate on 47872 samples\n",
      "Epoch 1/5\n",
      "111699/111699 [==============================] - 70s 623us/step - loss: 0.0791 - acc: 0.9752 - val_loss: 0.0708 - val_acc: 0.9784\n",
      "Epoch 2/5\n",
      "111699/111699 [==============================] - 88s 788us/step - loss: 0.0540 - acc: 0.9815 - val_loss: 0.0686 - val_acc: 0.9786\n",
      "Epoch 3/5\n",
      "111699/111699 [==============================] - 64s 571us/step - loss: 0.0401 - acc: 0.9859 - val_loss: 0.0692 - val_acc: 0.9793\n",
      "Epoch 4/5\n",
      "111699/111699 [==============================] - 82s 730us/step - loss: 0.0281 - acc: 0.9903 - val_loss: 0.0776 - val_acc: 0.9794\n",
      "Epoch 5/5\n",
      "111699/111699 [==============================] - 80s 713us/step - loss: 0.0200 - acc: 0.9937 - val_loss: 0.0860 - val_acc: 0.9792\n"
     ]
    }
   ],
   "source": [
    "# Fit model\n",
    "history = model.fit(\n",
    "    X_train, y_train, epochs=epochs, batch_size=batch_size, validation_data=(X_val, y_val))"
   ]
  },
  {
   "cell_type": "code",
   "execution_count": 14,
   "metadata": {
    "ExecuteTime": {
     "end_time": "2018-12-01T11:45:30.906830Z",
     "start_time": "2018-12-01T11:45:30.769253Z"
    },
    "collapsed": true
   },
   "outputs": [],
   "source": [
    "model.save_weights('../data/work/simple_neural_network.h5')"
   ]
  },
  {
   "cell_type": "code",
   "execution_count": 15,
   "metadata": {
    "ExecuteTime": {
     "end_time": "2018-12-01T11:45:30.936918Z",
     "start_time": "2018-12-01T11:45:30.910717Z"
    },
    "collapsed": true
   },
   "outputs": [],
   "source": [
    "def plot_history(history):\n",
    "    acc = history.history['acc']\n",
    "    val_acc = history.history['val_acc']\n",
    "    loss = history.history['loss']\n",
    "    val_loss = history.history['val_loss']\n",
    "    epochs = range(1, len(acc) + 1)\n",
    "    plt.plot(epochs, acc, 'bo', label='Training acc')\n",
    "    plt.plot(epochs, val_acc, 'b', label='Validation acc')\n",
    "    plt.title('Training and validation accuracy')\n",
    "    plt.legend()\n",
    "    plt.figure()\n",
    "    plt.plot(epochs, loss, 'bo', label='Training loss')\n",
    "    plt.plot(epochs, val_loss, 'b', label='Validation loss')\n",
    "    plt.title('Training and validation loss')\n",
    "    plt.legend()\n",
    "    plt.show()"
   ]
  },
  {
   "cell_type": "code",
   "execution_count": 16,
   "metadata": {
    "ExecuteTime": {
     "end_time": "2018-12-01T11:45:31.906116Z",
     "start_time": "2018-12-01T11:45:30.940879Z"
    }
   },
   "outputs": [
    {
     "data": {
      "image/png": "[encoded data removed]",
      "text/plain": [
       "<matplotlib.figure.Figure at 0x130aaa3c8>"
      ]
     },
     "metadata": {},
     "output_type": "display_data"
    },
    {
     "data": {
      "image/png": "[encoded data removed]",
      "text/plain": [
       "<matplotlib.figure.Figure at 0x130a548d0>"
      ]
     },
     "metadata": {},
     "output_type": "display_data"
    }
   ],
   "source": [
    "plot_history(history)"
   ]
  },
  {
   "cell_type": "markdown",
   "metadata": {},
   "source": [
    "# Pre-trained embedding"
   ]
  },
  {
   "cell_type": "code",
   "execution_count": 17,
   "metadata": {
    "ExecuteTime": {
     "end_time": "2018-12-01T11:45:31.948655Z",
     "start_time": "2018-12-01T11:45:31.910496Z"
    },
    "collapsed": true
   },
   "outputs": [],
   "source": [
    "def get_coefs(word, *arr):\n",
    "    return word, np.asarray(arr, dtype='float32')\n",
    "\n",
    "\n",
    "def get_embedding_matrix(tokenizer, path_glove, embed_size,\n",
    "                         max_features=20000):\n",
    "    embeddings_index = dict(\n",
    "        get_coefs(*o.strip().split()) for o in open(path_glove))\n",
    "    all_embs = np.stack(embeddings_index.values())\n",
    "    emb_mean, emb_std = all_embs.mean(), all_embs.std()\n",
    "\n",
    "    word_index = tokenizer.word_index\n",
    "    nb_words = min(max_features, len(word_index))\n",
    "    embedding_matrix = np.random.normal(emb_mean, emb_std, (nb_words,\n",
    "                                                            embed_size))\n",
    "    for word, i in word_index.items():\n",
    "        if i >= max_features:\n",
    "            continue\n",
    "        embedding_vector = embeddings_index.get(word)\n",
    "        if embedding_vector is not None:\n",
    "            embedding_matrix[i] = embedding_vector\n",
    "    return embedding_matrix"
   ]
  },
  {
   "cell_type": "code",
   "execution_count": 20,
   "metadata": {
    "ExecuteTime": {
     "end_time": "2018-12-01T11:51:03.139739Z",
     "start_time": "2018-12-01T11:50:51.137646Z"
    }
   },
   "outputs": [],
   "source": [
    "glove_path = \"../data/glove/glove.6B.50d.txt\"\n",
    "embedding_matrix = get_embedding_matrix(\n",
    "    tokenizer=tokenizer, path_glove=glove_path, embed_size=50, max_features=max_features)"
   ]
  },
  {
   "cell_type": "markdown",
   "metadata": {},
   "source": [
    "# Simple neural network with pre-trained embedding"
   ]
  },
  {
   "cell_type": "code",
   "execution_count": 21,
   "metadata": {
    "ExecuteTime": {
     "end_time": "2018-12-01T11:51:03.299872Z",
     "start_time": "2018-12-01T11:51:03.143904Z"
    },
    "collapsed": true
   },
   "outputs": [],
   "source": [
    "# Define model\n",
    "model = Sequential()\n",
    "model.add(\n",
    "    Embedding(\n",
    "        max_features,\n",
    "        embedding_matrix.shape[1],\n",
    "        input_length=maxlen,\n",
    "        weights=[embedding_matrix]))\n",
    "model.add(Flatten())\n",
    "model.add(Dense(6, activation='sigmoid'))\n",
    "# 6 because we want to predict 6 classes"
   ]
  },
  {
   "cell_type": "code",
   "execution_count": 22,
   "metadata": {
    "ExecuteTime": {
     "end_time": "2018-12-01T11:51:03.472754Z",
     "start_time": "2018-12-01T11:51:03.302393Z"
    }
   },
   "outputs": [
    {
     "data": {
      "image/svg+xml": [
       "<svg height=\"264pt\" viewBox=\"0.00 0.00 172.14 264.00\" width=\"172pt\" xmlns=\"http://www.w3.org/2000/svg\" xmlns:xlink=\"http://www.w3.org/1999/xlink\">\n",
       "<g class=\"graph\" id=\"graph0\" transform=\"scale(1 1) rotate(0) translate(4 260)\">\n",
       "<title>G</title>\n",
       "<polygon fill=\"#ffffff\" points=\"-4,4 -4,-260 168.1416,-260 168.1416,4 -4,4\" stroke=\"transparent\"/>\n",
       "<!-- 5151832552 -->\n",
       "<g class=\"node\" id=\"node1\">\n",
       "<title>5151832552</title>\n",
       "<polygon fill=\"none\" points=\"0,-146.5 0,-182.5 164.1416,-182.5 164.1416,-146.5 0,-146.5\" stroke=\"#000000\"/>\n",
       "<text fill=\"#000000\" font-family=\"Times,serif\" font-size=\"14.00\" text-anchor=\"middle\" x=\"82.0708\" y=\"-160.3\">embedding_2: Embedding</text>\n",
       "</g>\n",
       "<!-- 5151832384 -->\n",
       "<g class=\"node\" id=\"node2\">\n",
       "<title>5151832384</title>\n",
       "<polygon fill=\"none\" points=\"26.438,-73.5 26.438,-109.5 137.7036,-109.5 137.7036,-73.5 26.438,-73.5\" stroke=\"#000000\"/>\n",
       "<text fill=\"#000000\" font-family=\"Times,serif\" font-size=\"14.00\" text-anchor=\"middle\" x=\"82.0708\" y=\"-87.3\">flatten_2: Flatten</text>\n",
       "</g>\n",
       "<!-- 5151832552&#45;&gt;5151832384 -->\n",
       "<g class=\"edge\" id=\"edge2\">\n",
       "<title>5151832552-&gt;5151832384</title>\n",
       "<path d=\"M82.0708,-146.4551C82.0708,-138.3828 82.0708,-128.6764 82.0708,-119.6817\" fill=\"none\" stroke=\"#000000\"/>\n",
       "<polygon fill=\"#000000\" points=\"85.5709,-119.5903 82.0708,-109.5904 78.5709,-119.5904 85.5709,-119.5903\" stroke=\"#000000\"/>\n",
       "</g>\n",
       "<!-- 5151833280 -->\n",
       "<g class=\"node\" id=\"node3\">\n",
       "<title>5151833280</title>\n",
       "<polygon fill=\"none\" points=\"29.9448,-.5 29.9448,-36.5 134.1968,-36.5 134.1968,-.5 29.9448,-.5\" stroke=\"#000000\"/>\n",
       "<text fill=\"#000000\" font-family=\"Times,serif\" font-size=\"14.00\" text-anchor=\"middle\" x=\"82.0708\" y=\"-14.3\">dense_2: Dense</text>\n",
       "</g>\n",
       "<!-- 5151832384&#45;&gt;5151833280 -->\n",
       "<g class=\"edge\" id=\"edge3\">\n",
       "<title>5151832384-&gt;5151833280</title>\n",
       "<path d=\"M82.0708,-73.4551C82.0708,-65.3828 82.0708,-55.6764 82.0708,-46.6817\" fill=\"none\" stroke=\"#000000\"/>\n",
       "<polygon fill=\"#000000\" points=\"85.5709,-46.5903 82.0708,-36.5904 78.5709,-46.5904 85.5709,-46.5903\" stroke=\"#000000\"/>\n",
       "</g>\n",
       "<!-- 5151832664 -->\n",
       "<g class=\"node\" id=\"node4\">\n",
       "<title>5151832664</title>\n",
       "<polygon fill=\"none\" points=\"39.0708,-219.5 39.0708,-255.5 125.0708,-255.5 125.0708,-219.5 39.0708,-219.5\" stroke=\"#000000\"/>\n",
       "<text fill=\"#000000\" font-family=\"Times,serif\" font-size=\"14.00\" text-anchor=\"middle\" x=\"82.0708\" y=\"-233.3\">5151832664</text>\n",
       "</g>\n",
       "<!-- 5151832664&#45;&gt;5151832552 -->\n",
       "<g class=\"edge\" id=\"edge1\">\n",
       "<title>5151832664-&gt;5151832552</title>\n",
       "<path d=\"M82.0708,-219.4551C82.0708,-211.3828 82.0708,-201.6764 82.0708,-192.6817\" fill=\"none\" stroke=\"#000000\"/>\n",
       "<polygon fill=\"#000000\" points=\"85.5709,-192.5903 82.0708,-182.5904 78.5709,-192.5904 85.5709,-192.5903\" stroke=\"#000000\"/>\n",
       "</g>\n",
       "</g>\n",
       "</svg>"
      ],
      "text/plain": [
       "<IPython.core.display.SVG object>"
      ]
     },
     "execution_count": 22,
     "metadata": {},
     "output_type": "execute_result"
    }
   ],
   "source": [
    "SVG(model_to_dot(model).create(prog='dot', format='svg'))"
   ]
  },
  {
   "cell_type": "code",
   "execution_count": 23,
   "metadata": {
    "ExecuteTime": {
     "end_time": "2018-12-01T11:51:04.239564Z",
     "start_time": "2018-12-01T11:51:03.479281Z"
    },
    "collapsed": true
   },
   "outputs": [],
   "source": [
    "# Compile model\n",
    "model.compile(optimizer='adam', loss='binary_crossentropy', metrics=['accuracy'])"
   ]
  },
  {
   "cell_type": "code",
   "execution_count": 24,
   "metadata": {
    "ExecuteTime": {
     "end_time": "2018-12-01T11:51:04.260742Z",
     "start_time": "2018-12-01T11:51:04.243409Z"
    }
   },
   "outputs": [
    {
     "name": "stdout",
     "output_type": "stream",
     "text": [
      "_________________________________________________________________\n",
      "Layer (type)                 Output Shape              Param #   \n",
      "=================================================================\n",
      "embedding_2 (Embedding)      (None, 100, 50)           1000000   \n",
      "_________________________________________________________________\n",
      "flatten_2 (Flatten)          (None, 5000)              0         \n",
      "_________________________________________________________________\n",
      "dense_2 (Dense)              (None, 6)                 30006     \n",
      "=================================================================\n",
      "Total params: 1,030,006\n",
      "Trainable params: 1,030,006\n",
      "Non-trainable params: 0\n",
      "_________________________________________________________________\n"
     ]
    }
   ],
   "source": [
    "# Show model\n",
    "model.summary()"
   ]
  },
  {
   "cell_type": "code",
   "execution_count": 25,
   "metadata": {
    "ExecuteTime": {
     "end_time": "2018-12-01T11:56:04.603158Z",
     "start_time": "2018-12-01T11:51:04.264052Z"
    }
   },
   "outputs": [
    {
     "name": "stdout",
     "output_type": "stream",
     "text": [
      "Train on 111699 samples, validate on 47872 samples\n",
      "Epoch 1/5\n",
      "111699/111699 [==============================] - 70s 629us/step - loss: 0.0850 - acc: 0.9734 - val_loss: 0.0706 - val_acc: 0.9778\n",
      "Epoch 2/5\n",
      "111699/111699 [==============================] - 57s 515us/step - loss: 0.0593 - acc: 0.9803 - val_loss: 0.0731 - val_acc: 0.9779\n",
      "Epoch 3/5\n",
      "111699/111699 [==============================] - 58s 515us/step - loss: 0.0459 - acc: 0.9843 - val_loss: 0.0747 - val_acc: 0.9783\n",
      "Epoch 4/5\n",
      "111699/111699 [==============================] - 57s 514us/step - loss: 0.0360 - acc: 0.9876 - val_loss: 0.0803 - val_acc: 0.9785\n",
      "Epoch 5/5\n",
      "111699/111699 [==============================] - 57s 514us/step - loss: 0.0283 - acc: 0.9904 - val_loss: 0.0853 - val_acc: 0.9776\n"
     ]
    }
   ],
   "source": [
    "# Fit model\n",
    "history = model.fit(\n",
    "    X_train, y_train, epochs=epochs, batch_size=batch_size, validation_data=(X_val, y_val))"
   ]
  },
  {
   "cell_type": "code",
   "execution_count": 26,
   "metadata": {
    "ExecuteTime": {
     "end_time": "2018-12-01T11:56:04.681218Z",
     "start_time": "2018-12-01T11:56:04.606028Z"
    },
    "collapsed": true
   },
   "outputs": [],
   "source": [
    "model.save_weights('../data/work/simple_neural_network_pretrained_embedding.h5')"
   ]
  },
  {
   "cell_type": "code",
   "execution_count": 27,
   "metadata": {
    "ExecuteTime": {
     "end_time": "2018-12-01T11:56:04.982990Z",
     "start_time": "2018-12-01T11:56:04.683869Z"
    }
   },
   "outputs": [
    {
     "data": {
      "image/png": "[encoded data removed]",
      "text/plain": [
       "<matplotlib.figure.Figure at 0x128dd2dd8>"
      ]
     },
     "metadata": {},
     "output_type": "display_data"
    },
    {
     "data": {
      "image/png": "[encoded data removed]",
      "text/plain": [
       "<matplotlib.figure.Figure at 0x11f018978>"
      ]
     },
     "metadata": {},
     "output_type": "display_data"
    }
   ],
   "source": [
    "plot_history(history)"
   ]
  },
  {
   "cell_type": "markdown",
   "metadata": {},
   "source": [
    "# Simple RNN"
   ]
  },
  {
   "cell_type": "code",
   "execution_count": 28,
   "metadata": {
    "ExecuteTime": {
     "end_time": "2018-12-01T11:56:05.214730Z",
     "start_time": "2018-12-01T11:56:04.986160Z"
    },
    "collapsed": true
   },
   "outputs": [],
   "source": [
    "# Define model\n",
    "model = Sequential()\n",
    "model.add(Embedding(max_features, embedding_matrix.shape[1], weights=[embedding_matrix]))\n",
    "model.add(SimpleRNN(32))\n",
    "model.add(Dense(6, activation='sigmoid')) # 6 because we want to predict 6 classes"
   ]
  },
  {
   "cell_type": "code",
   "execution_count": 29,
   "metadata": {
    "ExecuteTime": {
     "end_time": "2018-12-01T11:56:05.326080Z",
     "start_time": "2018-12-01T11:56:05.217457Z"
    }
   },
   "outputs": [
    {
     "data": {
      "image/svg+xml": [
       "<svg height=\"264pt\" viewBox=\"0.00 0.00 177.61 264.00\" width=\"178pt\" xmlns=\"http://www.w3.org/2000/svg\" xmlns:xlink=\"http://www.w3.org/1999/xlink\">\n",
       "<g class=\"graph\" id=\"graph0\" transform=\"scale(1 1) rotate(0) translate(4 260)\">\n",
       "<title>G</title>\n",
       "<polygon fill=\"#ffffff\" points=\"-4,4 -4,-260 173.6104,-260 173.6104,4 -4,4\" stroke=\"transparent\"/>\n",
       "<!-- 4869661080 -->\n",
       "<g class=\"node\" id=\"node1\">\n",
       "<title>4869661080</title>\n",
       "<polygon fill=\"none\" points=\"2.7344,-146.5 2.7344,-182.5 166.876,-182.5 166.876,-146.5 2.7344,-146.5\" stroke=\"#000000\"/>\n",
       "<text fill=\"#000000\" font-family=\"Times,serif\" font-size=\"14.00\" text-anchor=\"middle\" x=\"84.8052\" y=\"-160.3\">embedding_3: Embedding</text>\n",
       "</g>\n",
       "<!-- 5111305272 -->\n",
       "<g class=\"node\" id=\"node2\">\n",
       "<title>5111305272</title>\n",
       "<polygon fill=\"none\" points=\"0,-73.5 0,-109.5 169.6104,-109.5 169.6104,-73.5 0,-73.5\" stroke=\"#000000\"/>\n",
       "<text fill=\"#000000\" font-family=\"Times,serif\" font-size=\"14.00\" text-anchor=\"middle\" x=\"84.8052\" y=\"-87.3\">simple_rnn_1: SimpleRNN</text>\n",
       "</g>\n",
       "<!-- 4869661080&#45;&gt;5111305272 -->\n",
       "<g class=\"edge\" id=\"edge2\">\n",
       "<title>4869661080-&gt;5111305272</title>\n",
       "<path d=\"M84.8052,-146.4551C84.8052,-138.3828 84.8052,-128.6764 84.8052,-119.6817\" fill=\"none\" stroke=\"#000000\"/>\n",
       "<polygon fill=\"#000000\" points=\"88.3053,-119.5903 84.8052,-109.5904 81.3053,-119.5904 88.3053,-119.5903\" stroke=\"#000000\"/>\n",
       "</g>\n",
       "<!-- 5111304544 -->\n",
       "<g class=\"node\" id=\"node3\">\n",
       "<title>5111304544</title>\n",
       "<polygon fill=\"none\" points=\"32.6792,-.5 32.6792,-36.5 136.9312,-36.5 136.9312,-.5 32.6792,-.5\" stroke=\"#000000\"/>\n",
       "<text fill=\"#000000\" font-family=\"Times,serif\" font-size=\"14.00\" text-anchor=\"middle\" x=\"84.8052\" y=\"-14.3\">dense_3: Dense</text>\n",
       "</g>\n",
       "<!-- 5111305272&#45;&gt;5111304544 -->\n",
       "<g class=\"edge\" id=\"edge3\">\n",
       "<title>5111305272-&gt;5111304544</title>\n",
       "<path d=\"M84.8052,-73.4551C84.8052,-65.3828 84.8052,-55.6764 84.8052,-46.6817\" fill=\"none\" stroke=\"#000000\"/>\n",
       "<polygon fill=\"#000000\" points=\"88.3053,-46.5903 84.8052,-36.5904 81.3053,-46.5904 88.3053,-46.5903\" stroke=\"#000000\"/>\n",
       "</g>\n",
       "<!-- 4869716904 -->\n",
       "<g class=\"node\" id=\"node4\">\n",
       "<title>4869716904</title>\n",
       "<polygon fill=\"none\" points=\"41.8052,-219.5 41.8052,-255.5 127.8052,-255.5 127.8052,-219.5 41.8052,-219.5\" stroke=\"#000000\"/>\n",
       "<text fill=\"#000000\" font-family=\"Times,serif\" font-size=\"14.00\" text-anchor=\"middle\" x=\"84.8052\" y=\"-233.3\">4869716904</text>\n",
       "</g>\n",
       "<!-- 4869716904&#45;&gt;4869661080 -->\n",
       "<g class=\"edge\" id=\"edge1\">\n",
       "<title>4869716904-&gt;4869661080</title>\n",
       "<path d=\"M84.8052,-219.4551C84.8052,-211.3828 84.8052,-201.6764 84.8052,-192.6817\" fill=\"none\" stroke=\"#000000\"/>\n",
       "<polygon fill=\"#000000\" points=\"88.3053,-192.5903 84.8052,-182.5904 81.3053,-192.5904 88.3053,-192.5903\" stroke=\"#000000\"/>\n",
       "</g>\n",
       "</g>\n",
       "</svg>"
      ],
      "text/plain": [
       "<IPython.core.display.SVG object>"
      ]
     },
     "execution_count": 29,
     "metadata": {},
     "output_type": "execute_result"
    }
   ],
   "source": [
    "SVG(model_to_dot(model).create(prog='dot', format='svg'))"
   ]
  },
  {
   "cell_type": "code",
   "execution_count": 30,
   "metadata": {
    "ExecuteTime": {
     "end_time": "2018-12-01T11:56:05.392404Z",
     "start_time": "2018-12-01T11:56:05.330078Z"
    },
    "collapsed": true
   },
   "outputs": [],
   "source": [
    "# Compile model\n",
    "model.compile(optimizer='adam', loss='binary_crossentropy', metrics=['accuracy'])"
   ]
  },
  {
   "cell_type": "code",
   "execution_count": 31,
   "metadata": {
    "ExecuteTime": {
     "end_time": "2018-12-01T11:56:05.406177Z",
     "start_time": "2018-12-01T11:56:05.395035Z"
    }
   },
   "outputs": [
    {
     "name": "stdout",
     "output_type": "stream",
     "text": [
      "_________________________________________________________________\n",
      "Layer (type)                 Output Shape              Param #   \n",
      "=================================================================\n",
      "embedding_3 (Embedding)      (None, None, 50)          1000000   \n",
      "_________________________________________________________________\n",
      "simple_rnn_1 (SimpleRNN)     (None, 32)                2656      \n",
      "_________________________________________________________________\n",
      "dense_3 (Dense)              (None, 6)                 198       \n",
      "=================================================================\n",
      "Total params: 1,002,854\n",
      "Trainable params: 1,002,854\n",
      "Non-trainable params: 0\n",
      "_________________________________________________________________\n"
     ]
    }
   ],
   "source": [
    "# Show model\n",
    "model.summary()"
   ]
  },
  {
   "cell_type": "code",
   "execution_count": 32,
   "metadata": {
    "ExecuteTime": {
     "end_time": "2018-12-01T12:10:29.031270Z",
     "start_time": "2018-12-01T11:56:05.409077Z"
    }
   },
   "outputs": [
    {
     "name": "stdout",
     "output_type": "stream",
     "text": [
      "Train on 111699 samples, validate on 47872 samples\n",
      "Epoch 1/5\n",
      "111699/111699 [==============================] - 208s 2ms/step - loss: 0.0948 - acc: 0.9691 - val_loss: 0.0680 - val_acc: 0.9760\n",
      "Epoch 2/5\n",
      "111699/111699 [==============================] - 178s 2ms/step - loss: 0.0705 - acc: 0.9755 - val_loss: 0.0672 - val_acc: 0.9782\n",
      "Epoch 3/5\n",
      "111699/111699 [==============================] - 159s 1ms/step - loss: 0.0661 - acc: 0.9775 - val_loss: 0.0748 - val_acc: 0.9764\n",
      "Epoch 4/5\n",
      "111699/111699 [==============================] - 160s 1ms/step - loss: 0.0617 - acc: 0.9787 - val_loss: 0.0790 - val_acc: 0.9698\n",
      "Epoch 5/5\n",
      "111699/111699 [==============================] - 158s 1ms/step - loss: 0.0627 - acc: 0.9767 - val_loss: 0.0903 - val_acc: 0.9729\n"
     ]
    }
   ],
   "source": [
    "# Fit model\n",
    "history = model.fit(\n",
    "    X_train, y_train, epochs=epochs, batch_size=batch_size, validation_data=(X_val, y_val))"
   ]
  },
  {
   "cell_type": "code",
   "execution_count": 33,
   "metadata": {
    "ExecuteTime": {
     "end_time": "2018-12-01T12:10:29.101501Z",
     "start_time": "2018-12-01T12:10:29.034032Z"
    },
    "collapsed": true
   },
   "outputs": [],
   "source": [
    "model.save_weights('../data/work/simple_rnn.h5')"
   ]
  },
  {
   "cell_type": "code",
   "execution_count": 34,
   "metadata": {
    "ExecuteTime": {
     "end_time": "2018-12-01T12:10:29.410510Z",
     "start_time": "2018-12-01T12:10:29.104096Z"
    }
   },
   "outputs": [
    {
     "data": {
      "image/png": "[encoded data removed]",
      "text/plain": [
       "<matplotlib.figure.Figure at 0x101296128>"
      ]
     },
     "metadata": {},
     "output_type": "display_data"
    },
    {
     "data": {
      "image/png": "[encoded data removed]",
      "text/plain": [
       "<matplotlib.figure.Figure at 0x134dde7f0>"
      ]
     },
     "metadata": {},
     "output_type": "display_data"
    }
   ],
   "source": [
    "plot_history(history)"
   ]
  },
  {
   "cell_type": "code",
   "execution_count": 35,
   "metadata": {
    "ExecuteTime": {
     "end_time": "2018-12-01T12:10:29.421522Z",
     "start_time": "2018-12-01T12:10:29.413674Z"
    }
   },
   "outputs": [
    {
     "data": {
      "text/plain": [
       "(20000, 50)"
      ]
     },
     "execution_count": 35,
     "metadata": {},
     "output_type": "execute_result"
    }
   ],
   "source": [
    "embedding_matrix.shape"
   ]
  },
  {
   "cell_type": "markdown",
   "metadata": {},
   "source": [
    "# Stacked RNN"
   ]
  },
  {
   "cell_type": "code",
   "execution_count": 36,
   "metadata": {
    "ExecuteTime": {
     "end_time": "2018-12-01T12:10:29.852179Z",
     "start_time": "2018-12-01T12:10:29.424545Z"
    },
    "collapsed": true
   },
   "outputs": [],
   "source": [
    "# Define model\n",
    "model = Sequential()\n",
    "model.add(\n",
    "    Embedding(\n",
    "        max_features, embedding_matrix.shape[1], weights=[embedding_matrix]))\n",
    "model.add(SimpleRNN(32, return_sequences=True))\n",
    "model.add(SimpleRNN(32, return_sequences=True))\n",
    "model.add(SimpleRNN(32))\n",
    "model.add(Dense(6, activation='sigmoid'))\n",
    "# 6 because we want to predict 6 classes"
   ]
  },
  {
   "cell_type": "code",
   "execution_count": 37,
   "metadata": {
    "ExecuteTime": {
     "end_time": "2018-12-01T12:10:29.979054Z",
     "start_time": "2018-12-01T12:10:29.854758Z"
    }
   },
   "outputs": [
    {
     "data": {
      "image/svg+xml": [
       "<svg height=\"410pt\" viewBox=\"0.00 0.00 177.61 410.00\" width=\"178pt\" xmlns=\"http://www.w3.org/2000/svg\" xmlns:xlink=\"http://www.w3.org/1999/xlink\">\n",
       "<g class=\"graph\" id=\"graph0\" transform=\"scale(1 1) rotate(0) translate(4 406)\">\n",
       "<title>G</title>\n",
       "<polygon fill=\"#ffffff\" points=\"-4,4 -4,-406 173.6104,-406 173.6104,4 -4,4\" stroke=\"transparent\"/>\n",
       "<!-- 5181926592 -->\n",
       "<g class=\"node\" id=\"node1\">\n",
       "<title>5181926592</title>\n",
       "<polygon fill=\"none\" points=\"2.7344,-292.5 2.7344,-328.5 166.876,-328.5 166.876,-292.5 2.7344,-292.5\" stroke=\"#000000\"/>\n",
       "<text fill=\"#000000\" font-family=\"Times,serif\" font-size=\"14.00\" text-anchor=\"middle\" x=\"84.8052\" y=\"-306.3\">embedding_4: Embedding</text>\n",
       "</g>\n",
       "<!-- 5181926536 -->\n",
       "<g class=\"node\" id=\"node2\">\n",
       "<title>5181926536</title>\n",
       "<polygon fill=\"none\" points=\"0,-219.5 0,-255.5 169.6104,-255.5 169.6104,-219.5 0,-219.5\" stroke=\"#000000\"/>\n",
       "<text fill=\"#000000\" font-family=\"Times,serif\" font-size=\"14.00\" text-anchor=\"middle\" x=\"84.8052\" y=\"-233.3\">simple_rnn_2: SimpleRNN</text>\n",
       "</g>\n",
       "<!-- 5181926592&#45;&gt;5181926536 -->\n",
       "<g class=\"edge\" id=\"edge2\">\n",
       "<title>5181926592-&gt;5181926536</title>\n",
       "<path d=\"M84.8052,-292.4551C84.8052,-284.3828 84.8052,-274.6764 84.8052,-265.6817\" fill=\"none\" stroke=\"#000000\"/>\n",
       "<polygon fill=\"#000000\" points=\"88.3053,-265.5903 84.8052,-255.5904 81.3053,-265.5904 88.3053,-265.5903\" stroke=\"#000000\"/>\n",
       "</g>\n",
       "<!-- 4859177112 -->\n",
       "<g class=\"node\" id=\"node3\">\n",
       "<title>4859177112</title>\n",
       "<polygon fill=\"none\" points=\"0,-146.5 0,-182.5 169.6104,-182.5 169.6104,-146.5 0,-146.5\" stroke=\"#000000\"/>\n",
       "<text fill=\"#000000\" font-family=\"Times,serif\" font-size=\"14.00\" text-anchor=\"middle\" x=\"84.8052\" y=\"-160.3\">simple_rnn_3: SimpleRNN</text>\n",
       "</g>\n",
       "<!-- 5181926536&#45;&gt;4859177112 -->\n",
       "<g class=\"edge\" id=\"edge3\">\n",
       "<title>5181926536-&gt;4859177112</title>\n",
       "<path d=\"M84.8052,-219.4551C84.8052,-211.3828 84.8052,-201.6764 84.8052,-192.6817\" fill=\"none\" stroke=\"#000000\"/>\n",
       "<polygon fill=\"#000000\" points=\"88.3053,-192.5903 84.8052,-182.5904 81.3053,-192.5904 88.3053,-192.5903\" stroke=\"#000000\"/>\n",
       "</g>\n",
       "<!-- 5181923904 -->\n",
       "<g class=\"node\" id=\"node4\">\n",
       "<title>5181923904</title>\n",
       "<polygon fill=\"none\" points=\"0,-73.5 0,-109.5 169.6104,-109.5 169.6104,-73.5 0,-73.5\" stroke=\"#000000\"/>\n",
       "<text fill=\"#000000\" font-family=\"Times,serif\" font-size=\"14.00\" text-anchor=\"middle\" x=\"84.8052\" y=\"-87.3\">simple_rnn_4: SimpleRNN</text>\n",
       "</g>\n",
       "<!-- 4859177112&#45;&gt;5181923904 -->\n",
       "<g class=\"edge\" id=\"edge4\">\n",
       "<title>4859177112-&gt;5181923904</title>\n",
       "<path d=\"M84.8052,-146.4551C84.8052,-138.3828 84.8052,-128.6764 84.8052,-119.6817\" fill=\"none\" stroke=\"#000000\"/>\n",
       "<polygon fill=\"#000000\" points=\"88.3053,-119.5903 84.8052,-109.5904 81.3053,-119.5904 88.3053,-119.5903\" stroke=\"#000000\"/>\n",
       "</g>\n",
       "<!-- 4815183600 -->\n",
       "<g class=\"node\" id=\"node5\">\n",
       "<title>4815183600</title>\n",
       "<polygon fill=\"none\" points=\"32.6792,-.5 32.6792,-36.5 136.9312,-36.5 136.9312,-.5 32.6792,-.5\" stroke=\"#000000\"/>\n",
       "<text fill=\"#000000\" font-family=\"Times,serif\" font-size=\"14.00\" text-anchor=\"middle\" x=\"84.8052\" y=\"-14.3\">dense_4: Dense</text>\n",
       "</g>\n",
       "<!-- 5181923904&#45;&gt;4815183600 -->\n",
       "<g class=\"edge\" id=\"edge5\">\n",
       "<title>5181923904-&gt;4815183600</title>\n",
       "<path d=\"M84.8052,-73.4551C84.8052,-65.3828 84.8052,-55.6764 84.8052,-46.6817\" fill=\"none\" stroke=\"#000000\"/>\n",
       "<polygon fill=\"#000000\" points=\"88.3053,-46.5903 84.8052,-36.5904 81.3053,-46.5904 88.3053,-46.5903\" stroke=\"#000000\"/>\n",
       "</g>\n",
       "<!-- 5181926088 -->\n",
       "<g class=\"node\" id=\"node6\">\n",
       "<title>5181926088</title>\n",
       "<polygon fill=\"none\" points=\"41.8052,-365.5 41.8052,-401.5 127.8052,-401.5 127.8052,-365.5 41.8052,-365.5\" stroke=\"#000000\"/>\n",
       "<text fill=\"#000000\" font-family=\"Times,serif\" font-size=\"14.00\" text-anchor=\"middle\" x=\"84.8052\" y=\"-379.3\">5181926088</text>\n",
       "</g>\n",
       "<!-- 5181926088&#45;&gt;5181926592 -->\n",
       "<g class=\"edge\" id=\"edge1\">\n",
       "<title>5181926088-&gt;5181926592</title>\n",
       "<path d=\"M84.8052,-365.4551C84.8052,-357.3828 84.8052,-347.6764 84.8052,-338.6817\" fill=\"none\" stroke=\"#000000\"/>\n",
       "<polygon fill=\"#000000\" points=\"88.3053,-338.5903 84.8052,-328.5904 81.3053,-338.5904 88.3053,-338.5903\" stroke=\"#000000\"/>\n",
       "</g>\n",
       "</g>\n",
       "</svg>"
      ],
      "text/plain": [
       "<IPython.core.display.SVG object>"
      ]
     },
     "execution_count": 37,
     "metadata": {},
     "output_type": "execute_result"
    }
   ],
   "source": [
    "# Show model\n",
    "SVG(model_to_dot(model).create(prog='dot', format='svg'))"
   ]
  },
  {
   "cell_type": "code",
   "execution_count": 38,
   "metadata": {
    "ExecuteTime": {
     "end_time": "2018-12-01T12:10:30.041114Z",
     "start_time": "2018-12-01T12:10:29.983072Z"
    },
    "collapsed": true
   },
   "outputs": [],
   "source": [
    "# Compile model\n",
    "model.compile(\n",
    "    optimizer='adam', loss='binary_crossentropy', metrics=['accuracy'])"
   ]
  },
  {
   "cell_type": "code",
   "execution_count": 39,
   "metadata": {
    "ExecuteTime": {
     "end_time": "2018-12-01T12:10:30.055797Z",
     "start_time": "2018-12-01T12:10:30.043874Z"
    }
   },
   "outputs": [
    {
     "name": "stdout",
     "output_type": "stream",
     "text": [
      "_________________________________________________________________\n",
      "Layer (type)                 Output Shape              Param #   \n",
      "=================================================================\n",
      "embedding_4 (Embedding)      (None, None, 50)          1000000   \n",
      "_________________________________________________________________\n",
      "simple_rnn_2 (SimpleRNN)     (None, None, 32)          2656      \n",
      "_________________________________________________________________\n",
      "simple_rnn_3 (SimpleRNN)     (None, None, 32)          2080      \n",
      "_________________________________________________________________\n",
      "simple_rnn_4 (SimpleRNN)     (None, 32)                2080      \n",
      "_________________________________________________________________\n",
      "dense_4 (Dense)              (None, 6)                 198       \n",
      "=================================================================\n",
      "Total params: 1,007,014\n",
      "Trainable params: 1,007,014\n",
      "Non-trainable params: 0\n",
      "_________________________________________________________________\n"
     ]
    }
   ],
   "source": [
    "# Show model\n",
    "model.summary()"
   ]
  },
  {
   "cell_type": "code",
   "execution_count": 40,
   "metadata": {
    "ExecuteTime": {
     "end_time": "2018-12-01T12:38:42.636323Z",
     "start_time": "2018-12-01T12:10:30.058618Z"
    }
   },
   "outputs": [
    {
     "name": "stdout",
     "output_type": "stream",
     "text": [
      "Train on 111699 samples, validate on 47872 samples\n",
      "Epoch 1/5\n",
      "111699/111699 [==============================] - 339s 3ms/step - loss: 0.0853 - acc: 0.9722 - val_loss: 0.0672 - val_acc: 0.9766\n",
      "Epoch 2/5\n",
      "111699/111699 [==============================] - 338s 3ms/step - loss: 0.0702 - acc: 0.9764 - val_loss: 0.0708 - val_acc: 0.9753\n",
      "Epoch 3/5\n",
      "111699/111699 [==============================] - 337s 3ms/step - loss: 0.0626 - acc: 0.9781 - val_loss: 0.0659 - val_acc: 0.9765\n",
      "Epoch 4/5\n",
      "111699/111699 [==============================] - 339s 3ms/step - loss: 0.0739 - acc: 0.9761 - val_loss: 0.0710 - val_acc: 0.9778\n",
      "Epoch 5/5\n",
      "111699/111699 [==============================] - 338s 3ms/step - loss: 0.0664 - acc: 0.9781 - val_loss: 0.0675 - val_acc: 0.9780\n"
     ]
    }
   ],
   "source": [
    "# Fit model\n",
    "history = model.fit(\n",
    "    X_train,\n",
    "    y_train,\n",
    "    epochs=epochs,\n",
    "    batch_size=batch_size,\n",
    "    validation_data=(X_val, y_val))"
   ]
  },
  {
   "cell_type": "code",
   "execution_count": 41,
   "metadata": {
    "ExecuteTime": {
     "end_time": "2018-12-01T12:38:42.833277Z",
     "start_time": "2018-12-01T12:38:42.639449Z"
    },
    "collapsed": true
   },
   "outputs": [],
   "source": [
    "model.save_weights('../data/work/stacked_rnn.h5')"
   ]
  },
  {
   "cell_type": "code",
   "execution_count": 42,
   "metadata": {
    "ExecuteTime": {
     "end_time": "2018-12-01T12:38:43.126536Z",
     "start_time": "2018-12-01T12:38:42.835783Z"
    }
   },
   "outputs": [
    {
     "data": {
      "image/png": "[encoded data removed]",
      "text/plain": [
       "<matplotlib.figure.Figure at 0x137e72860>"
      ]
     },
     "metadata": {},
     "output_type": "display_data"
    },
    {
     "data": {
      "image/png": "[encoded data removed]",
      "text/plain": [
       "<matplotlib.figure.Figure at 0x138950c18>"
      ]
     },
     "metadata": {},
     "output_type": "display_data"
    }
   ],
   "source": [
    "plot_history(history)"
   ]
  },
  {
   "cell_type": "markdown",
   "metadata": {},
   "source": [
    "# LSTM"
   ]
  },
  {
   "cell_type": "code",
   "execution_count": 43,
   "metadata": {
    "ExecuteTime": {
     "end_time": "2018-12-01T12:38:43.665776Z",
     "start_time": "2018-12-01T12:38:43.129496Z"
    },
    "collapsed": true
   },
   "outputs": [],
   "source": [
    "# Define model\n",
    "model = Sequential()\n",
    "model.add(\n",
    "    Embedding(\n",
    "        max_features, embedding_matrix.shape[1], weights=[embedding_matrix]))\n",
    "model.add(LSTM(32))\n",
    "model.add(Dense(6, activation='sigmoid'))\n",
    "# 6 because we want to predict 6 classes"
   ]
  },
  {
   "cell_type": "code",
   "execution_count": 44,
   "metadata": {
    "ExecuteTime": {
     "end_time": "2018-12-01T12:38:43.787125Z",
     "start_time": "2018-12-01T12:38:43.668829Z"
    }
   },
   "outputs": [
    {
     "data": {
      "image/svg+xml": [
       "<svg height=\"264pt\" viewBox=\"0.00 0.00 172.14 264.00\" width=\"172pt\" xmlns=\"http://www.w3.org/2000/svg\" xmlns:xlink=\"http://www.w3.org/1999/xlink\">\n",
       "<g class=\"graph\" id=\"graph0\" transform=\"scale(1 1) rotate(0) translate(4 260)\">\n",
       "<title>G</title>\n",
       "<polygon fill=\"#ffffff\" points=\"-4,4 -4,-260 168.1416,-260 168.1416,4 -4,4\" stroke=\"transparent\"/>\n",
       "<!-- 5243439032 -->\n",
       "<g class=\"node\" id=\"node1\">\n",
       "<title>5243439032</title>\n",
       "<polygon fill=\"none\" points=\"0,-146.5 0,-182.5 164.1416,-182.5 164.1416,-146.5 0,-146.5\" stroke=\"#000000\"/>\n",
       "<text fill=\"#000000\" font-family=\"Times,serif\" font-size=\"14.00\" text-anchor=\"middle\" x=\"82.0708\" y=\"-160.3\">embedding_5: Embedding</text>\n",
       "</g>\n",
       "<!-- 5243438864 -->\n",
       "<g class=\"node\" id=\"node2\">\n",
       "<title>5243438864</title>\n",
       "<polygon fill=\"none\" points=\"32.6484,-73.5 32.6484,-109.5 131.4932,-109.5 131.4932,-73.5 32.6484,-73.5\" stroke=\"#000000\"/>\n",
       "<text fill=\"#000000\" font-family=\"Times,serif\" font-size=\"14.00\" text-anchor=\"middle\" x=\"82.0708\" y=\"-87.3\">lstm_1: LSTM</text>\n",
       "</g>\n",
       "<!-- 5243439032&#45;&gt;5243438864 -->\n",
       "<g class=\"edge\" id=\"edge2\">\n",
       "<title>5243439032-&gt;5243438864</title>\n",
       "<path d=\"M82.0708,-146.4551C82.0708,-138.3828 82.0708,-128.6764 82.0708,-119.6817\" fill=\"none\" stroke=\"#000000\"/>\n",
       "<polygon fill=\"#000000\" points=\"85.5709,-119.5903 82.0708,-109.5904 78.5709,-119.5904 85.5709,-119.5903\" stroke=\"#000000\"/>\n",
       "</g>\n",
       "<!-- 5243440432 -->\n",
       "<g class=\"node\" id=\"node3\">\n",
       "<title>5243440432</title>\n",
       "<polygon fill=\"none\" points=\"29.9448,-.5 29.9448,-36.5 134.1968,-36.5 134.1968,-.5 29.9448,-.5\" stroke=\"#000000\"/>\n",
       "<text fill=\"#000000\" font-family=\"Times,serif\" font-size=\"14.00\" text-anchor=\"middle\" x=\"82.0708\" y=\"-14.3\">dense_5: Dense</text>\n",
       "</g>\n",
       "<!-- 5243438864&#45;&gt;5243440432 -->\n",
       "<g class=\"edge\" id=\"edge3\">\n",
       "<title>5243438864-&gt;5243440432</title>\n",
       "<path d=\"M82.0708,-73.4551C82.0708,-65.3828 82.0708,-55.6764 82.0708,-46.6817\" fill=\"none\" stroke=\"#000000\"/>\n",
       "<polygon fill=\"#000000\" points=\"85.5709,-46.5903 82.0708,-36.5904 78.5709,-46.5904 85.5709,-46.5903\" stroke=\"#000000\"/>\n",
       "</g>\n",
       "<!-- 5243440152 -->\n",
       "<g class=\"node\" id=\"node4\">\n",
       "<title>5243440152</title>\n",
       "<polygon fill=\"none\" points=\"39.0708,-219.5 39.0708,-255.5 125.0708,-255.5 125.0708,-219.5 39.0708,-219.5\" stroke=\"#000000\"/>\n",
       "<text fill=\"#000000\" font-family=\"Times,serif\" font-size=\"14.00\" text-anchor=\"middle\" x=\"82.0708\" y=\"-233.3\">5243440152</text>\n",
       "</g>\n",
       "<!-- 5243440152&#45;&gt;5243439032 -->\n",
       "<g class=\"edge\" id=\"edge1\">\n",
       "<title>5243440152-&gt;5243439032</title>\n",
       "<path d=\"M82.0708,-219.4551C82.0708,-211.3828 82.0708,-201.6764 82.0708,-192.6817\" fill=\"none\" stroke=\"#000000\"/>\n",
       "<polygon fill=\"#000000\" points=\"85.5709,-192.5903 82.0708,-182.5904 78.5709,-192.5904 85.5709,-192.5903\" stroke=\"#000000\"/>\n",
       "</g>\n",
       "</g>\n",
       "</svg>"
      ],
      "text/plain": [
       "<IPython.core.display.SVG object>"
      ]
     },
     "execution_count": 44,
     "metadata": {},
     "output_type": "execute_result"
    }
   ],
   "source": [
    "SVG(model_to_dot(model).create(prog='dot', format='svg'))"
   ]
  },
  {
   "cell_type": "code",
   "execution_count": 45,
   "metadata": {
    "ExecuteTime": {
     "end_time": "2018-12-01T12:38:43.846609Z",
     "start_time": "2018-12-01T12:38:43.790756Z"
    },
    "collapsed": true
   },
   "outputs": [],
   "source": [
    "# Compile model\n",
    "model.compile(optimizer='adam', loss='binary_crossentropy', metrics=['accuracy'])"
   ]
  },
  {
   "cell_type": "code",
   "execution_count": 46,
   "metadata": {
    "ExecuteTime": {
     "end_time": "2018-12-01T12:38:43.860122Z",
     "start_time": "2018-12-01T12:38:43.849256Z"
    }
   },
   "outputs": [
    {
     "name": "stdout",
     "output_type": "stream",
     "text": [
      "_________________________________________________________________\n",
      "Layer (type)                 Output Shape              Param #   \n",
      "=================================================================\n",
      "embedding_5 (Embedding)      (None, None, 50)          1000000   \n",
      "_________________________________________________________________\n",
      "lstm_1 (LSTM)                (None, 32)                10624     \n",
      "_________________________________________________________________\n",
      "dense_5 (Dense)              (None, 6)                 198       \n",
      "=================================================================\n",
      "Total params: 1,010,822\n",
      "Trainable params: 1,010,822\n",
      "Non-trainable params: 0\n",
      "_________________________________________________________________\n"
     ]
    }
   ],
   "source": [
    "# Show model\n",
    "model.summary()"
   ]
  },
  {
   "cell_type": "code",
   "execution_count": 47,
   "metadata": {
    "ExecuteTime": {
     "end_time": "2018-12-01T13:18:35.520457Z",
     "start_time": "2018-12-01T12:38:43.863100Z"
    }
   },
   "outputs": [
    {
     "name": "stdout",
     "output_type": "stream",
     "text": [
      "Train on 111699 samples, validate on 47872 samples\n",
      "Epoch 1/5\n",
      "111699/111699 [==============================] - 480s 4ms/step - loss: 0.0692 - acc: 0.9769 - val_loss: 0.0509 - val_acc: 0.9817\n",
      "Epoch 2/5\n",
      "111699/111699 [==============================] - 521s 5ms/step - loss: 0.0470 - acc: 0.9826 - val_loss: 0.0484 - val_acc: 0.9822\n",
      "Epoch 3/5\n",
      "111699/111699 [==============================] - 463s 4ms/step - loss: 0.0413 - acc: 0.9842 - val_loss: 0.0474 - val_acc: 0.9827\n",
      "Epoch 4/5\n",
      "111699/111699 [==============================] - 464s 4ms/step - loss: 0.0367 - acc: 0.9857 - val_loss: 0.0479 - val_acc: 0.9825\n",
      "Epoch 5/5\n",
      "111699/111699 [==============================] - 463s 4ms/step - loss: 0.0330 - acc: 0.9871 - val_loss: 0.0502 - val_acc: 0.9816\n"
     ]
    }
   ],
   "source": [
    "# Fit model\n",
    "history = model.fit(\n",
    "    X_train, y_train, epochs=epochs, batch_size=batch_size, validation_data=(X_val, y_val))"
   ]
  },
  {
   "cell_type": "code",
   "execution_count": 48,
   "metadata": {
    "ExecuteTime": {
     "end_time": "2018-12-01T13:18:35.731512Z",
     "start_time": "2018-12-01T13:18:35.528662Z"
    },
    "collapsed": true
   },
   "outputs": [],
   "source": [
    "model.save_weights('../data/work/simple_lstm.h5')"
   ]
  },
  {
   "cell_type": "code",
   "execution_count": 49,
   "metadata": {
    "ExecuteTime": {
     "end_time": "2018-12-01T13:18:36.060032Z",
     "start_time": "2018-12-01T13:18:35.734047Z"
    }
   },
   "outputs": [
    {
     "data": {
      "image/png": "[encoded data removed]",
      "text/plain": [
       "<matplotlib.figure.Figure at 0x128dd3f28>"
      ]
     },
     "metadata": {},
     "output_type": "display_data"
    },
    {
     "data": {
      "image/png": "[encoded data removed]",
      "text/plain": [
       "<matplotlib.figure.Figure at 0x135c23358>"
      ]
     },
     "metadata": {},
     "output_type": "display_data"
    }
   ],
   "source": [
    "plot_history(history)"
   ]
  },
  {
   "cell_type": "markdown",
   "metadata": {},
   "source": [
    "# Stacked LSTM"
   ]
  },
  {
   "cell_type": "code",
   "execution_count": 50,
   "metadata": {
    "ExecuteTime": {
     "end_time": "2018-12-01T13:18:37.187125Z",
     "start_time": "2018-12-01T13:18:36.063015Z"
    },
    "collapsed": true
   },
   "outputs": [],
   "source": [
    "# Define model\n",
    "model = Sequential()\n",
    "model.add(\n",
    "    Embedding(\n",
    "        max_features, embedding_matrix.shape[1], weights=[embedding_matrix]))\n",
    "model.add(LSTM(32, return_sequences=True))\n",
    "model.add(LSTM(32, return_sequences=True))\n",
    "model.add(LSTM(32))\n",
    "model.add(Dense(\n",
    "    6, activation='sigmoid'))  \n",
    "# 6 because we want to predict 6 classes"
   ]
  },
  {
   "cell_type": "code",
   "execution_count": 51,
   "metadata": {
    "ExecuteTime": {
     "end_time": "2018-12-01T13:18:37.240593Z",
     "start_time": "2018-12-01T13:18:37.189621Z"
    },
    "collapsed": true
   },
   "outputs": [],
   "source": [
    "# Compile model\n",
    "model.compile(\n",
    "    optimizer='adam', loss='binary_crossentropy', metrics=['accuracy'])"
   ]
  },
  {
   "cell_type": "code",
   "execution_count": 52,
   "metadata": {
    "ExecuteTime": {
     "end_time": "2018-12-01T13:18:37.364367Z",
     "start_time": "2018-12-01T13:18:37.243152Z"
    }
   },
   "outputs": [
    {
     "data": {
      "image/svg+xml": [
       "<svg height=\"410pt\" viewBox=\"0.00 0.00 172.14 410.00\" width=\"172pt\" xmlns=\"http://www.w3.org/2000/svg\" xmlns:xlink=\"http://www.w3.org/1999/xlink\">\n",
       "<g class=\"graph\" id=\"graph0\" transform=\"scale(1 1) rotate(0) translate(4 406)\">\n",
       "<title>G</title>\n",
       "<polygon fill=\"#ffffff\" points=\"-4,4 -4,-406 168.1416,-406 168.1416,4 -4,4\" stroke=\"transparent\"/>\n",
       "<!-- 5196980008 -->\n",
       "<g class=\"node\" id=\"node1\">\n",
       "<title>5196980008</title>\n",
       "<polygon fill=\"none\" points=\"0,-292.5 0,-328.5 164.1416,-328.5 164.1416,-292.5 0,-292.5\" stroke=\"#000000\"/>\n",
       "<text fill=\"#000000\" font-family=\"Times,serif\" font-size=\"14.00\" text-anchor=\"middle\" x=\"82.0708\" y=\"-306.3\">embedding_6: Embedding</text>\n",
       "</g>\n",
       "<!-- 5211074456 -->\n",
       "<g class=\"node\" id=\"node2\">\n",
       "<title>5211074456</title>\n",
       "<polygon fill=\"none\" points=\"32.6484,-219.5 32.6484,-255.5 131.4932,-255.5 131.4932,-219.5 32.6484,-219.5\" stroke=\"#000000\"/>\n",
       "<text fill=\"#000000\" font-family=\"Times,serif\" font-size=\"14.00\" text-anchor=\"middle\" x=\"82.0708\" y=\"-233.3\">lstm_2: LSTM</text>\n",
       "</g>\n",
       "<!-- 5196980008&#45;&gt;5211074456 -->\n",
       "<g class=\"edge\" id=\"edge2\">\n",
       "<title>5196980008-&gt;5211074456</title>\n",
       "<path d=\"M82.0708,-292.4551C82.0708,-284.3828 82.0708,-274.6764 82.0708,-265.6817\" fill=\"none\" stroke=\"#000000\"/>\n",
       "<polygon fill=\"#000000\" points=\"85.5709,-265.5903 82.0708,-255.5904 78.5709,-265.5904 85.5709,-265.5903\" stroke=\"#000000\"/>\n",
       "</g>\n",
       "<!-- 5197030848 -->\n",
       "<g class=\"node\" id=\"node3\">\n",
       "<title>5197030848</title>\n",
       "<polygon fill=\"none\" points=\"32.6484,-146.5 32.6484,-182.5 131.4932,-182.5 131.4932,-146.5 32.6484,-146.5\" stroke=\"#000000\"/>\n",
       "<text fill=\"#000000\" font-family=\"Times,serif\" font-size=\"14.00\" text-anchor=\"middle\" x=\"82.0708\" y=\"-160.3\">lstm_3: LSTM</text>\n",
       "</g>\n",
       "<!-- 5211074456&#45;&gt;5197030848 -->\n",
       "<g class=\"edge\" id=\"edge3\">\n",
       "<title>5211074456-&gt;5197030848</title>\n",
       "<path d=\"M82.0708,-219.4551C82.0708,-211.3828 82.0708,-201.6764 82.0708,-192.6817\" fill=\"none\" stroke=\"#000000\"/>\n",
       "<polygon fill=\"#000000\" points=\"85.5709,-192.5903 82.0708,-182.5904 78.5709,-192.5904 85.5709,-192.5903\" stroke=\"#000000\"/>\n",
       "</g>\n",
       "<!-- 5197032304 -->\n",
       "<g class=\"node\" id=\"node4\">\n",
       "<title>5197032304</title>\n",
       "<polygon fill=\"none\" points=\"32.6484,-73.5 32.6484,-109.5 131.4932,-109.5 131.4932,-73.5 32.6484,-73.5\" stroke=\"#000000\"/>\n",
       "<text fill=\"#000000\" font-family=\"Times,serif\" font-size=\"14.00\" text-anchor=\"middle\" x=\"82.0708\" y=\"-87.3\">lstm_4: LSTM</text>\n",
       "</g>\n",
       "<!-- 5197030848&#45;&gt;5197032304 -->\n",
       "<g class=\"edge\" id=\"edge4\">\n",
       "<title>5197030848-&gt;5197032304</title>\n",
       "<path d=\"M82.0708,-146.4551C82.0708,-138.3828 82.0708,-128.6764 82.0708,-119.6817\" fill=\"none\" stroke=\"#000000\"/>\n",
       "<polygon fill=\"#000000\" points=\"85.5709,-119.5903 82.0708,-109.5904 78.5709,-119.5904 85.5709,-119.5903\" stroke=\"#000000\"/>\n",
       "</g>\n",
       "<!-- 5265796400 -->\n",
       "<g class=\"node\" id=\"node5\">\n",
       "<title>5265796400</title>\n",
       "<polygon fill=\"none\" points=\"29.9448,-.5 29.9448,-36.5 134.1968,-36.5 134.1968,-.5 29.9448,-.5\" stroke=\"#000000\"/>\n",
       "<text fill=\"#000000\" font-family=\"Times,serif\" font-size=\"14.00\" text-anchor=\"middle\" x=\"82.0708\" y=\"-14.3\">dense_6: Dense</text>\n",
       "</g>\n",
       "<!-- 5197032304&#45;&gt;5265796400 -->\n",
       "<g class=\"edge\" id=\"edge5\">\n",
       "<title>5197032304-&gt;5265796400</title>\n",
       "<path d=\"M82.0708,-73.4551C82.0708,-65.3828 82.0708,-55.6764 82.0708,-46.6817\" fill=\"none\" stroke=\"#000000\"/>\n",
       "<polygon fill=\"#000000\" points=\"85.5709,-46.5903 82.0708,-36.5904 78.5709,-46.5904 85.5709,-46.5903\" stroke=\"#000000\"/>\n",
       "</g>\n",
       "<!-- 5211073504 -->\n",
       "<g class=\"node\" id=\"node6\">\n",
       "<title>5211073504</title>\n",
       "<polygon fill=\"none\" points=\"39.3271,-365.5 39.3271,-401.5 124.8145,-401.5 124.8145,-365.5 39.3271,-365.5\" stroke=\"#000000\"/>\n",
       "<text fill=\"#000000\" font-family=\"Times,serif\" font-size=\"14.00\" text-anchor=\"middle\" x=\"82.0708\" y=\"-379.3\">5211073504</text>\n",
       "</g>\n",
       "<!-- 5211073504&#45;&gt;5196980008 -->\n",
       "<g class=\"edge\" id=\"edge1\">\n",
       "<title>5211073504-&gt;5196980008</title>\n",
       "<path d=\"M82.0708,-365.4551C82.0708,-357.3828 82.0708,-347.6764 82.0708,-338.6817\" fill=\"none\" stroke=\"#000000\"/>\n",
       "<polygon fill=\"#000000\" points=\"85.5709,-338.5903 82.0708,-328.5904 78.5709,-338.5904 85.5709,-338.5903\" stroke=\"#000000\"/>\n",
       "</g>\n",
       "</g>\n",
       "</svg>"
      ],
      "text/plain": [
       "<IPython.core.display.SVG object>"
      ]
     },
     "execution_count": 52,
     "metadata": {},
     "output_type": "execute_result"
    }
   ],
   "source": [
    "# Show model\n",
    "SVG(model_to_dot(model).create(prog='dot', format='svg'))"
   ]
  },
  {
   "cell_type": "code",
   "execution_count": 53,
   "metadata": {
    "ExecuteTime": {
     "end_time": "2018-12-01T13:18:37.381653Z",
     "start_time": "2018-12-01T13:18:37.368183Z"
    }
   },
   "outputs": [
    {
     "name": "stdout",
     "output_type": "stream",
     "text": [
      "_________________________________________________________________\n",
      "Layer (type)                 Output Shape              Param #   \n",
      "=================================================================\n",
      "embedding_6 (Embedding)      (None, None, 50)          1000000   \n",
      "_________________________________________________________________\n",
      "lstm_2 (LSTM)                (None, None, 32)          10624     \n",
      "_________________________________________________________________\n",
      "lstm_3 (LSTM)                (None, None, 32)          8320      \n",
      "_________________________________________________________________\n",
      "lstm_4 (LSTM)                (None, 32)                8320      \n",
      "_________________________________________________________________\n",
      "dense_6 (Dense)              (None, 6)                 198       \n",
      "=================================================================\n",
      "Total params: 1,027,462\n",
      "Trainable params: 1,027,462\n",
      "Non-trainable params: 0\n",
      "_________________________________________________________________\n"
     ]
    }
   ],
   "source": [
    "# Show model\n",
    "model.summary()"
   ]
  },
  {
   "cell_type": "code",
   "execution_count": 54,
   "metadata": {
    "ExecuteTime": {
     "end_time": "2018-12-01T15:09:33.212671Z",
     "start_time": "2018-12-01T13:18:37.385535Z"
    }
   },
   "outputs": [
    {
     "name": "stdout",
     "output_type": "stream",
     "text": [
      "Train on 111699 samples, validate on 47872 samples\n",
      "Epoch 1/5\n",
      "111699/111699 [==============================] - 1231s 11ms/step - loss: 0.0764 - acc: 0.9757 - val_loss: 0.0528 - val_acc: 0.9814\n",
      "Epoch 2/5\n",
      "111699/111699 [==============================] - 1201s 11ms/step - loss: 0.0481 - acc: 0.9823 - val_loss: 0.0501 - val_acc: 0.9820\n",
      "Epoch 3/5\n",
      "111699/111699 [==============================] - 1360s 12ms/step - loss: 0.0428 - acc: 0.9837 - val_loss: 0.0485 - val_acc: 0.9824\n",
      "Epoch 4/5\n",
      "111699/111699 [==============================] - 1406s 13ms/step - loss: 0.0387 - acc: 0.9849 - val_loss: 0.0507 - val_acc: 0.9822\n",
      "Epoch 5/5\n",
      "111699/111699 [==============================] - 1454s 13ms/step - loss: 0.0349 - acc: 0.9862 - val_loss: 0.0499 - val_acc: 0.9823\n"
     ]
    }
   ],
   "source": [
    "# Fit model\n",
    "history = model.fit(\n",
    "    X_train,\n",
    "    y_train,\n",
    "    epochs=epochs,\n",
    "    batch_size=batch_size,\n",
    "    validation_data=(X_val, y_val))"
   ]
  },
  {
   "cell_type": "code",
   "execution_count": 55,
   "metadata": {
    "ExecuteTime": {
     "end_time": "2018-12-01T15:09:33.761466Z",
     "start_time": "2018-12-01T15:09:33.219534Z"
    },
    "collapsed": true
   },
   "outputs": [],
   "source": [
    "model.save_weights('../data/work/stacked_lstm.h5')"
   ]
  },
  {
   "cell_type": "code",
   "execution_count": 56,
   "metadata": {
    "ExecuteTime": {
     "end_time": "2018-12-01T15:09:34.095436Z",
     "start_time": "2018-12-01T15:09:33.764022Z"
    }
   },
   "outputs": [
    {
     "data": {
      "image/png": "[encoded data removed]",
      "text/plain": [
       "<matplotlib.figure.Figure at 0x131c80ef0>"
      ]
     },
     "metadata": {},
     "output_type": "display_data"
    },
    {
     "data": {
      "image/png": "[encoded data removed]",
      "text/plain": [
       "<matplotlib.figure.Figure at 0x13bc205f8>"
      ]
     },
     "metadata": {},
     "output_type": "display_data"
    }
   ],
   "source": [
    "plot_history(history)"
   ]
  },
  {
   "cell_type": "markdown",
   "metadata": {},
   "source": [
    "# Bi-LSTM"
   ]
  },
  {
   "cell_type": "code",
   "execution_count": 57,
   "metadata": {
    "ExecuteTime": {
     "end_time": "2018-12-01T15:09:35.620429Z",
     "start_time": "2018-12-01T15:09:34.098452Z"
    },
    "collapsed": true
   },
   "outputs": [],
   "source": [
    "# Define model\n",
    "model = Sequential()\n",
    "model.add(Embedding(max_features, embedding_matrix.shape[1], weights=[embedding_matrix]))\n",
    "model.add(Bidirectional(LSTM(32)))\n",
    "model.add(Dense(6, activation='sigmoid')) # 6 because we want to predict 6 classes"
   ]
  },
  {
   "cell_type": "code",
   "execution_count": 58,
   "metadata": {
    "ExecuteTime": {
     "end_time": "2018-12-01T15:09:35.752912Z",
     "start_time": "2018-12-01T15:09:35.623725Z"
    }
   },
   "outputs": [
    {
     "data": {
      "image/svg+xml": [
       "<svg height=\"264pt\" viewBox=\"0.00 0.00 283.33 264.00\" width=\"283pt\" xmlns=\"http://www.w3.org/2000/svg\" xmlns:xlink=\"http://www.w3.org/1999/xlink\">\n",
       "<g class=\"graph\" id=\"graph0\" transform=\"scale(1 1) rotate(0) translate(4 260)\">\n",
       "<title>G</title>\n",
       "<polygon fill=\"#ffffff\" points=\"-4,4 -4,-260 279.335,-260 279.335,4 -4,4\" stroke=\"transparent\"/>\n",
       "<!-- 5272048528 -->\n",
       "<g class=\"node\" id=\"node1\">\n",
       "<title>5272048528</title>\n",
       "<polygon fill=\"none\" points=\"55.5967,-146.5 55.5967,-182.5 219.7383,-182.5 219.7383,-146.5 55.5967,-146.5\" stroke=\"#000000\"/>\n",
       "<text fill=\"#000000\" font-family=\"Times,serif\" font-size=\"14.00\" text-anchor=\"middle\" x=\"137.6675\" y=\"-160.3\">embedding_7: Embedding</text>\n",
       "</g>\n",
       "<!-- 5136068736 -->\n",
       "<g class=\"node\" id=\"node2\">\n",
       "<title>5136068736</title>\n",
       "<polygon fill=\"none\" points=\"0,-73.5 0,-109.5 275.335,-109.5 275.335,-73.5 0,-73.5\" stroke=\"#000000\"/>\n",
       "<text fill=\"#000000\" font-family=\"Times,serif\" font-size=\"14.00\" text-anchor=\"middle\" x=\"137.6675\" y=\"-87.3\">bidirectional_1(lstm_5): Bidirectional(LSTM)</text>\n",
       "</g>\n",
       "<!-- 5272048528&#45;&gt;5136068736 -->\n",
       "<g class=\"edge\" id=\"edge2\">\n",
       "<title>5272048528-&gt;5136068736</title>\n",
       "<path d=\"M137.6675,-146.4551C137.6675,-138.3828 137.6675,-128.6764 137.6675,-119.6817\" fill=\"none\" stroke=\"#000000\"/>\n",
       "<polygon fill=\"#000000\" points=\"141.1676,-119.5903 137.6675,-109.5904 134.1676,-119.5904 141.1676,-119.5903\" stroke=\"#000000\"/>\n",
       "</g>\n",
       "<!-- 5293394632 -->\n",
       "<g class=\"node\" id=\"node3\">\n",
       "<title>5293394632</title>\n",
       "<polygon fill=\"none\" points=\"85.5415,-.5 85.5415,-36.5 189.7935,-36.5 189.7935,-.5 85.5415,-.5\" stroke=\"#000000\"/>\n",
       "<text fill=\"#000000\" font-family=\"Times,serif\" font-size=\"14.00\" text-anchor=\"middle\" x=\"137.6675\" y=\"-14.3\">dense_7: Dense</text>\n",
       "</g>\n",
       "<!-- 5136068736&#45;&gt;5293394632 -->\n",
       "<g class=\"edge\" id=\"edge3\">\n",
       "<title>5136068736-&gt;5293394632</title>\n",
       "<path d=\"M137.6675,-73.4551C137.6675,-65.3828 137.6675,-55.6764 137.6675,-46.6817\" fill=\"none\" stroke=\"#000000\"/>\n",
       "<polygon fill=\"#000000\" points=\"141.1676,-46.5903 137.6675,-36.5904 134.1676,-46.5904 141.1676,-46.5903\" stroke=\"#000000\"/>\n",
       "</g>\n",
       "<!-- 5272270888 -->\n",
       "<g class=\"node\" id=\"node4\">\n",
       "<title>5272270888</title>\n",
       "<polygon fill=\"none\" points=\"94.6675,-219.5 94.6675,-255.5 180.6675,-255.5 180.6675,-219.5 94.6675,-219.5\" stroke=\"#000000\"/>\n",
       "<text fill=\"#000000\" font-family=\"Times,serif\" font-size=\"14.00\" text-anchor=\"middle\" x=\"137.6675\" y=\"-233.3\">5272270888</text>\n",
       "</g>\n",
       "<!-- 5272270888&#45;&gt;5272048528 -->\n",
       "<g class=\"edge\" id=\"edge1\">\n",
       "<title>5272270888-&gt;5272048528</title>\n",
       "<path d=\"M137.6675,-219.4551C137.6675,-211.3828 137.6675,-201.6764 137.6675,-192.6817\" fill=\"none\" stroke=\"#000000\"/>\n",
       "<polygon fill=\"#000000\" points=\"141.1676,-192.5903 137.6675,-182.5904 134.1676,-192.5904 141.1676,-192.5903\" stroke=\"#000000\"/>\n",
       "</g>\n",
       "</g>\n",
       "</svg>"
      ],
      "text/plain": [
       "<IPython.core.display.SVG object>"
      ]
     },
     "execution_count": 58,
     "metadata": {},
     "output_type": "execute_result"
    }
   ],
   "source": [
    "SVG(model_to_dot(model).create(prog='dot', format='svg'))"
   ]
  },
  {
   "cell_type": "code",
   "execution_count": 59,
   "metadata": {
    "ExecuteTime": {
     "end_time": "2018-12-01T15:09:35.836507Z",
     "start_time": "2018-12-01T15:09:35.757102Z"
    },
    "collapsed": true
   },
   "outputs": [],
   "source": [
    "# Compile model\n",
    "model.compile(optimizer='adam', loss='binary_crossentropy', metrics=['accuracy'])"
   ]
  },
  {
   "cell_type": "code",
   "execution_count": 60,
   "metadata": {
    "ExecuteTime": {
     "end_time": "2018-12-01T15:09:35.851055Z",
     "start_time": "2018-12-01T15:09:35.839132Z"
    }
   },
   "outputs": [
    {
     "name": "stdout",
     "output_type": "stream",
     "text": [
      "_________________________________________________________________\n",
      "Layer (type)                 Output Shape              Param #   \n",
      "=================================================================\n",
      "embedding_7 (Embedding)      (None, None, 50)          1000000   \n",
      "_________________________________________________________________\n",
      "bidirectional_1 (Bidirection (None, 64)                21248     \n",
      "_________________________________________________________________\n",
      "dense_7 (Dense)              (None, 6)                 390       \n",
      "=================================================================\n",
      "Total params: 1,021,638\n",
      "Trainable params: 1,021,638\n",
      "Non-trainable params: 0\n",
      "_________________________________________________________________\n"
     ]
    }
   ],
   "source": [
    "# Show model\n",
    "model.summary()"
   ]
  },
  {
   "cell_type": "code",
   "execution_count": 61,
   "metadata": {
    "ExecuteTime": {
     "end_time": "2018-12-01T15:57:45.204633Z",
     "start_time": "2018-12-01T15:09:35.854279Z"
    }
   },
   "outputs": [
    {
     "name": "stdout",
     "output_type": "stream",
     "text": [
      "Train on 111699 samples, validate on 47872 samples\n",
      "Epoch 1/5\n",
      "111699/111699 [==============================] - 624s 6ms/step - loss: 0.0665 - acc: 0.9773 - val_loss: 0.0503 - val_acc: 0.9819\n",
      "Epoch 2/5\n",
      "111699/111699 [==============================] - 579s 5ms/step - loss: 0.0462 - acc: 0.9826 - val_loss: 0.0476 - val_acc: 0.9825\n",
      "Epoch 3/5\n",
      "111699/111699 [==============================] - 523s 5ms/step - loss: 0.0404 - acc: 0.9843 - val_loss: 0.0470 - val_acc: 0.9826\n",
      "Epoch 4/5\n",
      "111699/111699 [==============================] - 602s 5ms/step - loss: 0.0362 - acc: 0.9858 - val_loss: 0.0474 - val_acc: 0.9825\n",
      "Epoch 5/5\n",
      "111699/111699 [==============================] - 558s 5ms/step - loss: 0.0323 - acc: 0.9871 - val_loss: 0.0494 - val_acc: 0.9823\n"
     ]
    }
   ],
   "source": [
    "# Fit model\n",
    "history = model.fit(\n",
    "    X_train, y_train, epochs=epochs, batch_size=batch_size, validation_data=(X_val, y_val))"
   ]
  },
  {
   "cell_type": "code",
   "execution_count": 62,
   "metadata": {
    "ExecuteTime": {
     "end_time": "2018-12-01T15:57:45.649737Z",
     "start_time": "2018-12-01T15:57:45.212669Z"
    },
    "collapsed": true
   },
   "outputs": [],
   "source": [
    "model.save_weights('../data/work/bidirectional_lstm.h5')"
   ]
  },
  {
   "cell_type": "code",
   "execution_count": 63,
   "metadata": {
    "ExecuteTime": {
     "end_time": "2018-12-01T15:57:46.039557Z",
     "start_time": "2018-12-01T15:57:45.652326Z"
    }
   },
   "outputs": [
    {
     "data": {
      "image/png": "[encoded data removed]",
      "text/plain": [
       "<matplotlib.figure.Figure at 0x13bc05748>"
      ]
     },
     "metadata": {},
     "output_type": "display_data"
    },
    {
     "data": {
      "image/png": "[encoded data removed]",
      "text/plain": [
       "<matplotlib.figure.Figure at 0x13e24d3c8>"
      ]
     },
     "metadata": {},
     "output_type": "display_data"
    }
   ],
   "source": [
    "plot_history(history)"
   ]
  },
  {
   "cell_type": "markdown",
   "metadata": {},
   "source": [
    "# Stacked Bi-LSTM"
   ]
  },
  {
   "cell_type": "code",
   "execution_count": 64,
   "metadata": {
    "ExecuteTime": {
     "end_time": "2018-12-01T15:57:48.600328Z",
     "start_time": "2018-12-01T15:57:46.044011Z"
    },
    "collapsed": true
   },
   "outputs": [],
   "source": [
    "# Define model\n",
    "model = Sequential()\n",
    "model.add(Embedding(max_features, embedding_matrix.shape[1], weights=[embedding_matrix]))\n",
    "model.add(Bidirectional(LSTM(32, return_sequences=True)))\n",
    "model.add(Bidirectional(LSTM(32, return_sequences=True)))\n",
    "model.add(Bidirectional(LSTM(32)))\n",
    "model.add(Dense(6, activation='sigmoid')) \n",
    "# 6 because we want to predict 6 classes"
   ]
  },
  {
   "cell_type": "code",
   "execution_count": 65,
   "metadata": {
    "ExecuteTime": {
     "end_time": "2018-12-01T15:57:48.725164Z",
     "start_time": "2018-12-01T15:57:48.603000Z"
    }
   },
   "outputs": [
    {
     "data": {
      "image/svg+xml": [
       "<svg height=\"450pt\" viewBox=\"0.00 0.00 452.98 450.00\" width=\"453pt\" xmlns=\"http://www.w3.org/2000/svg\" xmlns:xlink=\"http://www.w3.org/1999/xlink\">\n",
       "<g class=\"graph\" id=\"graph0\" transform=\"scale(1 1) rotate(0) translate(4 446)\">\n",
       "<title>G</title>\n",
       "<polygon fill=\"#ffffff\" points=\"-4,4 -4,-446 448.9766,-446 448.9766,4 -4,4\" stroke=\"transparent\"/>\n",
       "<!-- 5336053072 -->\n",
       "<g class=\"node\" id=\"node1\">\n",
       "<title>5336053072</title>\n",
       "<polygon fill=\"none\" points=\"55.5967,-324.5 55.5967,-368.5 389.3799,-368.5 389.3799,-324.5 55.5967,-324.5\" stroke=\"#000000\"/>\n",
       "<text fill=\"#000000\" font-family=\"Times,serif\" font-size=\"14.00\" text-anchor=\"middle\" x=\"137.6675\" y=\"-342.3\">embedding_8: Embedding</text>\n",
       "<polyline fill=\"none\" points=\"219.7383,-324.5 219.7383,-368.5 \" stroke=\"#000000\"/>\n",
       "<text fill=\"#000000\" font-family=\"Times,serif\" font-size=\"14.00\" text-anchor=\"middle\" x=\"247.5728\" y=\"-353.3\">input:</text>\n",
       "<polyline fill=\"none\" points=\"219.7383,-346.5 275.4072,-346.5 \" stroke=\"#000000\"/>\n",
       "<text fill=\"#000000\" font-family=\"Times,serif\" font-size=\"14.00\" text-anchor=\"middle\" x=\"247.5728\" y=\"-331.3\">output:</text>\n",
       "<polyline fill=\"none\" points=\"275.4072,-324.5 275.4072,-368.5 \" stroke=\"#000000\"/>\n",
       "<text fill=\"#000000\" font-family=\"Times,serif\" font-size=\"14.00\" text-anchor=\"middle\" x=\"332.3936\" y=\"-353.3\">(None, None)</text>\n",
       "<polyline fill=\"none\" points=\"275.4072,-346.5 389.3799,-346.5 \" stroke=\"#000000\"/>\n",
       "<text fill=\"#000000\" font-family=\"Times,serif\" font-size=\"14.00\" text-anchor=\"middle\" x=\"332.3936\" y=\"-331.3\">(None, None, 50)</text>\n",
       "</g>\n",
       "<!-- 5136981856 -->\n",
       "<g class=\"node\" id=\"node2\">\n",
       "<title>5136981856</title>\n",
       "<polygon fill=\"none\" points=\"0,-243.5 0,-287.5 444.9766,-287.5 444.9766,-243.5 0,-243.5\" stroke=\"#000000\"/>\n",
       "<text fill=\"#000000\" font-family=\"Times,serif\" font-size=\"14.00\" text-anchor=\"middle\" x=\"137.6675\" y=\"-261.3\">bidirectional_2(lstm_6): Bidirectional(LSTM)</text>\n",
       "<polyline fill=\"none\" points=\"275.335,-243.5 275.335,-287.5 \" stroke=\"#000000\"/>\n",
       "<text fill=\"#000000\" font-family=\"Times,serif\" font-size=\"14.00\" text-anchor=\"middle\" x=\"303.1694\" y=\"-272.3\">input:</text>\n",
       "<polyline fill=\"none\" points=\"275.335,-265.5 331.0039,-265.5 \" stroke=\"#000000\"/>\n",
       "<text fill=\"#000000\" font-family=\"Times,serif\" font-size=\"14.00\" text-anchor=\"middle\" x=\"303.1694\" y=\"-250.3\">output:</text>\n",
       "<polyline fill=\"none\" points=\"331.0039,-243.5 331.0039,-287.5 \" stroke=\"#000000\"/>\n",
       "<text fill=\"#000000\" font-family=\"Times,serif\" font-size=\"14.00\" text-anchor=\"middle\" x=\"387.9902\" y=\"-272.3\">(None, None, 50)</text>\n",
       "<polyline fill=\"none\" points=\"331.0039,-265.5 444.9766,-265.5 \" stroke=\"#000000\"/>\n",
       "<text fill=\"#000000\" font-family=\"Times,serif\" font-size=\"14.00\" text-anchor=\"middle\" x=\"387.9902\" y=\"-250.3\">(None, None, 64)</text>\n",
       "</g>\n",
       "<!-- 5336053072&#45;&gt;5136981856 -->\n",
       "<g class=\"edge\" id=\"edge2\">\n",
       "<title>5336053072-&gt;5136981856</title>\n",
       "<path d=\"M222.4883,-324.3664C222.4883,-316.1516 222.4883,-306.6579 222.4883,-297.7252\" fill=\"none\" stroke=\"#000000\"/>\n",
       "<polygon fill=\"#000000\" points=\"225.9884,-297.6068 222.4883,-287.6068 218.9884,-297.6069 225.9884,-297.6068\" stroke=\"#000000\"/>\n",
       "</g>\n",
       "<!-- 5357051240 -->\n",
       "<g class=\"node\" id=\"node3\">\n",
       "<title>5357051240</title>\n",
       "<polygon fill=\"none\" points=\"0,-162.5 0,-206.5 444.9766,-206.5 444.9766,-162.5 0,-162.5\" stroke=\"#000000\"/>\n",
       "<text fill=\"#000000\" font-family=\"Times,serif\" font-size=\"14.00\" text-anchor=\"middle\" x=\"137.6675\" y=\"-180.3\">bidirectional_3(lstm_7): Bidirectional(LSTM)</text>\n",
       "<polyline fill=\"none\" points=\"275.335,-162.5 275.335,-206.5 \" stroke=\"#000000\"/>\n",
       "<text fill=\"#000000\" font-family=\"Times,serif\" font-size=\"14.00\" text-anchor=\"middle\" x=\"303.1694\" y=\"-191.3\">input:</text>\n",
       "<polyline fill=\"none\" points=\"275.335,-184.5 331.0039,-184.5 \" stroke=\"#000000\"/>\n",
       "<text fill=\"#000000\" font-family=\"Times,serif\" font-size=\"14.00\" text-anchor=\"middle\" x=\"303.1694\" y=\"-169.3\">output:</text>\n",
       "<polyline fill=\"none\" points=\"331.0039,-162.5 331.0039,-206.5 \" stroke=\"#000000\"/>\n",
       "<text fill=\"#000000\" font-family=\"Times,serif\" font-size=\"14.00\" text-anchor=\"middle\" x=\"387.9902\" y=\"-191.3\">(None, None, 64)</text>\n",
       "<polyline fill=\"none\" points=\"331.0039,-184.5 444.9766,-184.5 \" stroke=\"#000000\"/>\n",
       "<text fill=\"#000000\" font-family=\"Times,serif\" font-size=\"14.00\" text-anchor=\"middle\" x=\"387.9902\" y=\"-169.3\">(None, None, 64)</text>\n",
       "</g>\n",
       "<!-- 5136981856&#45;&gt;5357051240 -->\n",
       "<g class=\"edge\" id=\"edge3\">\n",
       "<title>5136981856-&gt;5357051240</title>\n",
       "<path d=\"M222.4883,-243.3664C222.4883,-235.1516 222.4883,-225.6579 222.4883,-216.7252\" fill=\"none\" stroke=\"#000000\"/>\n",
       "<polygon fill=\"#000000\" points=\"225.9884,-216.6068 222.4883,-206.6068 218.9884,-216.6069 225.9884,-216.6068\" stroke=\"#000000\"/>\n",
       "</g>\n",
       "<!-- 5361177152 -->\n",
       "<g class=\"node\" id=\"node4\">\n",
       "<title>5361177152</title>\n",
       "<polygon fill=\"none\" points=\"0,-81.5 0,-125.5 444.9766,-125.5 444.9766,-81.5 0,-81.5\" stroke=\"#000000\"/>\n",
       "<text fill=\"#000000\" font-family=\"Times,serif\" font-size=\"14.00\" text-anchor=\"middle\" x=\"137.6675\" y=\"-99.3\">bidirectional_4(lstm_8): Bidirectional(LSTM)</text>\n",
       "<polyline fill=\"none\" points=\"275.335,-81.5 275.335,-125.5 \" stroke=\"#000000\"/>\n",
       "<text fill=\"#000000\" font-family=\"Times,serif\" font-size=\"14.00\" text-anchor=\"middle\" x=\"303.1694\" y=\"-110.3\">input:</text>\n",
       "<polyline fill=\"none\" points=\"275.335,-103.5 331.0039,-103.5 \" stroke=\"#000000\"/>\n",
       "<text fill=\"#000000\" font-family=\"Times,serif\" font-size=\"14.00\" text-anchor=\"middle\" x=\"303.1694\" y=\"-88.3\">output:</text>\n",
       "<polyline fill=\"none\" points=\"331.0039,-81.5 331.0039,-125.5 \" stroke=\"#000000\"/>\n",
       "<text fill=\"#000000\" font-family=\"Times,serif\" font-size=\"14.00\" text-anchor=\"middle\" x=\"387.9902\" y=\"-110.3\">(None, None, 64)</text>\n",
       "<polyline fill=\"none\" points=\"331.0039,-103.5 444.9766,-103.5 \" stroke=\"#000000\"/>\n",
       "<text fill=\"#000000\" font-family=\"Times,serif\" font-size=\"14.00\" text-anchor=\"middle\" x=\"387.8281\" y=\"-88.3\">(None, 64)</text>\n",
       "</g>\n",
       "<!-- 5357051240&#45;&gt;5361177152 -->\n",
       "<g class=\"edge\" id=\"edge4\">\n",
       "<title>5357051240-&gt;5361177152</title>\n",
       "<path d=\"M222.4883,-162.3664C222.4883,-154.1516 222.4883,-144.6579 222.4883,-135.7252\" fill=\"none\" stroke=\"#000000\"/>\n",
       "<polygon fill=\"#000000\" points=\"225.9884,-135.6068 222.4883,-125.6068 218.9884,-135.6069 225.9884,-135.6068\" stroke=\"#000000\"/>\n",
       "</g>\n",
       "<!-- 5357984064 -->\n",
       "<g class=\"node\" id=\"node5\">\n",
       "<title>5357984064</title>\n",
       "<polygon fill=\"none\" points=\"104.2036,-.5 104.2036,-44.5 340.7729,-44.5 340.7729,-.5 104.2036,-.5\" stroke=\"#000000\"/>\n",
       "<text fill=\"#000000\" font-family=\"Times,serif\" font-size=\"14.00\" text-anchor=\"middle\" x=\"156.3296\" y=\"-18.3\">dense_8: Dense</text>\n",
       "<polyline fill=\"none\" points=\"208.4556,-.5 208.4556,-44.5 \" stroke=\"#000000\"/>\n",
       "<text fill=\"#000000\" font-family=\"Times,serif\" font-size=\"14.00\" text-anchor=\"middle\" x=\"236.29\" y=\"-29.3\">input:</text>\n",
       "<polyline fill=\"none\" points=\"208.4556,-22.5 264.1245,-22.5 \" stroke=\"#000000\"/>\n",
       "<text fill=\"#000000\" font-family=\"Times,serif\" font-size=\"14.00\" text-anchor=\"middle\" x=\"236.29\" y=\"-7.3\">output:</text>\n",
       "<polyline fill=\"none\" points=\"264.1245,-.5 264.1245,-44.5 \" stroke=\"#000000\"/>\n",
       "<text fill=\"#000000\" font-family=\"Times,serif\" font-size=\"14.00\" text-anchor=\"middle\" x=\"302.4487\" y=\"-29.3\">(None, 64)</text>\n",
       "<polyline fill=\"none\" points=\"264.1245,-22.5 340.7729,-22.5 \" stroke=\"#000000\"/>\n",
       "<text fill=\"#000000\" font-family=\"Times,serif\" font-size=\"14.00\" text-anchor=\"middle\" x=\"302.4487\" y=\"-7.3\">(None, 6)</text>\n",
       "</g>\n",
       "<!-- 5361177152&#45;&gt;5357984064 -->\n",
       "<g class=\"edge\" id=\"edge5\">\n",
       "<title>5361177152-&gt;5357984064</title>\n",
       "<path d=\"M222.4883,-81.3664C222.4883,-73.1516 222.4883,-63.6579 222.4883,-54.7252\" fill=\"none\" stroke=\"#000000\"/>\n",
       "<polygon fill=\"#000000\" points=\"225.9884,-54.6068 222.4883,-44.6068 218.9884,-54.6069 225.9884,-54.6068\" stroke=\"#000000\"/>\n",
       "</g>\n",
       "<!-- 5336054696 -->\n",
       "<g class=\"node\" id=\"node6\">\n",
       "<title>5336054696</title>\n",
       "<polygon fill=\"none\" points=\"179.4883,-405.5 179.4883,-441.5 265.4883,-441.5 265.4883,-405.5 179.4883,-405.5\" stroke=\"#000000\"/>\n",
       "<text fill=\"#000000\" font-family=\"Times,serif\" font-size=\"14.00\" text-anchor=\"middle\" x=\"222.4883\" y=\"-419.3\">5336054696</text>\n",
       "</g>\n",
       "<!-- 5336054696&#45;&gt;5336053072 -->\n",
       "<g class=\"edge\" id=\"edge1\">\n",
       "<title>5336054696-&gt;5336053072</title>\n",
       "<path d=\"M222.4883,-405.2521C222.4883,-397.3888 222.4883,-387.9498 222.4883,-378.9612\" fill=\"none\" stroke=\"#000000\"/>\n",
       "<polygon fill=\"#000000\" points=\"225.9884,-378.7376 222.4883,-368.7377 218.9884,-378.7377 225.9884,-378.7376\" stroke=\"#000000\"/>\n",
       "</g>\n",
       "</g>\n",
       "</svg>"
      ],
      "text/plain": [
       "<IPython.core.display.SVG object>"
      ]
     },
     "execution_count": 65,
     "metadata": {},
     "output_type": "execute_result"
    }
   ],
   "source": [
    "SVG(model_to_dot(model, show_shapes=True).create(prog='dot', format='svg'))"
   ]
  },
  {
   "cell_type": "code",
   "execution_count": 66,
   "metadata": {
    "ExecuteTime": {
     "end_time": "2018-12-01T15:57:48.791984Z",
     "start_time": "2018-12-01T15:57:48.730098Z"
    },
    "collapsed": true
   },
   "outputs": [],
   "source": [
    "# Compile model\n",
    "model.compile(optimizer='adam', loss='binary_crossentropy', metrics=['accuracy'])"
   ]
  },
  {
   "cell_type": "code",
   "execution_count": 67,
   "metadata": {
    "ExecuteTime": {
     "end_time": "2018-12-01T15:57:48.807984Z",
     "start_time": "2018-12-01T15:57:48.795026Z"
    }
   },
   "outputs": [
    {
     "name": "stdout",
     "output_type": "stream",
     "text": [
      "_________________________________________________________________\n",
      "Layer (type)                 Output Shape              Param #   \n",
      "=================================================================\n",
      "embedding_8 (Embedding)      (None, None, 50)          1000000   \n",
      "_________________________________________________________________\n",
      "bidirectional_2 (Bidirection (None, None, 64)          21248     \n",
      "_________________________________________________________________\n",
      "bidirectional_3 (Bidirection (None, None, 64)          24832     \n",
      "_________________________________________________________________\n",
      "bidirectional_4 (Bidirection (None, 64)                24832     \n",
      "_________________________________________________________________\n",
      "dense_8 (Dense)              (None, 6)                 390       \n",
      "=================================================================\n",
      "Total params: 1,071,302\n",
      "Trainable params: 1,071,302\n",
      "Non-trainable params: 0\n",
      "_________________________________________________________________\n"
     ]
    }
   ],
   "source": [
    "# Show model\n",
    "model.summary()"
   ]
  },
  {
   "cell_type": "code",
   "execution_count": 68,
   "metadata": {
    "ExecuteTime": {
     "end_time": "2018-12-01T17:57:45.687002Z",
     "start_time": "2018-12-01T15:57:48.811287Z"
    }
   },
   "outputs": [
    {
     "name": "stdout",
     "output_type": "stream",
     "text": [
      "Train on 111699 samples, validate on 47872 samples\n",
      "Epoch 1/5\n",
      "111699/111699 [==============================] - 1645s 15ms/step - loss: 0.0662 - acc: 0.9773 - val_loss: 0.0509 - val_acc: 0.9816\n",
      "Epoch 2/5\n",
      "111699/111699 [==============================] - 1419s 13ms/step - loss: 0.0481 - acc: 0.9821 - val_loss: 0.0479 - val_acc: 0.9825\n",
      "Epoch 3/5\n",
      "111699/111699 [==============================] - 1363s 12ms/step - loss: 0.0434 - acc: 0.9834 - val_loss: 0.0487 - val_acc: 0.9820\n",
      "Epoch 4/5\n",
      "111699/111699 [==============================] - 1316s 12ms/step - loss: 0.0391 - acc: 0.9845 - val_loss: 0.0480 - val_acc: 0.9827\n",
      "Epoch 5/5\n",
      "111699/111699 [==============================] - 1450s 13ms/step - loss: 0.0355 - acc: 0.9858 - val_loss: 0.0490 - val_acc: 0.9824\n"
     ]
    }
   ],
   "source": [
    "# Fit model\n",
    "history = model.fit(\n",
    "    X_train, y_train, epochs=epochs, batch_size=batch_size, validation_data=(X_val, y_val))"
   ]
  },
  {
   "cell_type": "code",
   "execution_count": 69,
   "metadata": {
    "ExecuteTime": {
     "end_time": "2018-12-01T17:57:46.942511Z",
     "start_time": "2018-12-01T17:57:45.697663Z"
    },
    "collapsed": true
   },
   "outputs": [],
   "source": [
    "model.save_weights('../data/work/stacked_bidirectional_lstm.h5')"
   ]
  },
  {
   "cell_type": "code",
   "execution_count": 70,
   "metadata": {
    "ExecuteTime": {
     "end_time": "2018-12-01T17:57:47.353367Z",
     "start_time": "2018-12-01T17:57:46.945394Z"
    }
   },
   "outputs": [
    {
     "data": {
      "image/png": "[encoded data removed]",
      "text/plain": [
       "<matplotlib.figure.Figure at 0x1369ce3c8>"
      ]
     },
     "metadata": {},
     "output_type": "display_data"
    },
    {
     "data": {
      "image/png": "[encoded data removed]",
      "text/plain": [
       "<matplotlib.figure.Figure at 0x14294fb38>"
      ]
     },
     "metadata": {},
     "output_type": "display_data"
    }
   ],
   "source": [
    "plot_history(history)"
   ]
  },
  {
   "cell_type": "markdown",
   "metadata": {},
   "source": [
    "# LSTM, Pooling and regularization "
   ]
  },
  {
   "cell_type": "code",
   "execution_count": 71,
   "metadata": {
    "ExecuteTime": {
     "end_time": "2018-12-01T17:57:51.570648Z",
     "start_time": "2018-12-01T17:57:47.356690Z"
    },
    "collapsed": true
   },
   "outputs": [],
   "source": [
    "# Define model\n",
    "model = Sequential()\n",
    "model.add(\n",
    "    Embedding(\n",
    "        max_features, embedding_matrix.shape[1], weights=[embedding_matrix]))\n",
    "model.add(\n",
    "    Bidirectional(\n",
    "        LSTM(64, return_sequences=True, dropout=0.2, recurrent_dropout=0.2)))\n",
    "model.add(GlobalMaxPool1D())\n",
    "model.add(Dense(64, activation=\"relu\"))\n",
    "model.add(Dense(6, activation='sigmoid'))"
   ]
  },
  {
   "cell_type": "code",
   "execution_count": 72,
   "metadata": {
    "ExecuteTime": {
     "end_time": "2018-12-01T17:57:51.703477Z",
     "start_time": "2018-12-01T17:57:51.573498Z"
    }
   },
   "outputs": [
    {
     "data": {
      "image/svg+xml": [
       "<svg height=\"450pt\" viewBox=\"0.00 0.00 476.35 450.00\" width=\"476pt\" xmlns=\"http://www.w3.org/2000/svg\" xmlns:xlink=\"http://www.w3.org/1999/xlink\">\n",
       "<g class=\"graph\" id=\"graph0\" transform=\"scale(1 1) rotate(0) translate(4 446)\">\n",
       "<title>G</title>\n",
       "<polygon fill=\"#ffffff\" points=\"-4,4 -4,-446 472.3486,-446 472.3486,4 -4,4\" stroke=\"transparent\"/>\n",
       "<!-- 5336067096 -->\n",
       "<g class=\"node\" id=\"node1\">\n",
       "<title>5336067096</title>\n",
       "<polygon fill=\"none\" points=\"67.2827,-324.5 67.2827,-368.5 401.0659,-368.5 401.0659,-324.5 67.2827,-324.5\" stroke=\"#000000\"/>\n",
       "<text fill=\"#000000\" font-family=\"Times,serif\" font-size=\"14.00\" text-anchor=\"middle\" x=\"149.3535\" y=\"-342.3\">embedding_9: Embedding</text>\n",
       "<polyline fill=\"none\" points=\"231.4243,-324.5 231.4243,-368.5 \" stroke=\"#000000\"/>\n",
       "<text fill=\"#000000\" font-family=\"Times,serif\" font-size=\"14.00\" text-anchor=\"middle\" x=\"259.2588\" y=\"-353.3\">input:</text>\n",
       "<polyline fill=\"none\" points=\"231.4243,-346.5 287.0933,-346.5 \" stroke=\"#000000\"/>\n",
       "<text fill=\"#000000\" font-family=\"Times,serif\" font-size=\"14.00\" text-anchor=\"middle\" x=\"259.2588\" y=\"-331.3\">output:</text>\n",
       "<polyline fill=\"none\" points=\"287.0933,-324.5 287.0933,-368.5 \" stroke=\"#000000\"/>\n",
       "<text fill=\"#000000\" font-family=\"Times,serif\" font-size=\"14.00\" text-anchor=\"middle\" x=\"344.0796\" y=\"-353.3\">(None, None)</text>\n",
       "<polyline fill=\"none\" points=\"287.0933,-346.5 401.0659,-346.5 \" stroke=\"#000000\"/>\n",
       "<text fill=\"#000000\" font-family=\"Times,serif\" font-size=\"14.00\" text-anchor=\"middle\" x=\"344.0796\" y=\"-331.3\">(None, None, 50)</text>\n",
       "</g>\n",
       "<!-- 5430519568 -->\n",
       "<g class=\"node\" id=\"node2\">\n",
       "<title>5430519568</title>\n",
       "<polygon fill=\"none\" points=\"8.186,-243.5 8.186,-287.5 460.1626,-287.5 460.1626,-243.5 8.186,-243.5\" stroke=\"#000000\"/>\n",
       "<text fill=\"#000000\" font-family=\"Times,serif\" font-size=\"14.00\" text-anchor=\"middle\" x=\"145.8535\" y=\"-261.3\">bidirectional_5(lstm_9): Bidirectional(LSTM)</text>\n",
       "<polyline fill=\"none\" points=\"283.521,-243.5 283.521,-287.5 \" stroke=\"#000000\"/>\n",
       "<text fill=\"#000000\" font-family=\"Times,serif\" font-size=\"14.00\" text-anchor=\"middle\" x=\"311.3555\" y=\"-272.3\">input:</text>\n",
       "<polyline fill=\"none\" points=\"283.521,-265.5 339.1899,-265.5 \" stroke=\"#000000\"/>\n",
       "<text fill=\"#000000\" font-family=\"Times,serif\" font-size=\"14.00\" text-anchor=\"middle\" x=\"311.3555\" y=\"-250.3\">output:</text>\n",
       "<polyline fill=\"none\" points=\"339.1899,-243.5 339.1899,-287.5 \" stroke=\"#000000\"/>\n",
       "<text fill=\"#000000\" font-family=\"Times,serif\" font-size=\"14.00\" text-anchor=\"middle\" x=\"399.6763\" y=\"-272.3\">(None, None, 50)</text>\n",
       "<polyline fill=\"none\" points=\"339.1899,-265.5 460.1626,-265.5 \" stroke=\"#000000\"/>\n",
       "<text fill=\"#000000\" font-family=\"Times,serif\" font-size=\"14.00\" text-anchor=\"middle\" x=\"399.6763\" y=\"-250.3\">(None, None, 128)</text>\n",
       "</g>\n",
       "<!-- 5336067096&#45;&gt;5430519568 -->\n",
       "<g class=\"edge\" id=\"edge2\">\n",
       "<title>5336067096-&gt;5430519568</title>\n",
       "<path d=\"M234.1743,-324.3664C234.1743,-316.1516 234.1743,-306.6579 234.1743,-297.7252\" fill=\"none\" stroke=\"#000000\"/>\n",
       "<polygon fill=\"#000000\" points=\"237.6744,-297.6068 234.1743,-287.6068 230.6744,-297.6069 237.6744,-297.6068\" stroke=\"#000000\"/>\n",
       "</g>\n",
       "<!-- 5411748608 -->\n",
       "<g class=\"node\" id=\"node3\">\n",
       "<title>5411748608</title>\n",
       "<polygon fill=\"none\" points=\"0,-162.5 0,-206.5 468.3486,-206.5 468.3486,-162.5 0,-162.5\" stroke=\"#000000\"/>\n",
       "<text fill=\"#000000\" font-family=\"Times,serif\" font-size=\"14.00\" text-anchor=\"middle\" x=\"145.8535\" y=\"-180.3\">global_max_pooling1d_1: GlobalMaxPooling1D</text>\n",
       "<polyline fill=\"none\" points=\"291.707,-162.5 291.707,-206.5 \" stroke=\"#000000\"/>\n",
       "<text fill=\"#000000\" font-family=\"Times,serif\" font-size=\"14.00\" text-anchor=\"middle\" x=\"319.5415\" y=\"-191.3\">input:</text>\n",
       "<polyline fill=\"none\" points=\"291.707,-184.5 347.376,-184.5 \" stroke=\"#000000\"/>\n",
       "<text fill=\"#000000\" font-family=\"Times,serif\" font-size=\"14.00\" text-anchor=\"middle\" x=\"319.5415\" y=\"-169.3\">output:</text>\n",
       "<polyline fill=\"none\" points=\"347.376,-162.5 347.376,-206.5 \" stroke=\"#000000\"/>\n",
       "<text fill=\"#000000\" font-family=\"Times,serif\" font-size=\"14.00\" text-anchor=\"middle\" x=\"407.8623\" y=\"-191.3\">(None, None, 128)</text>\n",
       "<polyline fill=\"none\" points=\"347.376,-184.5 468.3486,-184.5 \" stroke=\"#000000\"/>\n",
       "<text fill=\"#000000\" font-family=\"Times,serif\" font-size=\"14.00\" text-anchor=\"middle\" x=\"407.7002\" y=\"-169.3\">(None, 128)</text>\n",
       "</g>\n",
       "<!-- 5430519568&#45;&gt;5411748608 -->\n",
       "<g class=\"edge\" id=\"edge3\">\n",
       "<title>5430519568-&gt;5411748608</title>\n",
       "<path d=\"M234.1743,-243.3664C234.1743,-235.1516 234.1743,-225.6579 234.1743,-216.7252\" fill=\"none\" stroke=\"#000000\"/>\n",
       "<polygon fill=\"#000000\" points=\"237.6744,-216.6068 234.1743,-206.6068 230.6744,-216.6069 237.6744,-216.6068\" stroke=\"#000000\"/>\n",
       "</g>\n",
       "<!-- 5411842872 -->\n",
       "<g class=\"node\" id=\"node4\">\n",
       "<title>5411842872</title>\n",
       "<polygon fill=\"none\" points=\"112.3896,-81.5 112.3896,-125.5 355.959,-125.5 355.959,-81.5 112.3896,-81.5\" stroke=\"#000000\"/>\n",
       "<text fill=\"#000000\" font-family=\"Times,serif\" font-size=\"14.00\" text-anchor=\"middle\" x=\"164.5156\" y=\"-99.3\">dense_9: Dense</text>\n",
       "<polyline fill=\"none\" points=\"216.6416,-81.5 216.6416,-125.5 \" stroke=\"#000000\"/>\n",
       "<text fill=\"#000000\" font-family=\"Times,serif\" font-size=\"14.00\" text-anchor=\"middle\" x=\"244.4761\" y=\"-110.3\">input:</text>\n",
       "<polyline fill=\"none\" points=\"216.6416,-103.5 272.3105,-103.5 \" stroke=\"#000000\"/>\n",
       "<text fill=\"#000000\" font-family=\"Times,serif\" font-size=\"14.00\" text-anchor=\"middle\" x=\"244.4761\" y=\"-88.3\">output:</text>\n",
       "<polyline fill=\"none\" points=\"272.3105,-81.5 272.3105,-125.5 \" stroke=\"#000000\"/>\n",
       "<text fill=\"#000000\" font-family=\"Times,serif\" font-size=\"14.00\" text-anchor=\"middle\" x=\"314.1348\" y=\"-110.3\">(None, 128)</text>\n",
       "<polyline fill=\"none\" points=\"272.3105,-103.5 355.959,-103.5 \" stroke=\"#000000\"/>\n",
       "<text fill=\"#000000\" font-family=\"Times,serif\" font-size=\"14.00\" text-anchor=\"middle\" x=\"314.1348\" y=\"-88.3\">(None, 64)</text>\n",
       "</g>\n",
       "<!-- 5411748608&#45;&gt;5411842872 -->\n",
       "<g class=\"edge\" id=\"edge4\">\n",
       "<title>5411748608-&gt;5411842872</title>\n",
       "<path d=\"M234.1743,-162.3664C234.1743,-154.1516 234.1743,-144.6579 234.1743,-135.7252\" fill=\"none\" stroke=\"#000000\"/>\n",
       "<polygon fill=\"#000000\" points=\"237.6744,-135.6068 234.1743,-125.6068 230.6744,-135.6069 237.6744,-135.6068\" stroke=\"#000000\"/>\n",
       "</g>\n",
       "<!-- 5435005080 -->\n",
       "<g class=\"node\" id=\"node5\">\n",
       "<title>5435005080</title>\n",
       "<polygon fill=\"none\" points=\"112.3896,-.5 112.3896,-44.5 355.959,-44.5 355.959,-.5 112.3896,-.5\" stroke=\"#000000\"/>\n",
       "<text fill=\"#000000\" font-family=\"Times,serif\" font-size=\"14.00\" text-anchor=\"middle\" x=\"168.0156\" y=\"-18.3\">dense_10: Dense</text>\n",
       "<polyline fill=\"none\" points=\"223.6416,-.5 223.6416,-44.5 \" stroke=\"#000000\"/>\n",
       "<text fill=\"#000000\" font-family=\"Times,serif\" font-size=\"14.00\" text-anchor=\"middle\" x=\"251.4761\" y=\"-29.3\">input:</text>\n",
       "<polyline fill=\"none\" points=\"223.6416,-22.5 279.3105,-22.5 \" stroke=\"#000000\"/>\n",
       "<text fill=\"#000000\" font-family=\"Times,serif\" font-size=\"14.00\" text-anchor=\"middle\" x=\"251.4761\" y=\"-7.3\">output:</text>\n",
       "<polyline fill=\"none\" points=\"279.3105,-.5 279.3105,-44.5 \" stroke=\"#000000\"/>\n",
       "<text fill=\"#000000\" font-family=\"Times,serif\" font-size=\"14.00\" text-anchor=\"middle\" x=\"317.6348\" y=\"-29.3\">(None, 64)</text>\n",
       "<polyline fill=\"none\" points=\"279.3105,-22.5 355.959,-22.5 \" stroke=\"#000000\"/>\n",
       "<text fill=\"#000000\" font-family=\"Times,serif\" font-size=\"14.00\" text-anchor=\"middle\" x=\"317.6348\" y=\"-7.3\">(None, 6)</text>\n",
       "</g>\n",
       "<!-- 5411842872&#45;&gt;5435005080 -->\n",
       "<g class=\"edge\" id=\"edge5\">\n",
       "<title>5411842872-&gt;5435005080</title>\n",
       "<path d=\"M234.1743,-81.3664C234.1743,-73.1516 234.1743,-63.6579 234.1743,-54.7252\" fill=\"none\" stroke=\"#000000\"/>\n",
       "<polygon fill=\"#000000\" points=\"237.6744,-54.6068 234.1743,-44.6068 230.6744,-54.6069 237.6744,-54.6068\" stroke=\"#000000\"/>\n",
       "</g>\n",
       "<!-- 5411746648 -->\n",
       "<g class=\"node\" id=\"node6\">\n",
       "<title>5411746648</title>\n",
       "<polygon fill=\"none\" points=\"191.4307,-405.5 191.4307,-441.5 276.918,-441.5 276.918,-405.5 191.4307,-405.5\" stroke=\"#000000\"/>\n",
       "<text fill=\"#000000\" font-family=\"Times,serif\" font-size=\"14.00\" text-anchor=\"middle\" x=\"234.1743\" y=\"-419.3\">5411746648</text>\n",
       "</g>\n",
       "<!-- 5411746648&#45;&gt;5336067096 -->\n",
       "<g class=\"edge\" id=\"edge1\">\n",
       "<title>5411746648-&gt;5336067096</title>\n",
       "<path d=\"M234.1743,-405.2521C234.1743,-397.3888 234.1743,-387.9498 234.1743,-378.9612\" fill=\"none\" stroke=\"#000000\"/>\n",
       "<polygon fill=\"#000000\" points=\"237.6744,-378.7376 234.1743,-368.7377 230.6744,-378.7377 237.6744,-378.7376\" stroke=\"#000000\"/>\n",
       "</g>\n",
       "</g>\n",
       "</svg>"
      ],
      "text/plain": [
       "<IPython.core.display.SVG object>"
      ]
     },
     "execution_count": 72,
     "metadata": {},
     "output_type": "execute_result"
    }
   ],
   "source": [
    "SVG(model_to_dot(model, show_shapes=True).create(prog='dot', format='svg'))"
   ]
  },
  {
   "cell_type": "code",
   "execution_count": 73,
   "metadata": {
    "ExecuteTime": {
     "end_time": "2018-12-01T17:57:51.778478Z",
     "start_time": "2018-12-01T17:57:51.709538Z"
    },
    "collapsed": true
   },
   "outputs": [],
   "source": [
    "# Compile model\n",
    "model.compile(optimizer='adam', loss='binary_crossentropy', metrics=['accuracy'])"
   ]
  },
  {
   "cell_type": "code",
   "execution_count": 74,
   "metadata": {
    "ExecuteTime": {
     "end_time": "2018-12-01T17:57:51.793350Z",
     "start_time": "2018-12-01T17:57:51.781202Z"
    }
   },
   "outputs": [
    {
     "name": "stdout",
     "output_type": "stream",
     "text": [
      "_________________________________________________________________\n",
      "Layer (type)                 Output Shape              Param #   \n",
      "=================================================================\n",
      "embedding_9 (Embedding)      (None, None, 50)          1000000   \n",
      "_________________________________________________________________\n",
      "bidirectional_5 (Bidirection (None, None, 128)         58880     \n",
      "_________________________________________________________________\n",
      "global_max_pooling1d_1 (Glob (None, 128)               0         \n",
      "_________________________________________________________________\n",
      "dense_9 (Dense)              (None, 64)                8256      \n",
      "_________________________________________________________________\n",
      "dense_10 (Dense)             (None, 6)                 390       \n",
      "=================================================================\n",
      "Total params: 1,067,526\n",
      "Trainable params: 1,067,526\n",
      "Non-trainable params: 0\n",
      "_________________________________________________________________\n"
     ]
    }
   ],
   "source": [
    "# Show model\n",
    "model.summary()"
   ]
  },
  {
   "cell_type": "code",
   "execution_count": 75,
   "metadata": {
    "ExecuteTime": {
     "end_time": "2018-12-01T19:10:45.685208Z",
     "start_time": "2018-12-01T17:57:51.798478Z"
    }
   },
   "outputs": [
    {
     "name": "stdout",
     "output_type": "stream",
     "text": [
      "Train on 111699 samples, validate on 47872 samples\n",
      "Epoch 1/5\n",
      "111699/111699 [==============================] - 821s 7ms/step - loss: 0.0611 - acc: 0.9790 - val_loss: 0.0483 - val_acc: 0.9821\n",
      "Epoch 2/5\n",
      "111699/111699 [==============================] - 785s 7ms/step - loss: 0.0453 - acc: 0.9830 - val_loss: 0.0449 - val_acc: 0.9832\n",
      "Epoch 3/5\n",
      "111699/111699 [==============================] - 826s 7ms/step - loss: 0.0407 - acc: 0.9841 - val_loss: 0.0452 - val_acc: 0.9830\n",
      "Epoch 4/5\n",
      "111699/111699 [==============================] - 958s 9ms/step - loss: 0.0374 - acc: 0.9851 - val_loss: 0.0449 - val_acc: 0.9834\n",
      "Epoch 5/5\n",
      "111699/111699 [==============================] - 981s 9ms/step - loss: 0.0348 - acc: 0.9859 - val_loss: 0.0467 - val_acc: 0.9828\n"
     ]
    }
   ],
   "source": [
    "# Fit model\n",
    "history = model.fit(\n",
    "    X_train, y_train, epochs=epochs, batch_size=batch_size, validation_data=(X_val, y_val))"
   ]
  },
  {
   "cell_type": "code",
   "execution_count": 76,
   "metadata": {
    "ExecuteTime": {
     "end_time": "2018-12-01T19:10:47.900782Z",
     "start_time": "2018-12-01T19:10:45.691825Z"
    },
    "collapsed": true
   },
   "outputs": [],
   "source": [
    "model.save_weights('../data/work/complete_lstm.h5')"
   ]
  },
  {
   "cell_type": "code",
   "execution_count": 77,
   "metadata": {
    "ExecuteTime": {
     "end_time": "2018-12-01T19:10:48.273011Z",
     "start_time": "2018-12-01T19:10:47.903540Z"
    }
   },
   "outputs": [
    {
     "data": {
      "image/png": "[encoded data removed]",
      "text/plain": [
       "<matplotlib.figure.Figure at 0x142a24e48>"
      ]
     },
     "metadata": {},
     "output_type": "display_data"
    },
    {
     "data": {
      "image/png": "[encoded data removed]",
      "text/plain": [
       "<matplotlib.figure.Figure at 0x145f79908>"
      ]
     },
     "metadata": {},
     "output_type": "display_data"
    }
   ],
   "source": [
    "plot_history(history)"
   ]
  }
 ],
 "metadata": {
  "hide_input": false,
  "kernelspec": {
   "display_name": "Python [default]",
   "language": "python",
   "name": "python3"
  },
  "language_info": {
   "codemirror_mode": {
    "name": "ipython",
    "version": 3
   },
   "file_extension": ".py",
   "mimetype": "text/x-python",
   "name": "python",
   "nbconvert_exporter": "python",
   "pygments_lexer": "ipython3",
   "version": "3.6.3"
  },
  "toc": {
   "colors": {
    "hover_highlight": "#DAA520",
    "running_highlight": "#FF0000",
    "selected_highlight": "#FFD700"
   },
   "moveMenuLeft": true,
   "nav_menu": {
    "height": "12px",
    "width": "252px"
   },
   "navigate_menu": true,
   "number_sections": true,
   "sideBar": true,
   "skip_h1_title": false,
   "threshold": 4,
   "toc_cell": false,
   "toc_position": {},
   "toc_section_display": "block",
   "toc_window_display": true,
   "widenNotebook": false
  },
  "varInspector": {
   "cols": {
    "lenName": 16,
    "lenType": 16,
    "lenVar": 40
   },
   "kernels_config": {
    "python": {
     "delete_cmd_postfix": "",
     "delete_cmd_prefix": "del ",
     "library": "var_list.py",
     "varRefreshCmd": "print(var_dic_list())"
    },
    "r": {
     "delete_cmd_postfix": ") ",
     "delete_cmd_prefix": "rm(",
     "library": "var_list.r",
     "varRefreshCmd": "cat(var_dic_list()) "
    }
   },
   "types_to_exclude": [
    "module",
    "function",
    "builtin_function_or_method",
    "instance",
    "_Feature"
   ],
   "window_display": false
  }
 },
 "nbformat": 4,
 "nbformat_minor": 2
}
